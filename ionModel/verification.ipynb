{
 "cells": [
  {
   "cell_type": "code",
   "execution_count": 1,
   "id": "7a9698c4",
   "metadata": {},
   "outputs": [],
   "source": [
    "import numpy as np\n",
    "import matplotlib.pyplot as plt\n",
    "import pandas as pd\n",
    "import csv\n",
    "import plotly.graph_objects as go\n",
    "from plotly.subplots import make_subplots\n",
    "from matplotlib.backends.backend_pdf import PdfPages\n",
    "\n",
    "from kernels import IonProb, IonRate, analyticalRate\n",
    "from field_functions import LaserField\n",
    "from __init__ import FourierTransform\n",
    "\n",
    "class AU:\n",
    "    meter = 5.2917720859e-11 # atomic unit of length in meters\n",
    "    nm = 5.2917721e-2 # atomic unit of length in nanometres\n",
    "    second = 2.418884328e-17 # atomic unit of time in seconds\n",
    "    fs = 2.418884328e-2 # atomic unit of time in femtoseconds\n",
    "    Joule = 4.359743935e-18 # atomic unit of energy in Joules\n",
    "    eV = 27.21138383 # atomic unit of energy in electronvolts\n",
    "    Volts_per_meter = 5.142206313e+11 # atomic unit of electric field in V/m\n",
    "    Volts_per_Angstrom = 51.42206313 # atomic unit of electric field in V/Angström\n",
    "    speed_of_light = 137.035999 # vacuum speed of light in atomic units\n",
    "    Coulomb = 1.60217646e-19 # atomic unit of electric charge in Coulombs\n",
    "    PW_per_cm2_au = 0.02849451308 # PW/cm^2 in atomic units\n",
    "AtomicUnits=AU"
   ]
  },
  {
   "cell_type": "code",
   "execution_count": null,
   "id": "c0168a5d",
   "metadata": {},
   "outputs": [],
   "source": [
    "file_params = [\n",
    "    (\"850nm_350nm_1.25e+14\", 850, 1.25e14, 350, 1e10, 0.93, 0, -np.pi/2),\n",
    "    # (\"850nm_350nm_7.5e+13\", 850, 7.50e13, 350, 6.00e09, 0.93, 0, -np.pi/2),\n",
    "    # (\"900nm_320nm_5e+14\", 900, 5e14, 320, 4e10, 0.75, 0, -np.pi/2),\n",
    "    # (\"1200nm_320nm_1e+14\", 1200, 1e14, 320, 4e10, 0.75, 0, -np.pi/2),\n",
    "    # (\"900nm_250nm_8e+13\", 900, 8e13, 250, 6e8, 0.58, 0, -np.pi/2),\n",
    "    # (\"900nm_250nm_9e+13\", 900, 9e13, 250, 6e8, 0.58, 0, -np.pi/2),\n",
    "    # (\"900nm_250nm_1e+14\", 900, 1e14, 250, 6e8, 0.58, 0, -np.pi/2),\n",
    "    # (\"900nm_250nm_1.1e+14\", 900, 1.1e14, 250, 6e8, 0.58, 0, -np.pi/2),\n",
    "]\n",
    "\n",
    "params = {'E_g': 0.5, 'αPol': 4.51, 'tau': 2.849306230484045, 'e1': 2.2807090369952894, 't0': 0.1, 't1': 3.043736601676354, 't2': 7.270940402611973, 'e2': 0, 't3': 0, 't4': 1, \"div_p\":2**-4, \"div_theta\":1}\n",
    "\n",
    "\n",
    "for file_name, lam0_pump, I_pump, lam0_probe, I_probe, FWHM_probe, cep_pump, cep_probe in file_params:\n",
    "    laser_pulses = LaserField(cache_results=True)\n",
    "    laser_pulses.add_pulse(lam0_pump, I_pump, cep_pump, lam0_pump/ AtomicUnits.nm / AtomicUnits.speed_of_light)\n",
    "    t_min, t_max = laser_pulses.get_time_interval()\n",
    "    time_recon= np.arange(t_min, t_max+1, 1)\n",
    "\n",
    "\n",
    "    ion_na_rate_SFA = IonRate(time_recon, laser_pulses, params, dT=0.25/16, kernel_type='exact_SFA')\n",
    "    ion_na_rate_GASFIR = IonRate(time_recon, laser_pulses, params, dT=0.25/16, kernel_type='GASFIR')"
   ]
  },
  {
   "cell_type": "code",
   "execution_count": null,
   "id": "e28a0d98",
   "metadata": {},
   "outputs": [],
   "source": [
    "fig, ax = plt.subplots(figsize=(8, 6))\n",
    "ax.plot(time_recon, ion_na_rate_SFA, label='SFA', color='blue')\n",
    "\n",
    "ax.plot(time_recon, ion_na_rate_GASFIR, label='GASFIR', color='red')\n",
    "ax.set_xlabel('Time (a.u.)')\n",
    "ax.set_ylabel('Ionization Rate (a.u.)')\n",
    "ax.set_title(f'Ionization Rate Comparison for {file_name}')\n",
    "ax.legend()\n",
    "plt.grid()\n",
    "plt.tight_layout()\n",
    "plt.savefig(f'ionization_rate_comparison_{file_name}.pdf')"
   ]
  }
 ],
 "metadata": {
  "kernelspec": {
   "display_name": "Python 3",
   "language": "python",
   "name": "python3"
  },
  "language_info": {
   "codemirror_mode": {
    "name": "ipython",
    "version": 3
   },
   "file_extension": ".py",
   "mimetype": "text/x-python",
   "name": "python",
   "nbconvert_exporter": "python",
   "pygments_lexer": "ipython3",
   "version": "3.10.12"
  }
 },
 "nbformat": 4,
 "nbformat_minor": 5
}
