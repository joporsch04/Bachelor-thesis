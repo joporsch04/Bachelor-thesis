{
 "cells": [
  {
   "cell_type": "code",
   "execution_count": 27,
   "id": "7a9698c4",
   "metadata": {},
   "outputs": [
    {
     "name": "stdout",
     "output_type": "stream",
     "text": [
      "The autoreload extension is already loaded. To reload it, use:\n",
      "  %reload_ext autoreload\n"
     ]
    }
   ],
   "source": [
    "%load_ext autoreload\n",
    "import numpy as np\n",
    "import matplotlib.pyplot as plt\n",
    "import pandas as pd\n",
    "import csv\n",
    "import plotly.graph_objects as go\n",
    "from plotly.subplots import make_subplots\n",
    "from matplotlib.backends.backend_pdf import PdfPages\n",
    "from scipy.integrate import simpson\n",
    "from kernels import IonProb, IonRate, analyticalRate\n",
    "from field_functions import LaserField\n",
    "from __init__ import FourierTransform\n",
    "\n",
    "class AU:\n",
    "    meter = 5.2917720859e-11 # atomic unit of length in meters\n",
    "    nm = 5.2917721e-2 # atomic unit of length in nanometres\n",
    "    second = 2.418884328e-17 # atomic unit of time in seconds\n",
    "    fs = 2.418884328e-2 # atomic unit of time in femtoseconds\n",
    "    Joule = 4.359743935e-18 # atomic unit of energy in Joules\n",
    "    eV = 27.21138383 # atomic unit of energy in electronvolts\n",
    "    Volts_per_meter = 5.142206313e+11 # atomic unit of electric field in V/m\n",
    "    Volts_per_Angstrom = 51.42206313 # atomic unit of electric field in V/Angström\n",
    "    speed_of_light = 137.035999 # vacuum speed of light in atomic units\n",
    "    Coulomb = 1.60217646e-19 # atomic unit of electric charge in Coulombs\n",
    "    PW_per_cm2_au = 0.02849451308 # PW/cm^2 in atomic units\n",
    "AtomicUnits=AU\n",
    "\n",
    "\n",
    "file_params = [\n",
    "    (\"850nm_1e+14\", 850, 1e14, 350, 1e10, 1, 0, 0),\n",
    "    #(\"850nm_1e+14\", 850, 1e14, 350, 1e10, 1, 0, -np.pi/2),\n",
    "    # (\"850nm_350nm_7.5e+13\", 850, 7.50e13, 350, 6.00e09, 0.93, 0, -np.pi/2),\n",
    "    # (\"900nm_320nm_5e+14\", 900, 5e14, 320, 4e10, 0.75, 0, -np.pi/2),\n",
    "    # (\"1200nm_320nm_1e+14\", 1200, 1e14, 320, 4e10, 0.75, 0, -np.pi/2),\n",
    "    # (\"900nm_250nm_8e+13\", 900, 8e13, 250, 6e8, 0.58, 0, -np.pi/2),\n",
    "    # (\"900nm_250nm_9e+13\", 900, 9e13, 250, 6e8, 0.58, 0, -np.pi/2),\n",
    "    # (\"900nm_250nm_1e+14\", 900, 1e14, 250, 6e8, 0.58, 0, -np.pi/2),\n",
    "    # (\"900nm_250nm_1.1e+14\", 900, 1.1e14, 250, 6e8, 0.58, 0, -np.pi/2),\n",
    "]\n",
    "\n",
    "params = {'E_g': 0.5, 'αPol': 4.51, \"div_p\":2**-4*2, \"div_theta\":1}"
   ]
  },
  {
   "cell_type": "code",
   "execution_count": 3,
   "id": "f48feb24",
   "metadata": {},
   "outputs": [],
   "source": [
    "%autoreload\n",
    "for file_name, lam0_pump, I_pump, lam0_probe, I_probe, FWHM_probe, cep_pump, cep_probe in file_params:\n",
    "    laser_pulses = LaserField(cache_results=True)\n",
    "    laser_pulses.add_pulse(lam0_pump, I_pump, cep_pump, lam0_pump/ AtomicUnits.nm / AtomicUnits.speed_of_light)\n",
    "    t_min, t_max = laser_pulses.get_time_interval()\n",
    "    time_recon= np.arange(int(t_min), int(t_max)+1, 1.)\n",
    "\n",
    "\n",
    "    ion_na_rate_GASFIR = IonRate(time_recon, laser_pulses, params, dT=0.5, kernel_type='GASFIR')\n",
    "    laser_pulses.reset()"
   ]
  },
  {
   "cell_type": "code",
   "execution_count": 29,
   "id": "81465617",
   "metadata": {},
   "outputs": [],
   "source": [
    "%autoreload\n",
    "for file_name, lam0_pump, I_pump, lam0_probe, I_probe, FWHM_probe, cep_pump, cep_probe in file_params:\n",
    "    laser_pulses = LaserField(cache_results=True)\n",
    "    laser_pulses.add_pulse(lam0_pump, I_pump, cep_pump, lam0_pump/ AtomicUnits.nm / AtomicUnits.speed_of_light)\n",
    "    t_min, t_max = laser_pulses.get_time_interval()\n",
    "    time_recon= np.arange(int(t_min), int(t_max)+1, 0.5)\n",
    "\n",
    "    \n",
    "    ion_na_rate_SFA = IonRate(time_recon, laser_pulses, params, dT=0.5, kernel_type='exact_SFA')\n",
    "    laser_pulses.reset()"
   ]
  },
  {
   "cell_type": "code",
   "execution_count": 16,
   "id": "c0168a5d",
   "metadata": {},
   "outputs": [],
   "source": [
    "%autoreload\n",
    "for file_name, lam0_pump, I_pump, lam0_probe, I_probe, FWHM_probe, cep_pump, cep_probe in file_params:\n",
    "    laser_pulses = LaserField(cache_results=True)\n",
    "    laser_pulses.add_pulse(lam0_pump, I_pump, cep_pump, lam0_pump/ AtomicUnits.nm / AtomicUnits.speed_of_light)\n",
    "    t_min, t_max = laser_pulses.get_time_interval()\n",
    "    time_recon= np.arange(int(t_min), int(t_max)+1, 1.)\n",
    "    # to save computation time we can neglect cross terms!! just look at formula for <p|d|psi> there is i^l and because of the transition rules l has to be +-1 so if we sum over all states and one is complex conjugatet and we sum it up they will cancel out !!! but be carefull we only can use states that are allowed theoretically\n",
    "\n",
    "\n",
    "    ion_na_rate_SFA_excited_tRecX = IonRate(time_recon, laser_pulses, params, dT=0.5, kernel_type='exact_SFA', excitedStates=3, coeffType=\"trecx\") #it uses the wrong coefficients for the calculation, it uses the 2s state for excitedSTates=2 and 2s is not even there\n",
    "    laser_pulses.reset()"
   ]
  },
  {
   "cell_type": "code",
   "execution_count": 11,
   "id": "3b3bdc84",
   "metadata": {},
   "outputs": [
    {
     "name": "stdout",
     "output_type": "stream",
     "text": [
      "Basis states (6): [(1, 0, 0), (2, 0, 0), (2, 1, 0), (3, 0, 0), (3, 1, 0), (3, 2, 0)]\n"
     ]
    },
    {
     "ename": "TypeError",
     "evalue": "'NoneType' object is not subscriptable",
     "output_type": "error",
     "traceback": [
      "\u001b[0;31m---------------------------------------------------------------------------\u001b[0m",
      "\u001b[0;31mTypeError\u001b[0m                                 Traceback (most recent call last)",
      "Cell \u001b[0;32mIn[11], line 10\u001b[0m\n\u001b[1;32m      6\u001b[0m time_recon\u001b[38;5;241m=\u001b[39m np\u001b[38;5;241m.\u001b[39marange(\u001b[38;5;28mint\u001b[39m(t_min), \u001b[38;5;28mint\u001b[39m(t_max)\u001b[38;5;241m+\u001b[39m\u001b[38;5;241m1\u001b[39m, \u001b[38;5;241m1.\u001b[39m)\n\u001b[1;32m      7\u001b[0m \u001b[38;5;66;03m# to save computation time we can neglect cross terms!! just look at formula for <p|d|psi> there is i^l and because of the transition rules l has to be +-1 so if we sum over all states and one is complex conjugatet and we sum it up they will cancel out !!! but be carefull we only can use states that are allowed theoretically\u001b[39;00m\n\u001b[0;32m---> 10\u001b[0m ion_na_rate_SFA_excited_numerical_velocity \u001b[38;5;241m=\u001b[39m \u001b[43mIonRate\u001b[49m\u001b[43m(\u001b[49m\u001b[43mtime_recon\u001b[49m\u001b[43m,\u001b[49m\u001b[43m \u001b[49m\u001b[43mlaser_pulses\u001b[49m\u001b[43m,\u001b[49m\u001b[43m \u001b[49m\u001b[43mparams\u001b[49m\u001b[43m,\u001b[49m\u001b[43m \u001b[49m\u001b[43mdT\u001b[49m\u001b[38;5;241;43m=\u001b[39;49m\u001b[38;5;241;43m0.5\u001b[39;49m\u001b[43m,\u001b[49m\u001b[43m \u001b[49m\u001b[43mkernel_type\u001b[49m\u001b[38;5;241;43m=\u001b[39;49m\u001b[38;5;124;43m'\u001b[39;49m\u001b[38;5;124;43mexact_SFA\u001b[39;49m\u001b[38;5;124;43m'\u001b[39;49m\u001b[43m,\u001b[49m\u001b[43m \u001b[49m\u001b[43mexcitedStates\u001b[49m\u001b[38;5;241;43m=\u001b[39;49m\u001b[38;5;241;43m3\u001b[39;49m\u001b[43m,\u001b[49m\u001b[43m \u001b[49m\u001b[43mcoeffType\u001b[49m\u001b[38;5;241;43m=\u001b[39;49m\u001b[38;5;124;43m\"\u001b[39;49m\u001b[38;5;124;43mnumerical\u001b[39;49m\u001b[38;5;124;43m\"\u001b[39;49m\u001b[43m,\u001b[49m\u001b[43m \u001b[49m\u001b[43mgauge\u001b[49m\u001b[38;5;241;43m=\u001b[39;49m\u001b[38;5;124;43m\"\u001b[39;49m\u001b[38;5;124;43mvelocity\u001b[39;49m\u001b[38;5;124;43m\"\u001b[39;49m\u001b[43m)\u001b[49m \u001b[38;5;66;03m#it uses the wrong coefficients for the calculation, it uses the 2s state for excitedSTates=2 and 2s is not even there\u001b[39;00m\n\u001b[1;32m     12\u001b[0m laser_pulses\u001b[38;5;241m.\u001b[39mreset()\n",
      "File \u001b[0;32m~/BachelorThesis/Bachelor-thesis/ionModel/python/kernels.py:299\u001b[0m, in \u001b[0;36mIonRate\u001b[0;34m(t_grid, laser_field, param_dict, dT, kernel_type, excitedStates, coeffType, gauge)\u001b[0m\n\u001b[1;32m    297\u001b[0m T_grid\u001b[38;5;241m=\u001b[39mnp\u001b[38;5;241m.\u001b[39marange(\u001b[38;5;241m0\u001b[39m, tau_injection\u001b[38;5;241m+\u001b[39mdT, dT, dtype\u001b[38;5;241m=\u001b[39mnp\u001b[38;5;241m.\u001b[39mfloat64)\n\u001b[1;32m    298\u001b[0m \u001b[38;5;28;01mif\u001b[39;00m (excitedStates\u001b[38;5;241m!=\u001b[39m\u001b[38;5;241m0\u001b[39m):\n\u001b[0;32m--> 299\u001b[0m     rate\u001b[38;5;241m=\u001b[39m\u001b[43mKernel_jit\u001b[49m\u001b[43m(\u001b[49m\u001b[43mt_grid\u001b[49m\u001b[43m,\u001b[49m\u001b[43m \u001b[49m\u001b[43mT_grid\u001b[49m\u001b[43m,\u001b[49m\u001b[43m \u001b[49m\u001b[43mlaser_field\u001b[49m\u001b[43m,\u001b[49m\u001b[43m \u001b[49m\u001b[43mparam_dict\u001b[49m\u001b[43m,\u001b[49m\u001b[43m \u001b[49m\u001b[43mkernel_type\u001b[49m\u001b[38;5;241;43m=\u001b[39;49m\u001b[43mkernel_type\u001b[49m\u001b[43m,\u001b[49m\u001b[43m \u001b[49m\u001b[43mexcitedStates\u001b[49m\u001b[38;5;241;43m=\u001b[39;49m\u001b[43mexcitedStates\u001b[49m\u001b[43m,\u001b[49m\u001b[43m \u001b[49m\u001b[43mcoeffType\u001b[49m\u001b[38;5;241;43m=\u001b[39;49m\u001b[43mcoeffType\u001b[49m\u001b[43m,\u001b[49m\u001b[43m \u001b[49m\u001b[43mgauge\u001b[49m\u001b[38;5;241;43m=\u001b[39;49m\u001b[43mgauge\u001b[49m\u001b[43m)\u001b[49m\n\u001b[1;32m    300\u001b[0m \u001b[38;5;28;01melse\u001b[39;00m:\n\u001b[1;32m    301\u001b[0m     f, phase\u001b[38;5;241m=\u001b[39mKernel_jit(t_grid, T_grid, laser_field, param_dict, kernel_type\u001b[38;5;241m=\u001b[39mkernel_type, excitedStates\u001b[38;5;241m=\u001b[39mexcitedStates, coeffType\u001b[38;5;241m=\u001b[39mcoeffType, gauge\u001b[38;5;241m=\u001b[39mgauge)\n",
      "File \u001b[0;32m~/BachelorThesis/Bachelor-thesis/ionModel/python/kernels.py:273\u001b[0m, in \u001b[0;36mKernel_jit\u001b[0;34m(t_grid, T_grid, laser_field, param_dict, kernel_type, excitedStates, coeffType, gauge)\u001b[0m\n\u001b[1;32m    271\u001b[0m p, theta \u001b[38;5;241m=\u001b[39m meshgrid(p_grid, Theta_grid)\n\u001b[1;32m    272\u001b[0m \u001b[38;5;28;01mif\u001b[39;00m (excitedStates\u001b[38;5;241m!=\u001b[39m\u001b[38;5;241m0\u001b[39m):\n\u001b[0;32m--> 273\u001b[0m     \u001b[38;5;28;01mreturn\u001b[39;00m \u001b[43mexact_SFA_jit_helper\u001b[49m\u001b[43m(\u001b[49m\u001b[43mt\u001b[49m\u001b[43m,\u001b[49m\u001b[43m \u001b[49m\u001b[43mT\u001b[49m\u001b[43m,\u001b[49m\u001b[43m \u001b[49m\u001b[43mparams\u001b[49m\u001b[43m,\u001b[49m\u001b[43m \u001b[49m\u001b[43mEF\u001b[49m\u001b[43m,\u001b[49m\u001b[43m \u001b[49m\u001b[43mEF2\u001b[49m\u001b[43m,\u001b[49m\u001b[43m \u001b[49m\u001b[43mVP\u001b[49m\u001b[43m,\u001b[49m\u001b[43m \u001b[49m\u001b[43mintA\u001b[49m\u001b[43m,\u001b[49m\u001b[43m \u001b[49m\u001b[43mintA2\u001b[49m\u001b[43m,\u001b[49m\u001b[43m \u001b[49m\u001b[43mdT\u001b[49m\u001b[43m,\u001b[49m\u001b[43m \u001b[49m\u001b[43mN\u001b[49m\u001b[43m,\u001b[49m\u001b[43m \u001b[49m\u001b[43mn\u001b[49m\u001b[43m,\u001b[49m\u001b[43m \u001b[49m\u001b[43mnmin\u001b[49m\u001b[43m,\u001b[49m\u001b[43m \u001b[49m\u001b[43mTi_ar\u001b[49m\u001b[43m,\u001b[49m\u001b[43m \u001b[49m\u001b[43mp_grid\u001b[49m\u001b[43m,\u001b[49m\u001b[43m \u001b[49m\u001b[43mTheta_grid\u001b[49m\u001b[43m,\u001b[49m\u001b[43m \u001b[49m\u001b[43mwindow\u001b[49m\u001b[43m,\u001b[49m\u001b[43m \u001b[49m\u001b[43mp\u001b[49m\u001b[43m,\u001b[49m\u001b[43m \u001b[49m\u001b[43mtheta\u001b[49m\u001b[43m,\u001b[49m\u001b[43m \u001b[49m\u001b[43mexcitedStates\u001b[49m\u001b[38;5;241;43m=\u001b[39;49m\u001b[43mexcitedStates\u001b[49m\u001b[43m,\u001b[49m\u001b[43m \u001b[49m\u001b[43mcoeffType\u001b[49m\u001b[38;5;241;43m=\u001b[39;49m\u001b[43mcoeffType\u001b[49m\u001b[43m,\u001b[49m\u001b[43m \u001b[49m\u001b[43mgauge\u001b[49m\u001b[38;5;241;43m=\u001b[39;49m\u001b[43mgauge\u001b[49m\u001b[43m)\u001b[49m\n\u001b[1;32m    274\u001b[0m \u001b[38;5;28;01melse\u001b[39;00m:\n\u001b[1;32m    275\u001b[0m     f0, phase0 \u001b[38;5;241m=\u001b[39m exact_SFA_jit_helper(t, T, params, EF, EF2, VP, intA, intA2, dT, N, n, nmin, Ti_ar, p_grid, Theta_grid, window, p, theta, excitedStates\u001b[38;5;241m=\u001b[39mexcitedStates, coeffType\u001b[38;5;241m=\u001b[39mcoeffType, gauge\u001b[38;5;241m=\u001b[39mgauge)\n",
      "File \u001b[0;32m~/BachelorThesis/Bachelor-thesis/ionModel/python/kernels.py:142\u001b[0m, in \u001b[0;36mexact_SFA_jit_helper\u001b[0;34m(tar, Tar, params, EF, EF2, VP, intA, intA2, dT, N, n, nmin, Ti_ar, p_grid, Theta_grid, window, p, theta, excitedStates, coeffType, gauge)\u001b[0m\n\u001b[1;32m    140\u001b[0m f0 \u001b[38;5;241m=\u001b[39m np\u001b[38;5;241m.\u001b[39mzeros((Tar\u001b[38;5;241m.\u001b[39msize, tar\u001b[38;5;241m.\u001b[39msize), dtype\u001b[38;5;241m=\u001b[39mnp\u001b[38;5;241m.\u001b[39mcdouble)\n\u001b[1;32m    141\u001b[0m phase0 \u001b[38;5;241m=\u001b[39m np\u001b[38;5;241m.\u001b[39mzeros((Tar\u001b[38;5;241m.\u001b[39msize, tar\u001b[38;5;241m.\u001b[39msize), dtype\u001b[38;5;241m=\u001b[39mnp\u001b[38;5;241m.\u001b[39mcdouble)\n\u001b[0;32m--> 142\u001b[0m cLeft \u001b[38;5;241m=\u001b[39m \u001b[43mcoefficients\u001b[49m\u001b[43m[\u001b[49m\u001b[43mstate_idx\u001b[49m\u001b[43m,\u001b[49m\u001b[43m \u001b[49m\u001b[43m:\u001b[49m\u001b[43m]\u001b[49m\n\u001b[1;32m    143\u001b[0m cRight \u001b[38;5;241m=\u001b[39m coefficients[state_idx, :]\n\u001b[1;32m    144\u001b[0m phaseleft \u001b[38;5;241m=\u001b[39m np\u001b[38;5;241m.\u001b[39munwrap(np\u001b[38;5;241m.\u001b[39mangle(cLeft))\n",
      "\u001b[0;31mTypeError\u001b[0m: 'NoneType' object is not subscriptable"
     ]
    }
   ],
   "source": [
    "%autoreload\n",
    "for file_name, lam0_pump, I_pump, lam0_probe, I_probe, FWHM_probe, cep_pump, cep_probe in file_params:\n",
    "    laser_pulses = LaserField(cache_results=True)\n",
    "    laser_pulses.add_pulse(lam0_pump, I_pump, cep_pump, lam0_pump/ AtomicUnits.nm / AtomicUnits.speed_of_light)\n",
    "    t_min, t_max = laser_pulses.get_time_interval()\n",
    "    time_recon= np.arange(int(t_min), int(t_max)+1, 1.)\n",
    "    # to save computation time we can neglect cross terms!! just look at formula for <p|d|psi> there is i^l and because of the transition rules l has to be +-1 so if we sum over all states and one is complex conjugatet and we sum it up they will cancel out !!! but be carefull we only can use states that are allowed theoretically\n",
    "\n",
    "\n",
    "    ion_na_rate_SFA_excited_numerical_velocity = IonRate(time_recon, laser_pulses, params, dT=0.5, kernel_type='exact_SFA', excitedStates=3, coeffType=\"numerical\", gauge=\"velocity\") #it uses the wrong coefficients for the calculation, it uses the 2s state for excitedSTates=2 and 2s is not even there\n",
    "\n",
    "    laser_pulses.reset()"
   ]
  },
  {
   "cell_type": "code",
   "execution_count": 31,
   "id": "b47c982d",
   "metadata": {},
   "outputs": [
    {
     "name": "stdout",
     "output_type": "stream",
     "text": [
      "Basis states (6): [(1, 0, 0), (2, 0, 0), (2, 1, 0), (3, 0, 0), (3, 1, 0), (3, 2, 0)]\n"
     ]
    }
   ],
   "source": [
    "%autoreload\n",
    "for file_name, lam0_pump, I_pump, lam0_probe, I_probe, FWHM_probe, cep_pump, cep_probe in file_params:\n",
    "    laser_pulses = LaserField(cache_results=True)\n",
    "    laser_pulses.add_pulse(lam0_pump, I_pump, cep_pump, lam0_pump/ AtomicUnits.nm / AtomicUnits.speed_of_light)\n",
    "    t_min, t_max = laser_pulses.get_time_interval()\n",
    "    time_recon= np.arange(int(t_min), int(t_max)+1, 0.5)\n",
    "    # to save computation time we can neglect cross terms!! just look at formula for <p|d|psi> there is i^l and because of the transition rules l has to be +-1 so if we sum over all states and one is complex conjugatet and we sum it up they will cancel out !!! but be carefull we only can use states that are allowed theoretically\n",
    "\n",
    "\n",
    "    ion_na_rate_SFA_excited_numerical_length = IonRate(time_recon, laser_pulses, params, dT=0.5, kernel_type='exact_SFA', excitedStates=3, coeffType=\"numerical\", gauge=\"length\") #it uses the wrong coefficients for the calculation, it uses the 2s state for excitedSTates=2 and 2s is not even there\n",
    "\n",
    "    laser_pulses.reset()"
   ]
  },
  {
   "cell_type": "code",
   "execution_count": 24,
   "id": "e28a0d98",
   "metadata": {},
   "outputs": [],
   "source": [
    "fig = go.Figure()\n",
    "#fig.add_trace(go.Scatter(x=time_recon, y=np.real(ion_na_rate_SFA_excited_tRecX), mode='lines', name='SFA_excited_tRecX'))\n",
    "#fig.add_trace(go.Scatter(x=time_recon, y=np.real(ion_na_rate_SFA_excited_numerical_velocity), mode='lines', name='SFA_excited_numerical_velocity'))\n",
    "fig.add_trace(go.Scatter(x=time_recon, y=np.real(ion_na_rate_SFA_excited_numerical_length), mode='lines', name='SFA_excited_numerical_length'))\n",
    "fig.add_trace(go.Scatter(x=time_recon, y=ion_na_rate_SFA, mode='lines', name='SFA'))\n",
    "\n",
    "fig.update_layout(\n",
    "    title=f'Ionization Rate Comparison for {file_name}',\n",
    "    xaxis_title='Time (a.u.)',\n",
    "    yaxis_title='Ionization Rate (a.u.)',\n",
    "    legend=dict(x=0.01, y=0.99),\n",
    "    template='plotly_white',\n",
    "    xaxis_range=[-100, 100],\n",
    "    width=800,\n",
    "    height=600\n",
    ")\n",
    "# truncate y-axis\n",
    "fig.show()"
   ]
  }
 ],
 "metadata": {
  "kernelspec": {
   "display_name": "Python 3",
   "language": "python",
   "name": "python3"
  },
  "language_info": {
   "codemirror_mode": {
    "name": "ipython",
    "version": 3
   },
   "file_extension": ".py",
   "mimetype": "text/x-python",
   "name": "python",
   "nbconvert_exporter": "python",
   "pygments_lexer": "ipython3",
   "version": "3.10.12"
  }
 },
 "nbformat": 4,
 "nbformat_minor": 5
}
