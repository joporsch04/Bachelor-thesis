{
 "cells": [
  {
   "cell_type": "code",
   "execution_count": 1,
   "id": "7a9698c4",
   "metadata": {},
   "outputs": [],
   "source": [
    "%load_ext autoreload\n",
    "%autoreload 2\n",
    "import numpy as np\n",
    "import os\n",
    "import plotly.graph_objects as go\n",
    "from kernels import IonRate\n",
    "from field_functions import LaserField\n",
    "from scipy.integrate import simpson\n",
    "\n",
    "from plotting import plotter\n",
    "\n",
    "class AU:\n",
    "    meter = 5.2917720859e-11 # atomic unit of length in meters\n",
    "    nm = 5.2917721e-2 # atomic unit of length in nanometres\n",
    "    second = 2.418884328e-17 # atomic unit of time in seconds\n",
    "    fs = 2.418884328e-2 # atomic unit of time in femtoseconds\n",
    "    Joule = 4.359743935e-18 # atomic unit of energy in Joules\n",
    "    eV = 27.21138383 # atomic unit of energy in electronvolts\n",
    "    Volts_per_meter = 5.142206313e+11 # atomic unit of electric field in V/m\n",
    "    Volts_per_Angstrom = 51.42206313 # atomic unit of electric field in V/Angström\n",
    "    speed_of_light = 137.035999 # vacuum speed of light in atomic units\n",
    "    Coulomb = 1.60217646e-19 # atomic unit of electric charge in Coulombs\n",
    "    PW_per_cm2_au = 0.02849451308 # PW/cm^2 in atomic units\n",
    "AtomicUnits=AU\n",
    "\n",
    "params = {\n",
    "    'E_g': 0.5, \n",
    "    'αPol': 4.51, \n",
    "    \"div_p\":2**-4*16, \n",
    "    \"div_theta\":1*4, \n",
    "    'lam0': 450, \n",
    "    'intensity': 8e13, \n",
    "    'cep': 0, \n",
    "    'excitedStates': 2, \n",
    "    'coeffType': 'trecx', \n",
    "    'gauge': 'length', \n",
    "    'get_p_only': True, \n",
    "    'only_c0_is_1_rest_normal': False, \n",
    "    'delay': None, \n",
    "    'plotting': True\n",
    "}\n",
    "\n",
    "# to save computation time we can neglect cross terms!! just look at formula for <p|d|psi> there is i^l and because of the transition rules l has to be +-1 so if we sum over all states and one is complex conjugatet and we sum it up they will cancel out !!! but be carefull we only can use states that are allowed theoretically\n",
    "# excitedStates = 0 should rduce only ground state with stark effect => if excitedStates != None"
   ]
  },
  {
   "cell_type": "code",
   "execution_count": 2,
   "id": "81465617",
   "metadata": {},
   "outputs": [],
   "source": [
    "%autoreload 2\n",
    "laser_pulses = LaserField(cache_results=True)\n",
    "laser_pulses.add_pulse(params['lam0'], params['intensity'], params['cep'], params['lam0']/ AtomicUnits.nm / AtomicUnits.speed_of_light)\n",
    "#laser_pulses.add_pulse(250, 8e9, -np.pi/2, 0.58/ AtomicUnits.fs, t0=-144.91)        #224.97\n",
    "t_min, t_max = laser_pulses.get_time_interval()\n",
    "time_recon= np.arange(int(t_min), int(t_max)+1, 0.5)\n",
    "\n",
    "rate_SFA = IonRate(time_recon, laser_pulses, params, dT=0.5/2, kernel_type='exact_SFA')\n",
    "laser_pulses.reset()"
   ]
  },
  {
   "cell_type": "code",
   "execution_count": 2,
   "id": "7ff90cbf",
   "metadata": {},
   "outputs": [
    {
     "name": "stdout",
     "output_type": "stream",
     "text": [
      "Basis states (6): [(1, 0, 0), (2, 0, 0), (2, 1, 0), (3, 0, 0), (3, 1, 0), (3, 2, 0)]\n"
     ]
    },
    {
     "ename": "TypeError",
     "evalue": "len() of unsized object",
     "output_type": "error",
     "traceback": [
      "\u001b[0;31m---------------------------------------------------------------------------\u001b[0m",
      "\u001b[0;31mTypeError\u001b[0m                                 Traceback (most recent call last)",
      "Cell \u001b[0;32mIn[2], line 8\u001b[0m\n\u001b[1;32m      5\u001b[0m t_min, t_max \u001b[38;5;241m=\u001b[39m laser_pulses\u001b[38;5;241m.\u001b[39mget_time_interval()\n\u001b[1;32m      6\u001b[0m time_recon_1\u001b[38;5;241m=\u001b[39m np\u001b[38;5;241m.\u001b[39marange(\u001b[38;5;28mint\u001b[39m(t_min), \u001b[38;5;28mint\u001b[39m(t_max)\u001b[38;5;241m+\u001b[39m\u001b[38;5;241m1\u001b[39m, \u001b[38;5;241m1.\u001b[39m)\n\u001b[0;32m----> 8\u001b[0m rateExcited_1 \u001b[38;5;241m=\u001b[39m \u001b[43mIonRate\u001b[49m\u001b[43m(\u001b[49m\u001b[43mtime_recon_1\u001b[49m\u001b[43m,\u001b[49m\u001b[43m \u001b[49m\u001b[43mlaser_pulses\u001b[49m\u001b[43m,\u001b[49m\u001b[43m \u001b[49m\u001b[43mparams\u001b[49m\u001b[43m,\u001b[49m\u001b[43m \u001b[49m\u001b[43mdT\u001b[49m\u001b[38;5;241;43m=\u001b[39;49m\u001b[38;5;241;43m0.5\u001b[39;49m\u001b[38;5;241;43m/\u001b[39;49m\u001b[38;5;241;43m2\u001b[39;49m\u001b[43m,\u001b[49m\u001b[43m \u001b[49m\u001b[43mkernel_type\u001b[49m\u001b[38;5;241;43m=\u001b[39;49m\u001b[38;5;124;43m'\u001b[39;49m\u001b[38;5;124;43mexact_SFA\u001b[39;49m\u001b[38;5;124;43m'\u001b[39;49m\u001b[43m,\u001b[49m\u001b[43m \u001b[49m\u001b[43mexcitedStates\u001b[49m\u001b[38;5;241;43m=\u001b[39;49m\u001b[38;5;28;43;01mTrue\u001b[39;49;00m\u001b[43m)\u001b[49m\n\u001b[1;32m      9\u001b[0m laser_pulses\u001b[38;5;241m.\u001b[39mreset()\n",
      "File \u001b[0;32m~/BachelorThesis/Bachelor-thesis/ionModel/python/kernels.py:323\u001b[0m, in \u001b[0;36mIonRate\u001b[0;34m(t_grid, laser_field, param_dict, dT, kernel_type, excitedStates)\u001b[0m\n\u001b[1;32m    321\u001b[0m T_grid\u001b[38;5;241m=\u001b[39mnp\u001b[38;5;241m.\u001b[39marange(\u001b[38;5;241m0\u001b[39m, tau_injection\u001b[38;5;241m+\u001b[39mdT, dT, dtype\u001b[38;5;241m=\u001b[39mnp\u001b[38;5;241m.\u001b[39mfloat64)\n\u001b[1;32m    322\u001b[0m \u001b[38;5;28;01mif\u001b[39;00m (excitedStates\u001b[38;5;241m!=\u001b[39m\u001b[38;5;241m0\u001b[39m):\n\u001b[0;32m--> 323\u001b[0m     rate\u001b[38;5;241m=\u001b[39m\u001b[43mKernel_jit\u001b[49m\u001b[43m(\u001b[49m\u001b[43mt_grid\u001b[49m\u001b[43m,\u001b[49m\u001b[43m \u001b[49m\u001b[43mT_grid\u001b[49m\u001b[43m,\u001b[49m\u001b[43m \u001b[49m\u001b[43mlaser_field\u001b[49m\u001b[43m,\u001b[49m\u001b[43m \u001b[49m\u001b[43mparam_dict\u001b[49m\u001b[43m,\u001b[49m\u001b[43m \u001b[49m\u001b[43mkernel_type\u001b[49m\u001b[38;5;241;43m=\u001b[39;49m\u001b[43mkernel_type\u001b[49m\u001b[43m,\u001b[49m\u001b[43m \u001b[49m\u001b[43mexcitedStates\u001b[49m\u001b[38;5;241;43m=\u001b[39;49m\u001b[43mexcitedStates\u001b[49m\u001b[43m)\u001b[49m\n\u001b[1;32m    324\u001b[0m \u001b[38;5;28;01melse\u001b[39;00m:\n\u001b[1;32m    325\u001b[0m     f, phase\u001b[38;5;241m=\u001b[39mKernel_jit(t_grid, T_grid, laser_field, param_dict, kernel_type\u001b[38;5;241m=\u001b[39mkernel_type, excitedStates\u001b[38;5;241m=\u001b[39mexcitedStates)\n",
      "File \u001b[0;32m~/BachelorThesis/Bachelor-thesis/ionModel/python/kernels.py:297\u001b[0m, in \u001b[0;36mKernel_jit\u001b[0;34m(t_grid, T_grid, laser_field, param_dict, kernel_type, excitedStates)\u001b[0m\n\u001b[1;32m    295\u001b[0m p, theta \u001b[38;5;241m=\u001b[39m meshgrid(p_grid, Theta_grid)\n\u001b[1;32m    296\u001b[0m \u001b[38;5;28;01mif\u001b[39;00m excitedStates:\n\u001b[0;32m--> 297\u001b[0m     \u001b[38;5;28;01mreturn\u001b[39;00m \u001b[43mexact_SFA_jit_helper\u001b[49m\u001b[43m(\u001b[49m\u001b[43mt\u001b[49m\u001b[43m,\u001b[49m\u001b[43m \u001b[49m\u001b[43mT\u001b[49m\u001b[43m,\u001b[49m\u001b[43m \u001b[49m\u001b[43mparams\u001b[49m\u001b[43m,\u001b[49m\u001b[43m \u001b[49m\u001b[43mEF\u001b[49m\u001b[43m,\u001b[49m\u001b[43m \u001b[49m\u001b[43mEF2\u001b[49m\u001b[43m,\u001b[49m\u001b[43m \u001b[49m\u001b[43mVP\u001b[49m\u001b[43m,\u001b[49m\u001b[43m \u001b[49m\u001b[43mintA\u001b[49m\u001b[43m,\u001b[49m\u001b[43m \u001b[49m\u001b[43mintA2\u001b[49m\u001b[43m,\u001b[49m\u001b[43m \u001b[49m\u001b[43mdT\u001b[49m\u001b[43m,\u001b[49m\u001b[43m \u001b[49m\u001b[43mN\u001b[49m\u001b[43m,\u001b[49m\u001b[43m \u001b[49m\u001b[43mn\u001b[49m\u001b[43m,\u001b[49m\u001b[43m \u001b[49m\u001b[43mnmin\u001b[49m\u001b[43m,\u001b[49m\u001b[43m \u001b[49m\u001b[43mTi_ar\u001b[49m\u001b[43m,\u001b[49m\u001b[43m \u001b[49m\u001b[43mp_grid\u001b[49m\u001b[43m,\u001b[49m\u001b[43m \u001b[49m\u001b[43mTheta_grid\u001b[49m\u001b[43m,\u001b[49m\u001b[43m \u001b[49m\u001b[43mwindow\u001b[49m\u001b[43m,\u001b[49m\u001b[43m \u001b[49m\u001b[43mp\u001b[49m\u001b[43m,\u001b[49m\u001b[43m \u001b[49m\u001b[43mtheta\u001b[49m\u001b[43m,\u001b[49m\u001b[43m \u001b[49m\u001b[43mexcitedStates_boolean\u001b[49m\u001b[38;5;241;43m=\u001b[39;49m\u001b[43mexcitedStates\u001b[49m\u001b[43m,\u001b[49m\u001b[43m \u001b[49m\u001b[43mlaser_pulses\u001b[49m\u001b[38;5;241;43m=\u001b[39;49m\u001b[43mlaser_field\u001b[49m\u001b[43m)\u001b[49m\n\u001b[1;32m    298\u001b[0m \u001b[38;5;28;01melse\u001b[39;00m:\n\u001b[1;32m    299\u001b[0m     f0, phase0 \u001b[38;5;241m=\u001b[39m exact_SFA_jit_helper(t, T, params, EF, EF2, VP, intA, intA2, dT, N, n, nmin, Ti_ar, p_grid, Theta_grid, window, p, theta, excitedStates_boolean\u001b[38;5;241m=\u001b[39mexcitedStates, laser_pulses\u001b[38;5;241m=\u001b[39mlaser_field)\n",
      "File \u001b[0;32m~/BachelorThesis/Bachelor-thesis/ionModel/python/kernels.py:146\u001b[0m, in \u001b[0;36mexact_SFA_jit_helper\u001b[0;34m(tar, Tar, params, EF, EF2, VP, intA, intA2, dT, N, n, nmin, Ti_ar, p_grid, Theta_grid, window, p, theta, laser_pulses, excitedStates_boolean)\u001b[0m\n\u001b[1;32m    144\u001b[0m         coefficients \u001b[38;5;241m=\u001b[39m get_coefficientstRecX(excitedStates, EF_grid, get_p_only, params)\n\u001b[1;32m    145\u001b[0m \u001b[38;5;28;01melif\u001b[39;00m coeffType \u001b[38;5;241m==\u001b[39m \u001b[38;5;124m\"\u001b[39m\u001b[38;5;124mnumerical\u001b[39m\u001b[38;5;124m\"\u001b[39m:\n\u001b[0;32m--> 146\u001b[0m     coefficients \u001b[38;5;241m=\u001b[39m \u001b[43mget_coefficientsNumerical\u001b[49m\u001b[43m(\u001b[49m\u001b[43mexcitedStates\u001b[49m\u001b[43m,\u001b[49m\u001b[43m \u001b[49m\u001b[43mEF_grid\u001b[49m\u001b[43m,\u001b[49m\u001b[43m \u001b[49m\u001b[43mget_p_only\u001b[49m\u001b[43m,\u001b[49m\u001b[43m \u001b[49m\u001b[43mgauge\u001b[49m\u001b[43m,\u001b[49m\u001b[43m \u001b[49m\u001b[43mlaser_pulses\u001b[49m\u001b[43m)\u001b[49m     \u001b[38;5;66;03m#16.6%\u001b[39;00m\n\u001b[1;32m    147\u001b[0m \u001b[38;5;28;01melse\u001b[39;00m:\n\u001b[1;32m    148\u001b[0m     \u001b[38;5;28;01mraise\u001b[39;00m \u001b[38;5;167;01mValueError\u001b[39;00m(\u001b[38;5;124m\"\u001b[39m\u001b[38;5;124mcoeffType must be either \u001b[39m\u001b[38;5;124m'\u001b[39m\u001b[38;5;124mtrecx\u001b[39m\u001b[38;5;124m'\u001b[39m\u001b[38;5;124m or \u001b[39m\u001b[38;5;124m'\u001b[39m\u001b[38;5;124mnumerical\u001b[39m\u001b[38;5;124m'\u001b[39m\u001b[38;5;124m\"\u001b[39m)\n",
      "File \u001b[0;32m~/BachelorThesis/Bachelor-thesis/ionModel/python/hydrogenTransitions.py:23\u001b[0m, in \u001b[0;36mget_coefficientsNumerical\u001b[0;34m(excitedStates, t_grid, get_only_p_states, Gauge, laser_pulses)\u001b[0m\n\u001b[1;32m     20\u001b[0m solver \u001b[38;5;241m=\u001b[39m HydrogenSolver(max_n\u001b[38;5;241m=\u001b[39m\u001b[38;5;241m3\u001b[39m, laser_pulses\u001b[38;5;241m=\u001b[39mlaser_pulses)\n\u001b[1;32m     21\u001b[0m \u001b[38;5;28mprint\u001b[39m(\u001b[38;5;124mf\u001b[39m\u001b[38;5;124m\"\u001b[39m\u001b[38;5;124mBasis states (\u001b[39m\u001b[38;5;132;01m{\u001b[39;00m\u001b[38;5;28mlen\u001b[39m(solver\u001b[38;5;241m.\u001b[39mstates)\u001b[38;5;132;01m}\u001b[39;00m\u001b[38;5;124m): \u001b[39m\u001b[38;5;132;01m{\u001b[39;00msolver\u001b[38;5;241m.\u001b[39mstates\u001b[38;5;132;01m}\u001b[39;00m\u001b[38;5;124m\"\u001b[39m)\n\u001b[0;32m---> 23\u001b[0m solutions \u001b[38;5;241m=\u001b[39m \u001b[43msolver\u001b[49m\u001b[38;5;241;43m.\u001b[39;49m\u001b[43msolve\u001b[49m\u001b[43m(\u001b[49m\u001b[43mgauge\u001b[49m\u001b[38;5;241;43m=\u001b[39;49m\u001b[43mGauge\u001b[49m\u001b[43m)\u001b[49m\n\u001b[1;32m     25\u001b[0m gauges \u001b[38;5;241m=\u001b[39m \u001b[38;5;28mlist\u001b[39m(solutions\u001b[38;5;241m.\u001b[39mkeys())\n\u001b[1;32m     26\u001b[0m eigenEnergy \u001b[38;5;241m=\u001b[39m get_eigenEnergy(excitedStates\u001b[38;5;241m+\u001b[39m\u001b[38;5;241m5\u001b[39m, get_only_p_states)\n",
      "File \u001b[0;32m~/BachelorThesis/Bachelor-thesis/ionModel/python/coefficientsODE.py:122\u001b[0m, in \u001b[0;36mHydrogenSolver.solve\u001b[0;34m(self, gauge)\u001b[0m\n\u001b[1;32m    119\u001b[0m c_init[\u001b[38;5;241m0\u001b[39m] \u001b[38;5;241m=\u001b[39m \u001b[38;5;241m1.0\u001b[39m\n\u001b[1;32m    121\u001b[0m \u001b[38;5;28;01mif\u001b[39;00m gauge \u001b[38;5;129;01min\u001b[39;00m [\u001b[38;5;124m'\u001b[39m\u001b[38;5;124mlength\u001b[39m\u001b[38;5;124m'\u001b[39m, \u001b[38;5;124m'\u001b[39m\u001b[38;5;124mboth\u001b[39m\u001b[38;5;124m'\u001b[39m]:\n\u001b[0;32m--> 122\u001b[0m     results[\u001b[38;5;124m'\u001b[39m\u001b[38;5;124mlength\u001b[39m\u001b[38;5;124m'\u001b[39m] \u001b[38;5;241m=\u001b[39m \u001b[43msolve_ivp\u001b[49m\u001b[43m(\u001b[49m\u001b[38;5;28;43mself\u001b[39;49m\u001b[38;5;241;43m.\u001b[39;49m\u001b[43m_tdse_rhs_length\u001b[49m\u001b[43m,\u001b[49m\u001b[43m \u001b[49m\u001b[43m[\u001b[49m\u001b[43mt_start\u001b[49m\u001b[43m,\u001b[49m\u001b[43m \u001b[49m\u001b[43mt_end\u001b[49m\u001b[43m]\u001b[49m\u001b[43m,\u001b[49m\u001b[43m \u001b[49m\u001b[43mc_init\u001b[49m\u001b[43m,\u001b[49m\u001b[43m \u001b[49m\n\u001b[1;32m    123\u001b[0m \u001b[43m                                \u001b[49m\u001b[43mt_eval\u001b[49m\u001b[38;5;241;43m=\u001b[39;49m\u001b[43mt_eval\u001b[49m\u001b[43m,\u001b[49m\u001b[43m \u001b[49m\u001b[43mmethod\u001b[49m\u001b[38;5;241;43m=\u001b[39;49m\u001b[38;5;124;43m'\u001b[39;49m\u001b[38;5;124;43mRK45\u001b[39;49m\u001b[38;5;124;43m'\u001b[39;49m\u001b[43m,\u001b[49m\u001b[43m \u001b[49m\u001b[43mrtol\u001b[49m\u001b[38;5;241;43m=\u001b[39;49m\u001b[38;5;241;43m1e-12\u001b[39;49m\u001b[43m,\u001b[49m\u001b[43m \u001b[49m\u001b[43matol\u001b[49m\u001b[38;5;241;43m=\u001b[39;49m\u001b[38;5;241;43m1e-12\u001b[39;49m\u001b[43m)\u001b[49m\n\u001b[1;32m    125\u001b[0m \u001b[38;5;66;03m# if gauge in ['velocity', 'both']:\u001b[39;00m\n\u001b[1;32m    126\u001b[0m     \n\u001b[1;32m    127\u001b[0m \u001b[38;5;66;03m#     results['velocity'] = solve_ivp(self._tdse_rhs_velocity, [t_start, t_end], c_init, \u001b[39;00m\n\u001b[1;32m    128\u001b[0m \u001b[38;5;66;03m#                                   t_eval=t_eval, method='DOP853', rtol=1e-8, atol=1e-8)\u001b[39;00m\n\u001b[1;32m    130\u001b[0m \u001b[38;5;28;01mreturn\u001b[39;00m results\n",
      "File \u001b[0;32m~/.local/lib/python3.10/site-packages/scipy/integrate/_ivp/ivp.py:621\u001b[0m, in \u001b[0;36msolve_ivp\u001b[0;34m(fun, t_span, y0, method, t_eval, dense_output, events, vectorized, args, **options)\u001b[0m\n\u001b[1;32m    618\u001b[0m \u001b[38;5;28;01mif\u001b[39;00m method \u001b[38;5;129;01min\u001b[39;00m METHODS:\n\u001b[1;32m    619\u001b[0m     method \u001b[38;5;241m=\u001b[39m METHODS[method]\n\u001b[0;32m--> 621\u001b[0m solver \u001b[38;5;241m=\u001b[39m \u001b[43mmethod\u001b[49m\u001b[43m(\u001b[49m\u001b[43mfun\u001b[49m\u001b[43m,\u001b[49m\u001b[43m \u001b[49m\u001b[43mt0\u001b[49m\u001b[43m,\u001b[49m\u001b[43m \u001b[49m\u001b[43my0\u001b[49m\u001b[43m,\u001b[49m\u001b[43m \u001b[49m\u001b[43mtf\u001b[49m\u001b[43m,\u001b[49m\u001b[43m \u001b[49m\u001b[43mvectorized\u001b[49m\u001b[38;5;241;43m=\u001b[39;49m\u001b[43mvectorized\u001b[49m\u001b[43m,\u001b[49m\u001b[43m \u001b[49m\u001b[38;5;241;43m*\u001b[39;49m\u001b[38;5;241;43m*\u001b[39;49m\u001b[43moptions\u001b[49m\u001b[43m)\u001b[49m\n\u001b[1;32m    623\u001b[0m \u001b[38;5;28;01mif\u001b[39;00m t_eval \u001b[38;5;129;01mis\u001b[39;00m \u001b[38;5;28;01mNone\u001b[39;00m:\n\u001b[1;32m    624\u001b[0m     ts \u001b[38;5;241m=\u001b[39m [t0]\n",
      "File \u001b[0;32m~/.local/lib/python3.10/site-packages/scipy/integrate/_ivp/rk.py:94\u001b[0m, in \u001b[0;36mRungeKutta.__init__\u001b[0;34m(self, fun, t0, y0, t_bound, max_step, rtol, atol, vectorized, first_step, **extraneous)\u001b[0m\n\u001b[1;32m     92\u001b[0m \u001b[38;5;28mself\u001b[39m\u001b[38;5;241m.\u001b[39mmax_step \u001b[38;5;241m=\u001b[39m validate_max_step(max_step)\n\u001b[1;32m     93\u001b[0m \u001b[38;5;28mself\u001b[39m\u001b[38;5;241m.\u001b[39mrtol, \u001b[38;5;28mself\u001b[39m\u001b[38;5;241m.\u001b[39matol \u001b[38;5;241m=\u001b[39m validate_tol(rtol, atol, \u001b[38;5;28mself\u001b[39m\u001b[38;5;241m.\u001b[39mn)\n\u001b[0;32m---> 94\u001b[0m \u001b[38;5;28mself\u001b[39m\u001b[38;5;241m.\u001b[39mf \u001b[38;5;241m=\u001b[39m \u001b[38;5;28;43mself\u001b[39;49m\u001b[38;5;241;43m.\u001b[39;49m\u001b[43mfun\u001b[49m\u001b[43m(\u001b[49m\u001b[38;5;28;43mself\u001b[39;49m\u001b[38;5;241;43m.\u001b[39;49m\u001b[43mt\u001b[49m\u001b[43m,\u001b[49m\u001b[43m \u001b[49m\u001b[38;5;28;43mself\u001b[39;49m\u001b[38;5;241;43m.\u001b[39;49m\u001b[43my\u001b[49m\u001b[43m)\u001b[49m\n\u001b[1;32m     95\u001b[0m \u001b[38;5;28;01mif\u001b[39;00m first_step \u001b[38;5;129;01mis\u001b[39;00m \u001b[38;5;28;01mNone\u001b[39;00m:\n\u001b[1;32m     96\u001b[0m     \u001b[38;5;28mself\u001b[39m\u001b[38;5;241m.\u001b[39mh_abs \u001b[38;5;241m=\u001b[39m select_initial_step(\n\u001b[1;32m     97\u001b[0m         \u001b[38;5;28mself\u001b[39m\u001b[38;5;241m.\u001b[39mfun, \u001b[38;5;28mself\u001b[39m\u001b[38;5;241m.\u001b[39mt, \u001b[38;5;28mself\u001b[39m\u001b[38;5;241m.\u001b[39my, \u001b[38;5;28mself\u001b[39m\u001b[38;5;241m.\u001b[39mf, \u001b[38;5;28mself\u001b[39m\u001b[38;5;241m.\u001b[39mdirection,\n\u001b[1;32m     98\u001b[0m         \u001b[38;5;28mself\u001b[39m\u001b[38;5;241m.\u001b[39merror_estimator_order, \u001b[38;5;28mself\u001b[39m\u001b[38;5;241m.\u001b[39mrtol, \u001b[38;5;28mself\u001b[39m\u001b[38;5;241m.\u001b[39matol)\n",
      "File \u001b[0;32m~/.local/lib/python3.10/site-packages/scipy/integrate/_ivp/base.py:154\u001b[0m, in \u001b[0;36mOdeSolver.__init__.<locals>.fun\u001b[0;34m(t, y)\u001b[0m\n\u001b[1;32m    152\u001b[0m \u001b[38;5;28;01mdef\u001b[39;00m \u001b[38;5;21mfun\u001b[39m(t, y):\n\u001b[1;32m    153\u001b[0m     \u001b[38;5;28mself\u001b[39m\u001b[38;5;241m.\u001b[39mnfev \u001b[38;5;241m+\u001b[39m\u001b[38;5;241m=\u001b[39m \u001b[38;5;241m1\u001b[39m\n\u001b[0;32m--> 154\u001b[0m     \u001b[38;5;28;01mreturn\u001b[39;00m \u001b[38;5;28;43mself\u001b[39;49m\u001b[38;5;241;43m.\u001b[39;49m\u001b[43mfun_single\u001b[49m\u001b[43m(\u001b[49m\u001b[43mt\u001b[49m\u001b[43m,\u001b[49m\u001b[43m \u001b[49m\u001b[43my\u001b[49m\u001b[43m)\u001b[49m\n",
      "File \u001b[0;32m~/.local/lib/python3.10/site-packages/scipy/integrate/_ivp/base.py:23\u001b[0m, in \u001b[0;36mcheck_arguments.<locals>.fun_wrapped\u001b[0;34m(t, y)\u001b[0m\n\u001b[1;32m     22\u001b[0m \u001b[38;5;28;01mdef\u001b[39;00m \u001b[38;5;21mfun_wrapped\u001b[39m(t, y):\n\u001b[0;32m---> 23\u001b[0m     \u001b[38;5;28;01mreturn\u001b[39;00m np\u001b[38;5;241m.\u001b[39masarray(\u001b[43mfun\u001b[49m\u001b[43m(\u001b[49m\u001b[43mt\u001b[49m\u001b[43m,\u001b[49m\u001b[43m \u001b[49m\u001b[43my\u001b[49m\u001b[43m)\u001b[49m, dtype\u001b[38;5;241m=\u001b[39mdtype)\n",
      "File \u001b[0;32m~/BachelorThesis/Bachelor-thesis/ionModel/python/coefficientsODE.py:101\u001b[0m, in \u001b[0;36mHydrogenSolver._tdse_rhs_length\u001b[0;34m(self, t, y)\u001b[0m\n\u001b[1;32m     98\u001b[0m c \u001b[38;5;241m=\u001b[39m y\n\u001b[1;32m     99\u001b[0m dc_dt \u001b[38;5;241m=\u001b[39m np\u001b[38;5;241m.\u001b[39mzeros_like(c, dtype\u001b[38;5;241m=\u001b[39m\u001b[38;5;28mcomplex\u001b[39m)\n\u001b[0;32m--> 101\u001b[0m E_field \u001b[38;5;241m=\u001b[39m \u001b[38;5;28;43mself\u001b[39;49m\u001b[38;5;241;43m.\u001b[39;49m\u001b[43mlaser_pulses\u001b[49m\u001b[38;5;241;43m.\u001b[39;49m\u001b[43mElectric_Field\u001b[49m\u001b[43m(\u001b[49m\u001b[43mt\u001b[49m\u001b[43m)\u001b[49m\n\u001b[1;32m    103\u001b[0m \u001b[38;5;28;01mfor\u001b[39;00m k \u001b[38;5;129;01min\u001b[39;00m \u001b[38;5;28mrange\u001b[39m(\u001b[38;5;28mlen\u001b[39m(\u001b[38;5;28mself\u001b[39m\u001b[38;5;241m.\u001b[39mstates)):\n\u001b[1;32m    104\u001b[0m     \u001b[38;5;28;01mfor\u001b[39;00m n \u001b[38;5;129;01min\u001b[39;00m \u001b[38;5;28mrange\u001b[39m(\u001b[38;5;28mlen\u001b[39m(\u001b[38;5;28mself\u001b[39m\u001b[38;5;241m.\u001b[39mstates)):\n",
      "File \u001b[0;32m~/BachelorThesis/Bachelor-thesis/ionModel/python/field_functions.py:565\u001b[0m, in \u001b[0;36mLaserField.Electric_Field\u001b[0;34m(self, t)\u001b[0m\n\u001b[1;32m    563\u001b[0m     \u001b[38;5;28;01mif\u001b[39;00m A0 \u001b[38;5;241m==\u001b[39m \u001b[38;5;241m0\u001b[39m:\n\u001b[1;32m    564\u001b[0m         \u001b[38;5;28;01mcontinue\u001b[39;00m\n\u001b[0;32m--> 565\u001b[0m     Field \u001b[38;5;241m+\u001b[39m\u001b[38;5;241m=\u001b[39m \u001b[43m_compute_electric_field_core\u001b[49m\u001b[43m(\u001b[49m\u001b[43mt\u001b[49m\u001b[43m,\u001b[49m\u001b[43m \u001b[49m\u001b[43mw0\u001b[49m\u001b[43m,\u001b[49m\u001b[43m \u001b[49m\u001b[43mA0\u001b[49m\u001b[43m,\u001b[49m\u001b[43m \u001b[49m\u001b[43mcep\u001b[49m\u001b[43m,\u001b[49m\u001b[43m \u001b[49m\u001b[43mtau\u001b[49m\u001b[43m,\u001b[49m\u001b[43m \u001b[49m\u001b[43mN\u001b[49m\u001b[43m,\u001b[49m\u001b[43m \u001b[49m\u001b[43mt0\u001b[49m\u001b[43m)\u001b[49m\n\u001b[1;32m    567\u001b[0m \u001b[38;5;28;01mif\u001b[39;00m \u001b[38;5;28mself\u001b[39m\u001b[38;5;241m.\u001b[39mcache_results \u001b[38;5;241m==\u001b[39m \u001b[38;5;28;01mTrue\u001b[39;00m:\n\u001b[1;32m    568\u001b[0m     \u001b[38;5;28mself\u001b[39m\u001b[38;5;241m.\u001b[39m_cached_E \u001b[38;5;241m=\u001b[39m Field\u001b[38;5;241m.\u001b[39mcopy()\n",
      "File \u001b[0;32m~/BachelorThesis/Bachelor-thesis/ionModel/python/field_functions.py:316\u001b[0m, in \u001b[0;36m_compute_electric_field_core\u001b[0;34m(t, w0, A0, cep, tau, N, t0)\u001b[0m\n\u001b[1;32m    313\u001b[0m mask \u001b[38;5;241m=\u001b[39m np\u001b[38;5;241m.\u001b[39mabs(tt) \u001b[38;5;241m<\u001b[39m tau\n\u001b[1;32m    314\u001b[0m result \u001b[38;5;241m=\u001b[39m np\u001b[38;5;241m.\u001b[39mzeros_like(t, dtype\u001b[38;5;241m=\u001b[39mnp\u001b[38;5;241m.\u001b[39mfloat64)\n\u001b[0;32m--> 316\u001b[0m \u001b[38;5;28;01mfor\u001b[39;00m i \u001b[38;5;129;01min\u001b[39;00m \u001b[38;5;28mrange\u001b[39m(\u001b[38;5;28;43mlen\u001b[39;49m\u001b[43m(\u001b[49m\u001b[43mt\u001b[49m\u001b[43m)\u001b[49m):\n\u001b[1;32m    317\u001b[0m     \u001b[38;5;28;01mif\u001b[39;00m mask[i]:\n\u001b[1;32m    318\u001b[0m         result[i] \u001b[38;5;241m=\u001b[39m cosN_electric_field(tt[i], A0, w0, tau, cep, N)\n",
      "\u001b[0;31mTypeError\u001b[0m: len() of unsized object"
     ]
    }
   ],
   "source": [
    "%autoreload 2\n",
    "laser_pulses = LaserField(cache_results=True)\n",
    "laser_pulses.add_pulse(params['lam0'], params['intensity'], params['cep'], params['lam0']/ AtomicUnits.nm / AtomicUnits.speed_of_light)\n",
    "#laser_pulses.add_pulse(250, 8e9, -np.pi/2, 0.58/ AtomicUnits.fs, t0=-144.91)\n",
    "t_min, t_max = laser_pulses.get_time_interval()\n",
    "time_recon_1= np.arange(int(t_min), int(t_max)+1, 1.)\n",
    "\n",
    "rateExcited_1 = IonRate(time_recon_1, laser_pulses, params, dT=0.5/2, kernel_type='exact_SFA', excitedStates=True)\n",
    "laser_pulses.reset()"
   ]
  },
  {
   "cell_type": "code",
   "execution_count": 6,
   "id": "4057d326",
   "metadata": {},
   "outputs": [
    {
     "name": "stdout",
     "output_type": "stream",
     "text": [
      "0.00961282477141413\n",
      "5.259e-04\n"
     ]
    }
   ],
   "source": [
    "#print(np.trapz(rate_SFA, time_recon))\n",
    "print(np.real(np.trapz(rateExcited_1, time_recon_1)))\n",
    "# print(np.real(np.trapz(time_recon_2, rateExcited_2)))\n",
    "# print(np.real(np.trapz(time_recon_3, rateExcited_3)))\n",
    "print(f\"{0.0005259:.3e}\")"
   ]
  },
  {
   "cell_type": "code",
   "execution_count": 3,
   "id": "e28a0d98",
   "metadata": {},
   "outputs": [
    {
     "ename": "NameError",
     "evalue": "name 'time_recon' is not defined",
     "output_type": "error",
     "traceback": [
      "\u001b[0;31m---------------------------------------------------------------------------\u001b[0m",
      "\u001b[0;31mNameError\u001b[0m                                 Traceback (most recent call last)",
      "Cell \u001b[0;32mIn[3], line 7\u001b[0m\n\u001b[1;32m      2\u001b[0m \u001b[38;5;66;03m# data = plotter(params, time_recon, rate_SFA, rateExcited_1, rateExcited_2, rateExcited_3, useTex=False)\u001b[39;00m\n\u001b[1;32m      3\u001b[0m \n\u001b[1;32m      4\u001b[0m \u001b[38;5;66;03m# data.matplot4()\u001b[39;00m\n\u001b[1;32m      6\u001b[0m fig \u001b[38;5;241m=\u001b[39m go\u001b[38;5;241m.\u001b[39mFigure()\n\u001b[0;32m----> 7\u001b[0m fig\u001b[38;5;241m.\u001b[39madd_trace(go\u001b[38;5;241m.\u001b[39mScatter(x\u001b[38;5;241m=\u001b[39m\u001b[43mtime_recon\u001b[49m, y\u001b[38;5;241m=\u001b[39mrate_SFA, mode\u001b[38;5;241m=\u001b[39m\u001b[38;5;124m'\u001b[39m\u001b[38;5;124mlines\u001b[39m\u001b[38;5;124m'\u001b[39m, name\u001b[38;5;241m=\u001b[39m\u001b[38;5;124m'\u001b[39m\u001b[38;5;124mSFA\u001b[39m\u001b[38;5;124m'\u001b[39m))\n\u001b[1;32m      8\u001b[0m fig\u001b[38;5;241m.\u001b[39madd_trace(go\u001b[38;5;241m.\u001b[39mScatter(x\u001b[38;5;241m=\u001b[39mtime_recon_1, y\u001b[38;5;241m=\u001b[39mnp\u001b[38;5;241m.\u001b[39mreal(rateExcited_1), mode\u001b[38;5;241m=\u001b[39m\u001b[38;5;124m'\u001b[39m\u001b[38;5;124mlines\u001b[39m\u001b[38;5;124m'\u001b[39m, name\u001b[38;5;241m=\u001b[39m\u001b[38;5;124m'\u001b[39m\u001b[38;5;124mSFA_excited_1\u001b[39m\u001b[38;5;124m'\u001b[39m))\n\u001b[1;32m      9\u001b[0m \u001b[38;5;66;03m#fig.add_trace(go.Scatter(x=time_recon_2, y=np.real(rateExcited_2), mode='lines', name='SFA_excited_2'))\u001b[39;00m\n\u001b[1;32m     10\u001b[0m \u001b[38;5;66;03m# fig.add_trace(go.Scatter(x=time_recon_3, y=np.real(rateExcited_3), mode='lines', name='SFA_excited_3'))\u001b[39;00m\n\u001b[1;32m     11\u001b[0m \u001b[38;5;66;03m# fig.add_trace(go.Scatter(x=time_recon_0, y=np.real(rateExcited_0), mode='lines', name='SFA_excited_0'))\u001b[39;00m\n",
      "\u001b[0;31mNameError\u001b[0m: name 'time_recon' is not defined"
     ]
    }
   ],
   "source": [
    "%autoreload\n",
    "# data = plotter(params, time_recon, rate_SFA, rateExcited_1, rateExcited_2, rateExcited_3, useTex=False)\n",
    "\n",
    "# data.matplot4()\n",
    "\n",
    "fig = go.Figure()\n",
    "fig.add_trace(go.Scatter(x=time_recon, y=rate_SFA, mode='lines', name='SFA'))\n",
    "fig.add_trace(go.Scatter(x=time_recon_1, y=np.real(rateExcited_1), mode='lines', name='SFA_excited_1'))\n",
    "#fig.add_trace(go.Scatter(x=time_recon_2, y=np.real(rateExcited_2), mode='lines', name='SFA_excited_2'))\n",
    "# fig.add_trace(go.Scatter(x=time_recon_3, y=np.real(rateExcited_3), mode='lines', name='SFA_excited_3'))\n",
    "# fig.add_trace(go.Scatter(x=time_recon_0, y=np.real(rateExcited_0), mode='lines', name='SFA_excited_0'))\n",
    "lam0 = params['lam0']\n",
    "intensity = params['intensity']\n",
    "fig.update_layout(\n",
    "    title=f'Ionization Rate for {lam0} nm, {intensity:.2e} W/cm²',\n",
    "    xaxis_title='Time (a.u.)',\n",
    "    yaxis_title='Ionization Rate (a.u.)',\n",
    "    legend=dict(x=0.01, y=0.99),\n",
    "    template='plotly_white',\n",
    "    xaxis_range=[-100, 100],\n",
    "    width=800,\n",
    "    height=600\n",
    ")\n",
    "# truncate y-axis\n",
    "fig.show()\n",
    "\n",
    "filename = f\"plots/ionRate_{params['lam0']}_c0-is-1.html\"\n",
    "if not os.path.exists(filename):\n",
    "    #fig.write_html(filename)\n",
    "    print(f\"Plot saved as {filename}\")\n",
    "else:\n",
    "    print(f\"File {filename} already exists - skipping save\")"
   ]
  }
 ],
 "metadata": {
  "kernelspec": {
   "display_name": "Python 3",
   "language": "python",
   "name": "python3"
  },
  "language_info": {
   "codemirror_mode": {
    "name": "ipython",
    "version": 3
   },
   "file_extension": ".py",
   "mimetype": "text/x-python",
   "name": "python",
   "nbconvert_exporter": "python",
   "pygments_lexer": "ipython3",
   "version": "3.10.12"
  }
 },
 "nbformat": 4,
 "nbformat_minor": 5
}
