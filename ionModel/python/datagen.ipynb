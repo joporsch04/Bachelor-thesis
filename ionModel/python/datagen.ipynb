{
 "cells": [
  {
   "cell_type": "code",
   "execution_count": 1,
   "id": "35aba6c2",
   "metadata": {},
   "outputs": [],
   "source": [
    "%load_ext autoreload\n",
    "%autoreload 2\n",
    "import numpy as np\n",
    "import os\n",
    "import plotly.graph_objects as go\n",
    "from kernels import IonRate\n",
    "from field_functions import LaserField\n",
    "from scipy.integrate import simpson\n",
    "\n",
    "from plotting import plotter\n",
    "\n",
    "class AU:\n",
    "    meter = 5.2917720859e-11 # atomic unit of length in meters\n",
    "    nm = 5.2917721e-2 # atomic unit of length in nanometres\n",
    "    second = 2.418884328e-17 # atomic unit of time in seconds\n",
    "    fs = 2.418884328e-2 # atomic unit of time in femtoseconds\n",
    "    Joule = 4.359743935e-18 # atomic unit of energy in Joules\n",
    "    eV = 27.21138383 # atomic unit of energy in electronvolts\n",
    "    Volts_per_meter = 5.142206313e+11 # atomic unit of electric field in V/m\n",
    "    Volts_per_Angstrom = 51.42206313 # atomic unit of electric field in V/Angström\n",
    "    speed_of_light = 137.035999 # vacuum speed of light in atomic units\n",
    "    Coulomb = 1.60217646e-19 # atomic unit of electric charge in Coulombs\n",
    "    PW_per_cm2_au = 0.02849451308 # PW/cm^2 in atomic units\n",
    "AtomicUnits=AU\n",
    "\n",
    "params = {\n",
    "    'E_g': 0.5, \n",
    "    'αPol': 4.51, \n",
    "    \"div_p\":2**-4*8, \n",
    "    \"div_theta\":1*16, \n",
    "    'lam0': 450, \n",
    "    'intensity': 8e13, \n",
    "    'cep': 0, \n",
    "    'excitedStates': 2, \n",
    "    'coeffType': 'trecx', \n",
    "    'gauge': 'length', \n",
    "    'get_p_only': True, \n",
    "    'only_c0_is_1_rest_normal': False, \n",
    "    'delay': None, \n",
    "    'plotting': True\n",
    "}\n",
    "\n",
    "# to save computation time we can neglect cross terms!! just look at formula for <p|d|psi> there is i^l and because of the transition rules l has to be +-1 so if we sum over all states and one is complex conjugatet and we sum it up they will cancel out !!! but be carefull we only can use states that are allowed theoretically\n",
    "# excitedStates = 0 should rduce only ground state with stark effect => if excitedStates != None"
   ]
  },
  {
   "cell_type": "code",
   "execution_count": null,
   "id": "bf3f354a",
   "metadata": {},
   "outputs": [],
   "source": [
    "%autoreload 2\n",
    "laser_pulses = LaserField(cache_results=True)\n",
    "laser_pulses.add_pulse(params['lam0'], params['intensity'], params['cep'], params['lam0']/ AtomicUnits.nm / AtomicUnits.speed_of_light)\n",
    "#laser_pulses.add_pulse(250, 8e9, -np.pi/2, 0.58/ AtomicUnits.fs, t0=-144.91)        #224.97\n",
    "t_min, t_max = laser_pulses.get_time_interval()\n",
    "time_recon= np.arange(int(t_min), int(t_max)+1, 0.5)\n",
    "\n",
    "rate_SFA = IonRate(time_recon, laser_pulses, params, dT=0.5, kernel_type='exact_SFA')\n",
    "laser_pulses.reset()"
   ]
  }
 ],
 "metadata": {
  "kernelspec": {
   "display_name": "Python 3",
   "language": "python",
   "name": "python3"
  },
  "language_info": {
   "codemirror_mode": {
    "name": "ipython",
    "version": 3
   },
   "file_extension": ".py",
   "mimetype": "text/x-python",
   "name": "python",
   "nbconvert_exporter": "python",
   "pygments_lexer": "ipython3",
   "version": "3.10.12"
  }
 },
 "nbformat": 4,
 "nbformat_minor": 5
}
