{
 "cells": [
  {
   "cell_type": "code",
   "execution_count": 1,
   "metadata": {},
   "outputs": [],
   "source": [
    "import numpy as np\n",
    "import pandas as pd\n",
    "import matplotlib.pyplot as plt\n",
    "import plotly.graph_objects as go\n",
    "import re\n",
    "from scipy.integrate import cumulative_trapezoid\n",
    "from scipy.interpolate import interp1d\n",
    "\n",
    "def extract_time(file_path):\n",
    "    with open(file_path, 'r') as file:\n",
    "        first_colomn = []\n",
    "        for row, line in enumerate(file):\n",
    "            if row < 6:\n",
    "                continue\n",
    "            line = line.strip()\n",
    "            colomns = line.split()\n",
    "            if len(colomns) >= 5:\n",
    "                first_colomn.append(float(colomns[0]))\n",
    "    return first_colomn\n",
    "\n",
    "def extractField_0(file_path):\n",
    "    with open(file_path, 'r') as file:\n",
    "        fifth_colomn = []\n",
    "        for row, line in enumerate(file):\n",
    "            if row < 6:\n",
    "                continue\n",
    "            line = line.strip()\n",
    "            colomns = line.split()\n",
    "            if len(colomns) >= 5:\n",
    "                fifth_colomn.append(float(colomns[5]))\n",
    "    return fifth_colomn"
   ]
  },
  {
   "cell_type": "markdown",
   "metadata": {},
   "source": [
    "## TIPTOE short"
   ]
  },
  {
   "cell_type": "code",
   "execution_count": null,
   "metadata": {},
   "outputs": [
    {
     "data": {
      "application/vnd.plotly.v1+json": {
       "config": {
        "plotlyServerURL": "https://plot.ly"
       },
       "data": [
        {
         "mode": "lines",
         "name": "c^2_Occ_new",
         "type": "scatter",
         "x": [
          -352.087092095,
          -316.877092095,
          -281.667092095,
          -246.457092095,
          -211.247092095,
          -176.037092095,
          -140.827092095,
          -105.617092095,
          -70.407092095,
          -35.197092095,
          0.012907905,
          35.222907905,
          70.432907905,
          105.642907905,
          140.852907905,
          176.062907905,
          211.272907905,
          246.482907905,
          281.692907905,
          316.902907905,
          352.087092095
         ],
         "y": [
          1.89633971277e-23,
          1.04689491006e-14,
          2.55025992237e-9,
          8.03511520531e-7,
          0.0000510738186467,
          0.00150483571413,
          0.00423861159038,
          0.0549774797536,
          0.0180693593835,
          0.0695935657838,
          0.0129721861671,
          0.0686245403254,
          0.0193237328718,
          0.0542879188536,
          0.00427528313979,
          0.00178892581207,
          0.0000810461274039,
          0.0000259458506665,
          0.0000206532805391,
          0.0000210833036142,
          0.000021084208325
         ]
        },
        {
         "mode": "lines",
         "name": "c^2_new",
         "type": "scatter",
         "x": [
          -352.087092095,
          -316.877092095,
          -281.667092095,
          -246.457092095,
          -211.247092095,
          -176.037092095,
          -140.827092095,
          -105.617092095,
          -70.407092095,
          -35.197092095,
          0.012907905,
          35.222907905,
          70.432907905,
          105.642907905,
          140.852907905,
          176.062907905,
          211.272907905,
          246.482907905,
          281.692907905,
          316.902907905,
          352.087092095
         ],
         "y": [
          1.8539538375484385e-23,
          1.0234953278363345e-14,
          2.4932580054008755e-9,
          7.85551901363575e-7,
          0.00004993224654864707,
          0.0014712005071176432,
          0.004143872625212223,
          0.053748655307349076,
          0.017665483639655456,
          0.06803805113833157,
          0.012682239455157606,
          0.06709068476970231,
          0.018891820105807526,
          0.05307450706910087,
          0.004179724513605108,
          0.0017489407894857065,
          0.00007923463180492764,
          0.000025365924199704456,
          0.00002019165050207257,
          0.000020612061953241723,
          0.000020612946442151374
         ]
        },
        {
         "mode": "lines",
         "name": "c_analytical",
         "type": "scatter",
         "x": [
          -352.087092095,
          -316.877092095,
          -281.667092095,
          -246.457092095,
          -211.247092095,
          -176.037092095,
          -140.827092095,
          -105.617092095,
          -70.407092095,
          -35.197092095,
          0.012907905,
          35.222907905,
          70.432907905,
          105.642907905,
          140.852907905,
          176.062907905,
          211.272907905,
          246.482907905,
          281.692907905,
          316.902907905,
          352.087092095
         ],
         "y": [
          2.4915680936885296e-54,
          4.803009927097388e-13,
          6.693235650197439e-9,
          0.000005069298602080097,
          0.00000486531723984896,
          0.0029190256397092574,
          0.007658699861955677,
          0.04342927502712445,
          0.2025906047558266,
          0.03258795672953732,
          0.5383987007378339,
          0.032845170436967164,
          0.20220661596442147,
          0.043517555213585815,
          0.007620763882954035,
          0.002916756020616353,
          0.000004825201037513866,
          0.0000050494262639382825,
          6.686936431881154e-9,
          4.744678024271629e-13,
          5.299081001951369e-19
         ]
        }
       ],
       "layout": {
        "template": {
         "data": {
          "bar": [
           {
            "error_x": {
             "color": "#2a3f5f"
            },
            "error_y": {
             "color": "#2a3f5f"
            },
            "marker": {
             "line": {
              "color": "#E5ECF6",
              "width": 0.5
             },
             "pattern": {
              "fillmode": "overlay",
              "size": 10,
              "solidity": 0.2
             }
            },
            "type": "bar"
           }
          ],
          "barpolar": [
           {
            "marker": {
             "line": {
              "color": "#E5ECF6",
              "width": 0.5
             },
             "pattern": {
              "fillmode": "overlay",
              "size": 10,
              "solidity": 0.2
             }
            },
            "type": "barpolar"
           }
          ],
          "carpet": [
           {
            "aaxis": {
             "endlinecolor": "#2a3f5f",
             "gridcolor": "white",
             "linecolor": "white",
             "minorgridcolor": "white",
             "startlinecolor": "#2a3f5f"
            },
            "baxis": {
             "endlinecolor": "#2a3f5f",
             "gridcolor": "white",
             "linecolor": "white",
             "minorgridcolor": "white",
             "startlinecolor": "#2a3f5f"
            },
            "type": "carpet"
           }
          ],
          "choropleth": [
           {
            "colorbar": {
             "outlinewidth": 0,
             "ticks": ""
            },
            "type": "choropleth"
           }
          ],
          "contour": [
           {
            "colorbar": {
             "outlinewidth": 0,
             "ticks": ""
            },
            "colorscale": [
             [
              0,
              "#0d0887"
             ],
             [
              0.1111111111111111,
              "#46039f"
             ],
             [
              0.2222222222222222,
              "#7201a8"
             ],
             [
              0.3333333333333333,
              "#9c179e"
             ],
             [
              0.4444444444444444,
              "#bd3786"
             ],
             [
              0.5555555555555556,
              "#d8576b"
             ],
             [
              0.6666666666666666,
              "#ed7953"
             ],
             [
              0.7777777777777778,
              "#fb9f3a"
             ],
             [
              0.8888888888888888,
              "#fdca26"
             ],
             [
              1,
              "#f0f921"
             ]
            ],
            "type": "contour"
           }
          ],
          "contourcarpet": [
           {
            "colorbar": {
             "outlinewidth": 0,
             "ticks": ""
            },
            "type": "contourcarpet"
           }
          ],
          "heatmap": [
           {
            "colorbar": {
             "outlinewidth": 0,
             "ticks": ""
            },
            "colorscale": [
             [
              0,
              "#0d0887"
             ],
             [
              0.1111111111111111,
              "#46039f"
             ],
             [
              0.2222222222222222,
              "#7201a8"
             ],
             [
              0.3333333333333333,
              "#9c179e"
             ],
             [
              0.4444444444444444,
              "#bd3786"
             ],
             [
              0.5555555555555556,
              "#d8576b"
             ],
             [
              0.6666666666666666,
              "#ed7953"
             ],
             [
              0.7777777777777778,
              "#fb9f3a"
             ],
             [
              0.8888888888888888,
              "#fdca26"
             ],
             [
              1,
              "#f0f921"
             ]
            ],
            "type": "heatmap"
           }
          ],
          "heatmapgl": [
           {
            "colorbar": {
             "outlinewidth": 0,
             "ticks": ""
            },
            "colorscale": [
             [
              0,
              "#0d0887"
             ],
             [
              0.1111111111111111,
              "#46039f"
             ],
             [
              0.2222222222222222,
              "#7201a8"
             ],
             [
              0.3333333333333333,
              "#9c179e"
             ],
             [
              0.4444444444444444,
              "#bd3786"
             ],
             [
              0.5555555555555556,
              "#d8576b"
             ],
             [
              0.6666666666666666,
              "#ed7953"
             ],
             [
              0.7777777777777778,
              "#fb9f3a"
             ],
             [
              0.8888888888888888,
              "#fdca26"
             ],
             [
              1,
              "#f0f921"
             ]
            ],
            "type": "heatmapgl"
           }
          ],
          "histogram": [
           {
            "marker": {
             "pattern": {
              "fillmode": "overlay",
              "size": 10,
              "solidity": 0.2
             }
            },
            "type": "histogram"
           }
          ],
          "histogram2d": [
           {
            "colorbar": {
             "outlinewidth": 0,
             "ticks": ""
            },
            "colorscale": [
             [
              0,
              "#0d0887"
             ],
             [
              0.1111111111111111,
              "#46039f"
             ],
             [
              0.2222222222222222,
              "#7201a8"
             ],
             [
              0.3333333333333333,
              "#9c179e"
             ],
             [
              0.4444444444444444,
              "#bd3786"
             ],
             [
              0.5555555555555556,
              "#d8576b"
             ],
             [
              0.6666666666666666,
              "#ed7953"
             ],
             [
              0.7777777777777778,
              "#fb9f3a"
             ],
             [
              0.8888888888888888,
              "#fdca26"
             ],
             [
              1,
              "#f0f921"
             ]
            ],
            "type": "histogram2d"
           }
          ],
          "histogram2dcontour": [
           {
            "colorbar": {
             "outlinewidth": 0,
             "ticks": ""
            },
            "colorscale": [
             [
              0,
              "#0d0887"
             ],
             [
              0.1111111111111111,
              "#46039f"
             ],
             [
              0.2222222222222222,
              "#7201a8"
             ],
             [
              0.3333333333333333,
              "#9c179e"
             ],
             [
              0.4444444444444444,
              "#bd3786"
             ],
             [
              0.5555555555555556,
              "#d8576b"
             ],
             [
              0.6666666666666666,
              "#ed7953"
             ],
             [
              0.7777777777777778,
              "#fb9f3a"
             ],
             [
              0.8888888888888888,
              "#fdca26"
             ],
             [
              1,
              "#f0f921"
             ]
            ],
            "type": "histogram2dcontour"
           }
          ],
          "mesh3d": [
           {
            "colorbar": {
             "outlinewidth": 0,
             "ticks": ""
            },
            "type": "mesh3d"
           }
          ],
          "parcoords": [
           {
            "line": {
             "colorbar": {
              "outlinewidth": 0,
              "ticks": ""
             }
            },
            "type": "parcoords"
           }
          ],
          "pie": [
           {
            "automargin": true,
            "type": "pie"
           }
          ],
          "scatter": [
           {
            "fillpattern": {
             "fillmode": "overlay",
             "size": 10,
             "solidity": 0.2
            },
            "type": "scatter"
           }
          ],
          "scatter3d": [
           {
            "line": {
             "colorbar": {
              "outlinewidth": 0,
              "ticks": ""
             }
            },
            "marker": {
             "colorbar": {
              "outlinewidth": 0,
              "ticks": ""
             }
            },
            "type": "scatter3d"
           }
          ],
          "scattercarpet": [
           {
            "marker": {
             "colorbar": {
              "outlinewidth": 0,
              "ticks": ""
             }
            },
            "type": "scattercarpet"
           }
          ],
          "scattergeo": [
           {
            "marker": {
             "colorbar": {
              "outlinewidth": 0,
              "ticks": ""
             }
            },
            "type": "scattergeo"
           }
          ],
          "scattergl": [
           {
            "marker": {
             "colorbar": {
              "outlinewidth": 0,
              "ticks": ""
             }
            },
            "type": "scattergl"
           }
          ],
          "scattermapbox": [
           {
            "marker": {
             "colorbar": {
              "outlinewidth": 0,
              "ticks": ""
             }
            },
            "type": "scattermapbox"
           }
          ],
          "scatterpolar": [
           {
            "marker": {
             "colorbar": {
              "outlinewidth": 0,
              "ticks": ""
             }
            },
            "type": "scatterpolar"
           }
          ],
          "scatterpolargl": [
           {
            "marker": {
             "colorbar": {
              "outlinewidth": 0,
              "ticks": ""
             }
            },
            "type": "scatterpolargl"
           }
          ],
          "scatterternary": [
           {
            "marker": {
             "colorbar": {
              "outlinewidth": 0,
              "ticks": ""
             }
            },
            "type": "scatterternary"
           }
          ],
          "surface": [
           {
            "colorbar": {
             "outlinewidth": 0,
             "ticks": ""
            },
            "colorscale": [
             [
              0,
              "#0d0887"
             ],
             [
              0.1111111111111111,
              "#46039f"
             ],
             [
              0.2222222222222222,
              "#7201a8"
             ],
             [
              0.3333333333333333,
              "#9c179e"
             ],
             [
              0.4444444444444444,
              "#bd3786"
             ],
             [
              0.5555555555555556,
              "#d8576b"
             ],
             [
              0.6666666666666666,
              "#ed7953"
             ],
             [
              0.7777777777777778,
              "#fb9f3a"
             ],
             [
              0.8888888888888888,
              "#fdca26"
             ],
             [
              1,
              "#f0f921"
             ]
            ],
            "type": "surface"
           }
          ],
          "table": [
           {
            "cells": {
             "fill": {
              "color": "#EBF0F8"
             },
             "line": {
              "color": "white"
             }
            },
            "header": {
             "fill": {
              "color": "#C8D4E3"
             },
             "line": {
              "color": "white"
             }
            },
            "type": "table"
           }
          ]
         },
         "layout": {
          "annotationdefaults": {
           "arrowcolor": "#2a3f5f",
           "arrowhead": 0,
           "arrowwidth": 1
          },
          "autotypenumbers": "strict",
          "coloraxis": {
           "colorbar": {
            "outlinewidth": 0,
            "ticks": ""
           }
          },
          "colorscale": {
           "diverging": [
            [
             0,
             "#8e0152"
            ],
            [
             0.1,
             "#c51b7d"
            ],
            [
             0.2,
             "#de77ae"
            ],
            [
             0.3,
             "#f1b6da"
            ],
            [
             0.4,
             "#fde0ef"
            ],
            [
             0.5,
             "#f7f7f7"
            ],
            [
             0.6,
             "#e6f5d0"
            ],
            [
             0.7,
             "#b8e186"
            ],
            [
             0.8,
             "#7fbc41"
            ],
            [
             0.9,
             "#4d9221"
            ],
            [
             1,
             "#276419"
            ]
           ],
           "sequential": [
            [
             0,
             "#0d0887"
            ],
            [
             0.1111111111111111,
             "#46039f"
            ],
            [
             0.2222222222222222,
             "#7201a8"
            ],
            [
             0.3333333333333333,
             "#9c179e"
            ],
            [
             0.4444444444444444,
             "#bd3786"
            ],
            [
             0.5555555555555556,
             "#d8576b"
            ],
            [
             0.6666666666666666,
             "#ed7953"
            ],
            [
             0.7777777777777778,
             "#fb9f3a"
            ],
            [
             0.8888888888888888,
             "#fdca26"
            ],
            [
             1,
             "#f0f921"
            ]
           ],
           "sequentialminus": [
            [
             0,
             "#0d0887"
            ],
            [
             0.1111111111111111,
             "#46039f"
            ],
            [
             0.2222222222222222,
             "#7201a8"
            ],
            [
             0.3333333333333333,
             "#9c179e"
            ],
            [
             0.4444444444444444,
             "#bd3786"
            ],
            [
             0.5555555555555556,
             "#d8576b"
            ],
            [
             0.6666666666666666,
             "#ed7953"
            ],
            [
             0.7777777777777778,
             "#fb9f3a"
            ],
            [
             0.8888888888888888,
             "#fdca26"
            ],
            [
             1,
             "#f0f921"
            ]
           ]
          },
          "colorway": [
           "#636efa",
           "#EF553B",
           "#00cc96",
           "#ab63fa",
           "#FFA15A",
           "#19d3f3",
           "#FF6692",
           "#B6E880",
           "#FF97FF",
           "#FECB52"
          ],
          "font": {
           "color": "#2a3f5f"
          },
          "geo": {
           "bgcolor": "white",
           "lakecolor": "white",
           "landcolor": "#E5ECF6",
           "showlakes": true,
           "showland": true,
           "subunitcolor": "white"
          },
          "hoverlabel": {
           "align": "left"
          },
          "hovermode": "closest",
          "mapbox": {
           "style": "light"
          },
          "paper_bgcolor": "white",
          "plot_bgcolor": "#E5ECF6",
          "polar": {
           "angularaxis": {
            "gridcolor": "white",
            "linecolor": "white",
            "ticks": ""
           },
           "bgcolor": "#E5ECF6",
           "radialaxis": {
            "gridcolor": "white",
            "linecolor": "white",
            "ticks": ""
           }
          },
          "scene": {
           "xaxis": {
            "backgroundcolor": "#E5ECF6",
            "gridcolor": "white",
            "gridwidth": 2,
            "linecolor": "white",
            "showbackground": true,
            "ticks": "",
            "zerolinecolor": "white"
           },
           "yaxis": {
            "backgroundcolor": "#E5ECF6",
            "gridcolor": "white",
            "gridwidth": 2,
            "linecolor": "white",
            "showbackground": true,
            "ticks": "",
            "zerolinecolor": "white"
           },
           "zaxis": {
            "backgroundcolor": "#E5ECF6",
            "gridcolor": "white",
            "gridwidth": 2,
            "linecolor": "white",
            "showbackground": true,
            "ticks": "",
            "zerolinecolor": "white"
           }
          },
          "shapedefaults": {
           "line": {
            "color": "#2a3f5f"
           }
          },
          "ternary": {
           "aaxis": {
            "gridcolor": "white",
            "linecolor": "white",
            "ticks": ""
           },
           "baxis": {
            "gridcolor": "white",
            "linecolor": "white",
            "ticks": ""
           },
           "bgcolor": "#E5ECF6",
           "caxis": {
            "gridcolor": "white",
            "linecolor": "white",
            "ticks": ""
           }
          },
          "title": {
           "x": 0.05
          },
          "xaxis": {
           "automargin": true,
           "gridcolor": "white",
           "linecolor": "white",
           "ticks": "",
           "title": {
            "standoff": 15
           },
           "zerolinecolor": "white",
           "zerolinewidth": 2
          },
          "yaxis": {
           "automargin": true,
           "gridcolor": "white",
           "linecolor": "white",
           "ticks": "",
           "title": {
            "standoff": 15
           },
           "zerolinecolor": "white",
           "zerolinewidth": 2
          }
         }
        }
       }
      }
     },
     "metadata": {},
     "output_type": "display_data"
    }
   ],
   "source": [
    "col_final=[\"Time\", \"CPU\", \"<Ovr(Phi.Eta.Rn.Rn)>\", \"<H0>\",\n",
    "    \"<Occ{H0:0}>\", \"<Occ{H0:1}>\", \"<Occ{H0:2}>\", \"<Occ{H0:3}>\", \"<Occ{H0:4}>\", \"<Occ{H0:5}>\",\n",
    "    \"Re{<H0:0|psi>}\", \"Re{<H0:1|psi>}\", \"Re{<H0:2|psi>}\", \"Re{<H0:3|psi>}\", \"Re{<H0:4|psi>}\", \"Re{<H0:5|psi>}\",\n",
    "    \"Imag{<H0:0|psi>}\", \"Imag{<H0:1|psi>}\", \"Imag{<H0:2|psi>}\", \"Imag{<H0:3|psi>}\", \"Imag{<H0:4|psi>}\", \"Imag{<H0:5|psi>}\"\n",
    "]\n",
    "df_final=pd.read_csv(\"/home/user/BachelorThesis/trecxcoefftests/tiptoe_short/0367/expec\", sep='\\s+', header=8)\n",
    "#shift every column name by one and remove the first column\n",
    "df_final.columns = df_final.columns[1:].tolist() + [\"\"]\n",
    "#remove last column\n",
    "df_final = df_final.iloc[:, :-1]\n",
    "df_final.columns = col_final\n",
    "\n",
    "\n",
    "\n",
    "df_normal = pd.read_csv(\"/home/user/BachelorThesis/trecxcoefftests/tiptoe_short/normal_trecx/expec\", sep='\\s+', header=8)\n",
    "df_normal.columns = df_normal.columns[1:].tolist() + [\"\"]\n",
    "#remove last column\n",
    "df_normal = df_normal.iloc[:, :-1]\n",
    "\n",
    "\n",
    "\n",
    "\n",
    "\n",
    "\n",
    "fig = go.Figure()\n",
    "fig.add_trace(go.Scatter(x=np.array(df_final[\"Time\"]), y=np.array(df_final[\"<Occ{H0:1}>\"]), mode='lines', name='c^2_Occ_new'))\n",
    "fig.add_trace(go.Scatter(x=np.array(df_final[\"Time\"]), y=np.array(df_final[\"Re{<H0:1|psi>}\"]**2+df_final[\"Imag{<H0:1|psi>}\"]**2), mode='lines', name='c^2_new'))\n",
    "\n",
    "\n",
    "#fig.add_trace(go.Scatter(x=np.array(df_final[\"Time\"]), y=np.array(df_final[\"Re{<H0:1|psi>}\"]), mode='lines', name='c_Re_new'))\n",
    "#fig.add_trace(go.Scatter(x=np.array(df_final[\"Time\"]), y=np.array(df_final[\"<Occ{H0:2}>\"]), mode='lines', name='c^2_Occ_new'))\n",
    "#fig.add_trace(go.Scatter(x=np.array(df_final[\"Time\"]), y=np.array(df_normal[\"<Occ{H0:1}>\"]), mode='lines', name='c^2_old'))\n",
    "#fig.add_trace(go.Scatter(x=np.array(df_final[\"Time\"]), y=np.array(df_final[\"Re{<H0:1|psi>}\"]**2+df_final[\"Imag{<H0:1|psi>}\"]**2)-np.array(df_final[\"<Occ{H0:1}>\"]), mode='lines', name='diff'))\n",
    "#fig.add_trace(go.Scatter(x=np.array(df_final[\"Time\"]), y=np.array(df_final[\"Imag{<H0:1|psi>}\"]), mode='lines', name='c_Imag_new'))\n",
    "# warum ist Re(H0:0|psi) gleich c^2_old? ich dachte in occ wird c^2 berechnet aberscheinabr nur Re(c)\n",
    "fig.show()"
   ]
  },
  {
   "cell_type": "markdown",
   "metadata": {},
   "source": [
    "## Weakpulse"
   ]
  },
  {
   "cell_type": "code",
   "execution_count": 71,
   "metadata": {},
   "outputs": [
    {
     "data": {
      "application/vnd.plotly.v1+json": {
       "config": {
        "plotlyServerURL": "https://plot.ly"
       },
       "data": [
        {
         "mode": "lines",
         "name": "c^2_Occ_new",
         "type": "scatter",
         "x": [
          -352.087092095,
          -316.877092095,
          -281.667092095,
          -246.457092095,
          -211.247092095,
          -176.037092095,
          -140.827092095,
          -105.617092095,
          -70.407092095,
          -35.197092095,
          0.012907905,
          35.222907905,
          70.432907905,
          105.642907905,
          140.852907905,
          176.062907905,
          211.272907905,
          246.482907905,
          281.692907905,
          316.902907905,
          352.087092095
         ],
         "y": [
          1.89633971277e-23,
          1.0494468637e-17,
          2.55027212217e-12,
          8.03513401295e-10,
          5.10871932043e-8,
          0.00000151411153955,
          0.00000432430676979,
          0.0000788072986898,
          0.0000182818553216,
          0.000459750328606,
          0.00000936628642213,
          0.000459481727278,
          0.0000184143987975,
          0.0000786611924743,
          0.00000433761583893,
          0.00000150880417727,
          5.10955076363e-8,
          7.98413315977e-10,
          2.53990343269e-12,
          1.03709612201e-17,
          1.89907278746e-22
         ]
        },
        {
         "mode": "lines",
         "name": "c^2_analytical",
         "type": "scatter",
         "x": [
          -352.087092095,
          -316.877092095,
          -281.667092095,
          -246.457092095,
          -211.247092095,
          -176.037092095,
          -140.827092095,
          -105.617092095,
          -70.407092095,
          -35.197092095,
          0.012907905,
          35.222907905,
          70.432907905,
          105.642907905,
          140.852907905,
          176.062907905,
          211.272907905,
          246.482907905,
          281.692907905,
          316.902907905,
          352.087092095
         ],
         "y": [
          6.97590467473053e-58,
          2.0035192962327153e-16,
          4.856681669968472e-12,
          3.2312550996369913e-9,
          6.345565072023003e-9,
          0.000001958923458809121,
          0.000005183641458528891,
          0.000030310056733257543,
          0.00013527351853913447,
          0.000028786291434053138,
          0.00035938546241662576,
          0.000028953738300812727,
          0.0001350200349033784,
          0.0000303659203739096,
          0.000005158896312836493,
          0.000001957260667363636,
          6.3206023673283955e-9,
          3.2182567256767225e-9,
          4.848119788820386e-12,
          1.9571827707200405e-16,
          7.017993755336468e-20
         ]
        }
       ],
       "layout": {
        "template": {
         "data": {
          "bar": [
           {
            "error_x": {
             "color": "#2a3f5f"
            },
            "error_y": {
             "color": "#2a3f5f"
            },
            "marker": {
             "line": {
              "color": "#E5ECF6",
              "width": 0.5
             },
             "pattern": {
              "fillmode": "overlay",
              "size": 10,
              "solidity": 0.2
             }
            },
            "type": "bar"
           }
          ],
          "barpolar": [
           {
            "marker": {
             "line": {
              "color": "#E5ECF6",
              "width": 0.5
             },
             "pattern": {
              "fillmode": "overlay",
              "size": 10,
              "solidity": 0.2
             }
            },
            "type": "barpolar"
           }
          ],
          "carpet": [
           {
            "aaxis": {
             "endlinecolor": "#2a3f5f",
             "gridcolor": "white",
             "linecolor": "white",
             "minorgridcolor": "white",
             "startlinecolor": "#2a3f5f"
            },
            "baxis": {
             "endlinecolor": "#2a3f5f",
             "gridcolor": "white",
             "linecolor": "white",
             "minorgridcolor": "white",
             "startlinecolor": "#2a3f5f"
            },
            "type": "carpet"
           }
          ],
          "choropleth": [
           {
            "colorbar": {
             "outlinewidth": 0,
             "ticks": ""
            },
            "type": "choropleth"
           }
          ],
          "contour": [
           {
            "colorbar": {
             "outlinewidth": 0,
             "ticks": ""
            },
            "colorscale": [
             [
              0,
              "#0d0887"
             ],
             [
              0.1111111111111111,
              "#46039f"
             ],
             [
              0.2222222222222222,
              "#7201a8"
             ],
             [
              0.3333333333333333,
              "#9c179e"
             ],
             [
              0.4444444444444444,
              "#bd3786"
             ],
             [
              0.5555555555555556,
              "#d8576b"
             ],
             [
              0.6666666666666666,
              "#ed7953"
             ],
             [
              0.7777777777777778,
              "#fb9f3a"
             ],
             [
              0.8888888888888888,
              "#fdca26"
             ],
             [
              1,
              "#f0f921"
             ]
            ],
            "type": "contour"
           }
          ],
          "contourcarpet": [
           {
            "colorbar": {
             "outlinewidth": 0,
             "ticks": ""
            },
            "type": "contourcarpet"
           }
          ],
          "heatmap": [
           {
            "colorbar": {
             "outlinewidth": 0,
             "ticks": ""
            },
            "colorscale": [
             [
              0,
              "#0d0887"
             ],
             [
              0.1111111111111111,
              "#46039f"
             ],
             [
              0.2222222222222222,
              "#7201a8"
             ],
             [
              0.3333333333333333,
              "#9c179e"
             ],
             [
              0.4444444444444444,
              "#bd3786"
             ],
             [
              0.5555555555555556,
              "#d8576b"
             ],
             [
              0.6666666666666666,
              "#ed7953"
             ],
             [
              0.7777777777777778,
              "#fb9f3a"
             ],
             [
              0.8888888888888888,
              "#fdca26"
             ],
             [
              1,
              "#f0f921"
             ]
            ],
            "type": "heatmap"
           }
          ],
          "heatmapgl": [
           {
            "colorbar": {
             "outlinewidth": 0,
             "ticks": ""
            },
            "colorscale": [
             [
              0,
              "#0d0887"
             ],
             [
              0.1111111111111111,
              "#46039f"
             ],
             [
              0.2222222222222222,
              "#7201a8"
             ],
             [
              0.3333333333333333,
              "#9c179e"
             ],
             [
              0.4444444444444444,
              "#bd3786"
             ],
             [
              0.5555555555555556,
              "#d8576b"
             ],
             [
              0.6666666666666666,
              "#ed7953"
             ],
             [
              0.7777777777777778,
              "#fb9f3a"
             ],
             [
              0.8888888888888888,
              "#fdca26"
             ],
             [
              1,
              "#f0f921"
             ]
            ],
            "type": "heatmapgl"
           }
          ],
          "histogram": [
           {
            "marker": {
             "pattern": {
              "fillmode": "overlay",
              "size": 10,
              "solidity": 0.2
             }
            },
            "type": "histogram"
           }
          ],
          "histogram2d": [
           {
            "colorbar": {
             "outlinewidth": 0,
             "ticks": ""
            },
            "colorscale": [
             [
              0,
              "#0d0887"
             ],
             [
              0.1111111111111111,
              "#46039f"
             ],
             [
              0.2222222222222222,
              "#7201a8"
             ],
             [
              0.3333333333333333,
              "#9c179e"
             ],
             [
              0.4444444444444444,
              "#bd3786"
             ],
             [
              0.5555555555555556,
              "#d8576b"
             ],
             [
              0.6666666666666666,
              "#ed7953"
             ],
             [
              0.7777777777777778,
              "#fb9f3a"
             ],
             [
              0.8888888888888888,
              "#fdca26"
             ],
             [
              1,
              "#f0f921"
             ]
            ],
            "type": "histogram2d"
           }
          ],
          "histogram2dcontour": [
           {
            "colorbar": {
             "outlinewidth": 0,
             "ticks": ""
            },
            "colorscale": [
             [
              0,
              "#0d0887"
             ],
             [
              0.1111111111111111,
              "#46039f"
             ],
             [
              0.2222222222222222,
              "#7201a8"
             ],
             [
              0.3333333333333333,
              "#9c179e"
             ],
             [
              0.4444444444444444,
              "#bd3786"
             ],
             [
              0.5555555555555556,
              "#d8576b"
             ],
             [
              0.6666666666666666,
              "#ed7953"
             ],
             [
              0.7777777777777778,
              "#fb9f3a"
             ],
             [
              0.8888888888888888,
              "#fdca26"
             ],
             [
              1,
              "#f0f921"
             ]
            ],
            "type": "histogram2dcontour"
           }
          ],
          "mesh3d": [
           {
            "colorbar": {
             "outlinewidth": 0,
             "ticks": ""
            },
            "type": "mesh3d"
           }
          ],
          "parcoords": [
           {
            "line": {
             "colorbar": {
              "outlinewidth": 0,
              "ticks": ""
             }
            },
            "type": "parcoords"
           }
          ],
          "pie": [
           {
            "automargin": true,
            "type": "pie"
           }
          ],
          "scatter": [
           {
            "fillpattern": {
             "fillmode": "overlay",
             "size": 10,
             "solidity": 0.2
            },
            "type": "scatter"
           }
          ],
          "scatter3d": [
           {
            "line": {
             "colorbar": {
              "outlinewidth": 0,
              "ticks": ""
             }
            },
            "marker": {
             "colorbar": {
              "outlinewidth": 0,
              "ticks": ""
             }
            },
            "type": "scatter3d"
           }
          ],
          "scattercarpet": [
           {
            "marker": {
             "colorbar": {
              "outlinewidth": 0,
              "ticks": ""
             }
            },
            "type": "scattercarpet"
           }
          ],
          "scattergeo": [
           {
            "marker": {
             "colorbar": {
              "outlinewidth": 0,
              "ticks": ""
             }
            },
            "type": "scattergeo"
           }
          ],
          "scattergl": [
           {
            "marker": {
             "colorbar": {
              "outlinewidth": 0,
              "ticks": ""
             }
            },
            "type": "scattergl"
           }
          ],
          "scattermapbox": [
           {
            "marker": {
             "colorbar": {
              "outlinewidth": 0,
              "ticks": ""
             }
            },
            "type": "scattermapbox"
           }
          ],
          "scatterpolar": [
           {
            "marker": {
             "colorbar": {
              "outlinewidth": 0,
              "ticks": ""
             }
            },
            "type": "scatterpolar"
           }
          ],
          "scatterpolargl": [
           {
            "marker": {
             "colorbar": {
              "outlinewidth": 0,
              "ticks": ""
             }
            },
            "type": "scatterpolargl"
           }
          ],
          "scatterternary": [
           {
            "marker": {
             "colorbar": {
              "outlinewidth": 0,
              "ticks": ""
             }
            },
            "type": "scatterternary"
           }
          ],
          "surface": [
           {
            "colorbar": {
             "outlinewidth": 0,
             "ticks": ""
            },
            "colorscale": [
             [
              0,
              "#0d0887"
             ],
             [
              0.1111111111111111,
              "#46039f"
             ],
             [
              0.2222222222222222,
              "#7201a8"
             ],
             [
              0.3333333333333333,
              "#9c179e"
             ],
             [
              0.4444444444444444,
              "#bd3786"
             ],
             [
              0.5555555555555556,
              "#d8576b"
             ],
             [
              0.6666666666666666,
              "#ed7953"
             ],
             [
              0.7777777777777778,
              "#fb9f3a"
             ],
             [
              0.8888888888888888,
              "#fdca26"
             ],
             [
              1,
              "#f0f921"
             ]
            ],
            "type": "surface"
           }
          ],
          "table": [
           {
            "cells": {
             "fill": {
              "color": "#EBF0F8"
             },
             "line": {
              "color": "white"
             }
            },
            "header": {
             "fill": {
              "color": "#C8D4E3"
             },
             "line": {
              "color": "white"
             }
            },
            "type": "table"
           }
          ]
         },
         "layout": {
          "annotationdefaults": {
           "arrowcolor": "#2a3f5f",
           "arrowhead": 0,
           "arrowwidth": 1
          },
          "autotypenumbers": "strict",
          "coloraxis": {
           "colorbar": {
            "outlinewidth": 0,
            "ticks": ""
           }
          },
          "colorscale": {
           "diverging": [
            [
             0,
             "#8e0152"
            ],
            [
             0.1,
             "#c51b7d"
            ],
            [
             0.2,
             "#de77ae"
            ],
            [
             0.3,
             "#f1b6da"
            ],
            [
             0.4,
             "#fde0ef"
            ],
            [
             0.5,
             "#f7f7f7"
            ],
            [
             0.6,
             "#e6f5d0"
            ],
            [
             0.7,
             "#b8e186"
            ],
            [
             0.8,
             "#7fbc41"
            ],
            [
             0.9,
             "#4d9221"
            ],
            [
             1,
             "#276419"
            ]
           ],
           "sequential": [
            [
             0,
             "#0d0887"
            ],
            [
             0.1111111111111111,
             "#46039f"
            ],
            [
             0.2222222222222222,
             "#7201a8"
            ],
            [
             0.3333333333333333,
             "#9c179e"
            ],
            [
             0.4444444444444444,
             "#bd3786"
            ],
            [
             0.5555555555555556,
             "#d8576b"
            ],
            [
             0.6666666666666666,
             "#ed7953"
            ],
            [
             0.7777777777777778,
             "#fb9f3a"
            ],
            [
             0.8888888888888888,
             "#fdca26"
            ],
            [
             1,
             "#f0f921"
            ]
           ],
           "sequentialminus": [
            [
             0,
             "#0d0887"
            ],
            [
             0.1111111111111111,
             "#46039f"
            ],
            [
             0.2222222222222222,
             "#7201a8"
            ],
            [
             0.3333333333333333,
             "#9c179e"
            ],
            [
             0.4444444444444444,
             "#bd3786"
            ],
            [
             0.5555555555555556,
             "#d8576b"
            ],
            [
             0.6666666666666666,
             "#ed7953"
            ],
            [
             0.7777777777777778,
             "#fb9f3a"
            ],
            [
             0.8888888888888888,
             "#fdca26"
            ],
            [
             1,
             "#f0f921"
            ]
           ]
          },
          "colorway": [
           "#636efa",
           "#EF553B",
           "#00cc96",
           "#ab63fa",
           "#FFA15A",
           "#19d3f3",
           "#FF6692",
           "#B6E880",
           "#FF97FF",
           "#FECB52"
          ],
          "font": {
           "color": "#2a3f5f"
          },
          "geo": {
           "bgcolor": "white",
           "lakecolor": "white",
           "landcolor": "#E5ECF6",
           "showlakes": true,
           "showland": true,
           "subunitcolor": "white"
          },
          "hoverlabel": {
           "align": "left"
          },
          "hovermode": "closest",
          "mapbox": {
           "style": "light"
          },
          "paper_bgcolor": "white",
          "plot_bgcolor": "#E5ECF6",
          "polar": {
           "angularaxis": {
            "gridcolor": "white",
            "linecolor": "white",
            "ticks": ""
           },
           "bgcolor": "#E5ECF6",
           "radialaxis": {
            "gridcolor": "white",
            "linecolor": "white",
            "ticks": ""
           }
          },
          "scene": {
           "xaxis": {
            "backgroundcolor": "#E5ECF6",
            "gridcolor": "white",
            "gridwidth": 2,
            "linecolor": "white",
            "showbackground": true,
            "ticks": "",
            "zerolinecolor": "white"
           },
           "yaxis": {
            "backgroundcolor": "#E5ECF6",
            "gridcolor": "white",
            "gridwidth": 2,
            "linecolor": "white",
            "showbackground": true,
            "ticks": "",
            "zerolinecolor": "white"
           },
           "zaxis": {
            "backgroundcolor": "#E5ECF6",
            "gridcolor": "white",
            "gridwidth": 2,
            "linecolor": "white",
            "showbackground": true,
            "ticks": "",
            "zerolinecolor": "white"
           }
          },
          "shapedefaults": {
           "line": {
            "color": "#2a3f5f"
           }
          },
          "ternary": {
           "aaxis": {
            "gridcolor": "white",
            "linecolor": "white",
            "ticks": ""
           },
           "baxis": {
            "gridcolor": "white",
            "linecolor": "white",
            "ticks": ""
           },
           "bgcolor": "#E5ECF6",
           "caxis": {
            "gridcolor": "white",
            "linecolor": "white",
            "ticks": ""
           }
          },
          "title": {
           "x": 0.05
          },
          "xaxis": {
           "automargin": true,
           "gridcolor": "white",
           "linecolor": "white",
           "ticks": "",
           "title": {
            "standoff": 15
           },
           "zerolinecolor": "white",
           "zerolinewidth": 2
          },
          "yaxis": {
           "automargin": true,
           "gridcolor": "white",
           "linecolor": "white",
           "ticks": "",
           "title": {
            "standoff": 15
           },
           "zerolinecolor": "white",
           "zerolinewidth": 2
          }
         }
        }
       }
      }
     },
     "metadata": {},
     "output_type": "display_data"
    }
   ],
   "source": [
    "col_weak=[\"Time\", \"CPU\", \"<Ovr(Phi.Eta.Rn.Rn)>\", \"<H0>\",\n",
    "    \"<Occ{H0:0}>\", \"<Occ{H0:1}>\", \"<Occ{H0:2}>\", \"<Occ{H0:3}>\", \"<Occ{H0:4}>\", \"<Occ{H0:5}>\",\n",
    "    \"Re{<H0:0|psi>}\", \"Re{<H0:1|psi>}\", \"Re{<H0:2|psi>}\", \"Re{<H0:3|psi>}\", \"Re{<H0:4|psi>}\", \"Re{<H0:5|psi>}\",\n",
    "    \"Imag{<H0:0|psi>}\", \"Imag{<H0:1|psi>}\", \"Imag{<H0:2|psi>}\", \"Imag{<H0:3|psi>}\", \"Imag{<H0:4|psi>}\", \"Imag{<H0:5|psi>}\"\n",
    "]\n",
    "df_weak=pd.read_csv(\"/home/user/BachelorThesis/trecxcoefftests/weakpulse/0043/expec\", sep=\"\\s+\", header=8)\n",
    "#shift every column name by one and remove the first column\n",
    "df_weak.columns = df_weak.columns[1:].tolist() + [\"\"]\n",
    "#remove last column\n",
    "df_weak = df_weak.iloc[:, :-1]\n",
    "df_weak.columns = col_weak\n",
    "\n",
    "\n",
    "\n",
    "time0 = extract_time(\"/home/user/BachelorThesis/trecxcoefftests/weakpulse/0043/Laser\")\n",
    "field0 = extractField_0(\"/home/user/BachelorThesis/trecxcoefftests/weakpulse/0043/Laser\")\n",
    "\n",
    "integrand = np.exp(1j* 1/4 * np.array(time0)) * np.array(field0)*3\n",
    "cumulative_integral = cumulative_trapezoid(-1j*integrand, x=np.array(time0), initial=0)\n",
    "interp_func = interp1d(time0, cumulative_integral, kind='cubic', fill_value=\"extrapolate\")\n",
    "cumulative_integral_reduced = interp_func(df_weak[\"Time\"])\n",
    "\n",
    "\n",
    "\n",
    "fig = go.Figure()\n",
    "\n",
    "fig.add_trace(go.Scatter(x=np.array(df_weak[\"Time\"]), y=df_weak[\"<Occ{H0:1}>\"], mode='lines', name='c^2_Occ_new'))\n",
    "#fig.add_trace(go.Scatter(x=np.array(df_weak[\"Time\"]), y=df_weak[\"Re{<H0:1|psi>}\"]**2+df_weak[\"Imag{<H0:1|psi>}\"]**2, mode='lines', name='c^2_new'))\n",
    "\n",
    "fig.add_trace(go.Scatter(x=np.array(df_weak[\"Time\"]), y=np.abs(cumulative_integral_reduced)**2, mode='lines', name='c^2_analytical'))\n",
    "\n",
    "fig.show()"
   ]
  },
  {
   "cell_type": "markdown",
   "metadata": {},
   "source": [
    "# Laser Pulse"
   ]
  },
  {
   "cell_type": "code",
   "execution_count": 2,
   "metadata": {},
   "outputs": [
    {
     "data": {
      "application/vnd.plotly.v1+json": {
       "config": {
        "plotlyServerURL": "https://plot.ly"
       },
       "data": [
        {
         "mode": "lines",
         "name": "field0",
         "type": "scatter",
         "x": [
          -352.0870921,
          -351.735005,
          -351.3829179,
          -351.0308308,
          -350.6787437,
          -350.3266566,
          -349.9745695,
          -349.6224825,
          -349.2703954,
          -348.9183083,
          -348.5662212,
          -348.2141341,
          -347.862047,
          -347.5099599,
          -347.1578728,
          -346.8057857,
          -346.4536986,
          -346.1016115,
          -345.7495244,
          -345.3974373,
          -345.0453503,
          -344.6932632,
          -344.3411761,
          -343.989089,
          -343.6370019,
          -343.2849148,
          -342.9328277,
          -342.5807406,
          -342.2286535,
          -341.8765664,
          -341.5244793,
          -341.1723922,
          -340.8203051,
          -340.4682181,
          -340.116131,
          -339.7640439,
          -339.4119568,
          -339.0598697,
          -338.7077826,
          -338.3556955,
          -338.0036084,
          -337.6515213,
          -337.2994342,
          -336.9473471,
          -336.59526,
          -336.243173,
          -335.8910859,
          -335.5389988,
          -335.1869117,
          -334.8348246,
          -334.4827375,
          -334.1306504,
          -333.7785633,
          -333.4264762,
          -333.0743891,
          -332.722302,
          -332.3702149,
          -332.0181278,
          -331.6660408,
          -331.3139537,
          -330.9618666,
          -330.6097795,
          -330.2576924,
          -329.9056053,
          -329.5535182,
          -329.2014311,
          -328.849344,
          -328.4972569,
          -328.1451698,
          -327.7930827,
          -327.4409956,
          -327.0889086,
          -326.7368215,
          -326.3847344,
          -326.0326473,
          -325.6805602,
          -325.3284731,
          -324.976386,
          -324.6242989,
          -324.2722118,
          -323.9201247,
          -323.5680376,
          -323.2159505,
          -322.8638635,
          -322.5117764,
          -322.1596893,
          -321.8076022,
          -321.4555151,
          -321.103428,
          -320.7513409,
          -320.3992538,
          -320.0471667,
          -319.6950796,
          -319.3429925,
          -318.9909054,
          -318.6388183,
          -318.2867313,
          -317.9346442,
          -317.5825571,
          -317.23047,
          -316.8783829,
          -316.5262958,
          -316.1742087,
          -315.8221216,
          -315.4700345,
          -315.1179474,
          -314.7658603,
          -314.4137732,
          -314.0616861,
          -313.7095991,
          -313.357512,
          -313.0054249,
          -312.6533378,
          -312.3012507,
          -311.9491636,
          -311.5970765,
          -311.2449894,
          -310.8929023,
          -310.5408152,
          -310.1887281,
          -309.836641,
          -309.484554,
          -309.1324669,
          -308.7803798,
          -308.4282927,
          -308.0762056,
          -307.7241185,
          -307.3720314,
          -307.0199443,
          -306.6678572,
          -306.3157701,
          -305.963683,
          -305.6115959,
          -305.2595088,
          -304.9074218,
          -304.5553347,
          -304.2032476,
          -303.8511605,
          -303.4990734,
          -303.1469863,
          -302.7948992,
          -302.4428121,
          -302.090725,
          -301.7386379,
          -301.3865508,
          -301.0344637,
          -300.6823766,
          -300.3302896,
          -299.9782025,
          -299.6261154,
          -299.2740283,
          -298.9219412,
          -298.5698541,
          -298.217767,
          -297.8656799,
          -297.5135928,
          -297.1615057,
          -296.8094186,
          -296.4573315,
          -296.1052445,
          -295.7531574,
          -295.4010703,
          -295.0489832,
          -294.6968961,
          -294.344809,
          -293.9927219,
          -293.6406348,
          -293.2885477,
          -292.9364606,
          -292.5843735,
          -292.2322864,
          -291.8801993,
          -291.5281123,
          -291.1760252,
          -290.8239381,
          -290.471851,
          -290.1197639,
          -289.7676768,
          -289.4155897,
          -289.0635026,
          -288.7114155,
          -288.3593284,
          -288.0072413,
          -287.6551542,
          -287.3030671,
          -286.9509801,
          -286.598893,
          -286.2468059,
          -285.8947188,
          -285.5426317,
          -285.1905446,
          -284.8384575,
          -284.4863704,
          -284.1342833,
          -283.7821962,
          -283.4301091,
          -283.078022,
          -282.725935,
          -282.3738479,
          -282.0217608,
          -281.6696737,
          -281.3175866,
          -280.9654995,
          -280.6134124,
          -280.2613253,
          -279.9092382,
          -279.5571511,
          -279.205064,
          -278.8529769,
          -278.5008898,
          -278.1488028,
          -277.7967157,
          -277.4446286,
          -277.0925415,
          -276.7404544,
          -276.3883673,
          -276.0362802,
          -275.6841931,
          -275.332106,
          -274.9800189,
          -274.6279318,
          -274.2758447,
          -273.9237576,
          -273.5716706,
          -273.2195835,
          -272.8674964,
          -272.5154093,
          -272.1633222,
          -271.8112351,
          -271.459148,
          -271.1070609,
          -270.7549738,
          -270.4028867,
          -270.0507996,
          -269.6987125,
          -269.3466255,
          -268.9945384,
          -268.6424513,
          -268.2903642,
          -267.9382771,
          -267.58619,
          -267.2341029,
          -266.8820158,
          -266.5299287,
          -266.1778416,
          -265.8257545,
          -265.4736674,
          -265.1215803,
          -264.7694933,
          -264.4174062,
          -264.0653191,
          -263.713232,
          -263.3611449,
          -263.0090578,
          -262.6569707,
          -262.3048836,
          -261.9527965,
          -261.6007094,
          -261.2486223,
          -260.8965352,
          -260.5444482,
          -260.1923611,
          -259.840274,
          -259.4881869,
          -259.1360998,
          -258.7840127,
          -258.4319256,
          -258.0798385,
          -257.7277514,
          -257.3756643,
          -257.0235772,
          -256.6714901,
          -256.319403,
          -255.967316,
          -255.6152289,
          -255.2631418,
          -254.9110547,
          -254.5589676,
          -254.2068805,
          -253.8547934,
          -253.5027063,
          -253.1506192,
          -252.7985321,
          -252.446445,
          -252.0943579,
          -251.7422708,
          -251.3901838,
          -251.0380967,
          -250.6860096,
          -250.3339225,
          -249.9818354,
          -249.6297483,
          -249.2776612,
          -248.9255741,
          -248.573487,
          -248.2213999,
          -247.8693128,
          -247.5172257,
          -247.1651387,
          -246.8130516,
          -246.4609645,
          -246.1088774,
          -245.7567903,
          -245.4047032,
          -245.0526161,
          -244.700529,
          -244.3484419,
          -243.9963548,
          -243.6442677,
          -243.2921806,
          -242.9400935,
          -242.5880065,
          -242.2359194,
          -241.8838323,
          -241.5317452,
          -241.1796581,
          -240.827571,
          -240.4754839,
          -240.1233968,
          -239.7713097,
          -239.4192226,
          -239.0671355,
          -238.7150484,
          -238.3629613,
          -238.0108743,
          -237.6587872,
          -237.3067001,
          -236.954613,
          -236.6025259,
          -236.2504388,
          -235.8983517,
          -235.5462646,
          -235.1941775,
          -234.8420904,
          -234.4900033,
          -234.1379162,
          -233.7858292,
          -233.4337421,
          -233.081655,
          -232.7295679,
          -232.3774808,
          -232.0253937,
          -231.6733066,
          -231.3212195,
          -230.9691324,
          -230.6170453,
          -230.2649582,
          -229.9128711,
          -229.560784,
          -229.208697,
          -228.8566099,
          -228.5045228,
          -228.1524357,
          -227.8003486,
          -227.4482615,
          -227.0961744,
          -226.7440873,
          -226.3920002,
          -226.0399131,
          -225.687826,
          -225.3357389,
          -224.9836518,
          -224.6315648,
          -224.2794777,
          -223.9273906,
          -223.5753035,
          -223.2232164,
          -222.8711293,
          -222.5190422,
          -222.1669551,
          -221.814868,
          -221.4627809,
          -221.1106938,
          -220.7586067,
          -220.4065197,
          -220.0544326,
          -219.7023455,
          -219.3502584,
          -218.9981713,
          -218.6460842,
          -218.2939971,
          -217.94191,
          -217.5898229,
          -217.2377358,
          -216.8856487,
          -216.5335616,
          -216.1814745,
          -215.8293875,
          -215.4773004,
          -215.1252133,
          -214.7731262,
          -214.4210391,
          -214.068952,
          -213.7168649,
          -213.3647778,
          -213.0126907,
          -212.6606036,
          -212.3085165,
          -211.9564294,
          -211.6043423,
          -211.2522553,
          -210.9001682,
          -210.5480811,
          -210.195994,
          -209.8439069,
          -209.4918198,
          -209.1397327,
          -208.7876456,
          -208.4355585,
          -208.0834714,
          -207.7313843,
          -207.3792972,
          -207.0272102,
          -206.6751231,
          -206.323036,
          -205.9709489,
          -205.6188618,
          -205.2667747,
          -204.9146876,
          -204.5626005,
          -204.2105134,
          -203.8584263,
          -203.5063392,
          -203.1542521,
          -202.802165,
          -202.450078,
          -202.0979909,
          -201.7459038,
          -201.3938167,
          -201.0417296,
          -200.6896425,
          -200.3375554,
          -199.9854683,
          -199.6333812,
          -199.2812941,
          -198.929207,
          -198.5771199,
          -198.2250328,
          -197.8729458,
          -197.5208587,
          -197.1687716,
          -196.8166845,
          -196.4645974,
          -196.1125103,
          -195.7604232,
          -195.4083361,
          -195.056249,
          -194.7041619,
          -194.3520748,
          -193.9999877,
          -193.6479007,
          -193.2958136,
          -192.9437265,
          -192.5916394,
          -192.2395523,
          -191.8874652,
          -191.5353781,
          -191.183291,
          -190.8312039,
          -190.4791168,
          -190.1270297,
          -189.7749426,
          -189.4228555,
          -189.0707685,
          -188.7186814,
          -188.3665943,
          -188.0145072,
          -187.6624201,
          -187.310333,
          -186.9582459,
          -186.6061588,
          -186.2540717,
          -185.9019846,
          -185.5498975,
          -185.1978104,
          -184.8457233,
          -184.4936363,
          -184.1415492,
          -183.7894621,
          -183.437375,
          -183.0852879,
          -182.7332008,
          -182.3811137,
          -182.0290266,
          -181.6769395,
          -181.3248524,
          -180.9727653,
          -180.6206782,
          -180.2685912,
          -179.9165041,
          -179.564417,
          -179.2123299,
          -178.8602428,
          -178.5081557,
          -178.1560686,
          -177.8039815,
          -177.4518944,
          -177.0998073,
          -176.7477202,
          -176.3956331,
          -176.043546,
          -175.691459,
          -175.3393719,
          -174.9872848,
          -174.6351977,
          -174.2831106,
          -173.9310235,
          -173.5789364,
          -173.2268493,
          -172.8747622,
          -172.5226751,
          -172.170588,
          -171.8185009,
          -171.4664139,
          -171.1143268,
          -170.7622397,
          -170.4101526,
          -170.0580655,
          -169.7059784,
          -169.3538913,
          -169.0018042,
          -168.6497171,
          -168.29763,
          -167.9455429,
          -167.5934558,
          -167.2413687,
          -166.8892817,
          -166.5371946,
          -166.1851075,
          -165.8330204,
          -165.4809333,
          -165.1288462,
          -164.7767591,
          -164.424672,
          -164.0725849,
          -163.7204978,
          -163.3684107,
          -163.0163236,
          -162.6642365,
          -162.3121495,
          -161.9600624,
          -161.6079753,
          -161.2558882,
          -160.9038011,
          -160.551714,
          -160.1996269,
          -159.8475398,
          -159.4954527,
          -159.1433656,
          -158.7912785,
          -158.4391914,
          -158.0871044,
          -157.7350173,
          -157.3829302,
          -157.0308431,
          -156.678756,
          -156.3266689,
          -155.9745818,
          -155.6224947,
          -155.2704076,
          -154.9183205,
          -154.5662334,
          -154.2141463,
          -153.8620592,
          -153.5099722,
          -153.1578851,
          -152.805798,
          -152.4537109,
          -152.1016238,
          -151.7495367,
          -151.3974496,
          -151.0453625,
          -150.6932754,
          -150.3411883,
          -149.9891012,
          -149.6370141,
          -149.284927,
          -148.93284,
          -148.5807529,
          -148.2286658,
          -147.8765787,
          -147.5244916,
          -147.1724045,
          -146.8203174,
          -146.4682303,
          -146.1161432,
          -145.7640561,
          -145.411969,
          -145.0598819,
          -144.7077949,
          -144.3557078,
          -144.0036207,
          -143.6515336,
          -143.2994465,
          -142.9473594,
          -142.5952723,
          -142.2431852,
          -141.8910981,
          -141.539011,
          -141.1869239,
          -140.8348368,
          -140.4827497,
          -140.1306627,
          -139.7785756,
          -139.4264885,
          -139.0744014,
          -138.7223143,
          -138.3702272,
          -138.0181401,
          -137.666053,
          -137.3139659,
          -136.9618788,
          -136.6097917,
          -136.2577046,
          -135.9056175,
          -135.5535305,
          -135.2014434,
          -134.8493563,
          -134.4972692,
          -134.1451821,
          -133.793095,
          -133.4410079,
          -133.0889208,
          -132.7368337,
          -132.3847466,
          -132.0326595,
          -131.6805724,
          -131.3284854,
          -130.9763983,
          -130.6243112,
          -130.2722241,
          -129.920137,
          -129.5680499,
          -129.2159628,
          -128.8638757,
          -128.5117886,
          -128.1597015,
          -127.8076144,
          -127.4555273,
          -127.1034402,
          -126.7513532,
          -126.3992661,
          -126.047179,
          -125.6950919,
          -125.3430048,
          -124.9909177,
          -124.6388306,
          -124.2867435,
          -123.9346564,
          -123.5825693,
          -123.2304822,
          -122.8783951,
          -122.526308,
          -122.174221,
          -121.8221339,
          -121.4700468,
          -121.1179597,
          -120.7658726,
          -120.4137855,
          -120.0616984,
          -119.7096113,
          -119.3575242,
          -119.0054371,
          -118.65335,
          -118.3012629,
          -117.9491759,
          -117.5970888,
          -117.2450017,
          -116.8929146,
          -116.5408275,
          -116.1887404,
          -115.8366533,
          -115.4845662,
          -115.1324791,
          -114.780392,
          -114.4283049,
          -114.0762178,
          -113.7241307,
          -113.3720437,
          -113.0199566,
          -112.6678695,
          -112.3157824,
          -111.9636953,
          -111.6116082,
          -111.2595211,
          -110.907434,
          -110.5553469,
          -110.2032598,
          -109.8511727,
          -109.4990856,
          -109.1469985,
          -108.7949115,
          -108.4428244,
          -108.0907373,
          -107.7386502,
          -107.3865631,
          -107.034476,
          -106.6823889,
          -106.3303018,
          -105.9782147,
          -105.6261276,
          -105.2740405,
          -104.9219534,
          -104.5698664,
          -104.2177793,
          -103.8656922,
          -103.5136051,
          -103.161518,
          -102.8094309,
          -102.4573438,
          -102.1052567,
          -101.7531696,
          -101.4010825,
          -101.0489954,
          -100.6969083,
          -100.3448212,
          -99.99273416,
          -99.64064706,
          -99.28855997,
          -98.93647288,
          -98.58438579,
          -98.23229869,
          -97.8802116,
          -97.52812451,
          -97.17603742,
          -96.82395033,
          -96.47186323,
          -96.11977614,
          -95.76768905,
          -95.41560196,
          -95.06351487,
          -94.71142777,
          -94.35934068,
          -94.00725359,
          -93.6551665,
          -93.30307941,
          -92.95099231,
          -92.59890522,
          -92.24681813,
          -91.89473104,
          -91.54264394,
          -91.19055685,
          -90.83846976,
          -90.48638267,
          -90.13429558,
          -89.78220848,
          -89.43012139,
          -89.0780343,
          -88.72594721,
          -88.37386012,
          -88.02177302,
          -87.66968593,
          -87.31759884,
          -86.96551175,
          -86.61342466,
          -86.26133756,
          -85.90925047,
          -85.55716338,
          -85.20507629,
          -84.85298919,
          -84.5009021,
          -84.14881501,
          -83.79672792,
          -83.44464083,
          -83.09255373,
          -82.74046664,
          -82.38837955,
          -82.03629246,
          -81.68420537,
          -81.33211827,
          -80.98003118,
          -80.62794409,
          -80.275857,
          -79.92376991,
          -79.57168281,
          -79.21959572,
          -78.86750863,
          -78.51542154,
          -78.16333445,
          -77.81124735,
          -77.45916026,
          -77.10707317,
          -76.75498608,
          -76.40289898,
          -76.05081189,
          -75.6987248,
          -75.34663771,
          -74.99455062,
          -74.64246352,
          -74.29037643,
          -73.93828934,
          -73.58620225,
          -73.23411516,
          -72.88202806,
          -72.52994097,
          -72.17785388,
          -71.82576679,
          -71.4736797,
          -71.1215926,
          -70.76950551,
          -70.41741842,
          -70.06533133,
          -69.71324423,
          -69.36115714,
          -69.00907005,
          -68.65698296,
          -68.30489587,
          -67.95280877,
          -67.60072168,
          -67.24863459,
          -66.8965475,
          -66.54446041,
          -66.19237331,
          -65.84028622,
          -65.48819913,
          -65.13611204,
          -64.78402495,
          -64.43193785,
          -64.07985076,
          -63.72776367,
          -63.37567658,
          -63.02358949,
          -62.67150239,
          -62.3194153,
          -61.96732821,
          -61.61524112,
          -61.26315402,
          -60.91106693,
          -60.55897984,
          -60.20689275,
          -59.85480566,
          -59.50271856,
          -59.15063147,
          -58.79854438,
          -58.44645729,
          -58.0943702,
          -57.7422831,
          -57.39019601,
          -57.03810892,
          -56.68602183,
          -56.33393474,
          -55.98184764,
          -55.62976055,
          -55.27767346,
          -54.92558637,
          -54.57349927,
          -54.22141218,
          -53.86932509,
          -53.517238,
          -53.16515091,
          -52.81306381,
          -52.46097672,
          -52.10888963,
          -51.75680254,
          -51.40471545,
          -51.05262835,
          -50.70054126,
          -50.34845417,
          -49.99636708,
          -49.64427999,
          -49.29219289,
          -48.9401058,
          -48.58801871,
          -48.23593162,
          -47.88384452,
          -47.53175743,
          -47.17967034,
          -46.82758325,
          -46.47549616,
          -46.12340906,
          -45.77132197,
          -45.41923488,
          -45.06714779,
          -44.7150607,
          -44.3629736,
          -44.01088651,
          -43.65879942,
          -43.30671233,
          -42.95462524,
          -42.60253814,
          -42.25045105,
          -41.89836396,
          -41.54627687,
          -41.19418978,
          -40.84210268,
          -40.49001559,
          -40.1379285,
          -39.78584141,
          -39.43375431,
          -39.08166722,
          -38.72958013,
          -38.37749304,
          -38.02540595,
          -37.67331885,
          -37.32123176,
          -36.96914467,
          -36.61705758,
          -36.26497049,
          -35.91288339,
          -35.5607963,
          -35.20870921,
          -34.85662212,
          -34.50453503,
          -34.15244793,
          -33.80036084,
          -33.44827375,
          -33.09618666,
          -32.74409956,
          -32.39201247,
          -32.03992538,
          -31.68783829,
          -31.3357512,
          -30.9836641,
          -30.63157701,
          -30.27948992,
          -29.92740283,
          -29.57531574,
          -29.22322864,
          -28.87114155,
          -28.51905446,
          -28.16696737,
          -27.81488028,
          -27.46279318,
          -27.11070609,
          -26.758619,
          -26.40653191,
          -26.05444482,
          -25.70235772,
          -25.35027063,
          -24.99818354,
          -24.64609645,
          -24.29400935,
          -23.94192226,
          -23.58983517,
          -23.23774808,
          -22.88566099,
          -22.53357389,
          -22.1814868,
          -21.82939971,
          -21.47731262,
          -21.12522553,
          -20.77313843,
          -20.42105134,
          -20.06896425,
          -19.71687716,
          -19.36479007,
          -19.01270297,
          -18.66061588,
          -18.30852879,
          -17.9564417,
          -17.6043546,
          -17.25226751,
          -16.90018042,
          -16.54809333,
          -16.19600624,
          -15.84391914,
          -15.49183205,
          -15.13974496,
          -14.78765787,
          -14.43557078,
          -14.08348368,
          -13.73139659,
          -13.3793095,
          -13.02722241,
          -12.67513532,
          -12.32304822,
          -11.97096113,
          -11.61887404,
          -11.26678695,
          -10.91469985,
          -10.56261276,
          -10.21052567,
          -9.858438579,
          -9.506351487,
          -9.154264394,
          -8.802177302,
          -8.45009021,
          -8.098003118,
          -7.745916026,
          -7.393828934,
          -7.041741842,
          -6.68965475,
          -6.337567658,
          -5.985480566,
          -5.633393474,
          -5.281306381,
          -4.929219289,
          -4.577132197,
          -4.225045105,
          -3.872958013,
          -3.520870921,
          -3.168783829,
          -2.816696737,
          -2.464609645,
          -2.112522553,
          -1.76043546,
          -1.408348368,
          -1.056261276,
          -0.7041741842,
          -0.3520870921,
          1.639688385e-12,
          0.3520870921,
          0.7041741842,
          1.056261276,
          1.408348368,
          1.76043546,
          2.112522553,
          2.464609645,
          2.816696737,
          3.168783829,
          3.520870921,
          3.872958013,
          4.225045105,
          4.577132197,
          4.929219289,
          5.281306381,
          5.633393474,
          5.985480566,
          6.337567658,
          6.68965475,
          7.041741842,
          7.393828934,
          7.745916026,
          8.098003118,
          8.45009021,
          8.802177302,
          9.154264394,
          9.506351487,
          9.858438579,
          10.21052567,
          10.56261276,
          10.91469985,
          11.26678695,
          11.61887404,
          11.97096113,
          12.32304822,
          12.67513532,
          13.02722241,
          13.3793095,
          13.73139659,
          14.08348368,
          14.43557078,
          14.78765787,
          15.13974496,
          15.49183205,
          15.84391914,
          16.19600624,
          16.54809333,
          16.90018042,
          17.25226751,
          17.6043546,
          17.9564417,
          18.30852879,
          18.66061588,
          19.01270297,
          19.36479007,
          19.71687716,
          20.06896425,
          20.42105134,
          20.77313843,
          21.12522553,
          21.47731262,
          21.82939971,
          22.1814868,
          22.53357389,
          22.88566099,
          23.23774808,
          23.58983517,
          23.94192226,
          24.29400935,
          24.64609645,
          24.99818354,
          25.35027063,
          25.70235772,
          26.05444482,
          26.40653191,
          26.758619,
          27.11070609,
          27.46279318,
          27.81488028,
          28.16696737,
          28.51905446,
          28.87114155,
          29.22322864,
          29.57531574,
          29.92740283,
          30.27948992,
          30.63157701,
          30.9836641,
          31.3357512,
          31.68783829,
          32.03992538,
          32.39201247,
          32.74409956,
          33.09618666,
          33.44827375,
          33.80036084,
          34.15244793,
          34.50453503,
          34.85662212,
          35.20870921,
          35.5607963,
          35.91288339,
          36.26497049,
          36.61705758,
          36.96914467,
          37.32123176,
          37.67331885,
          38.02540595,
          38.37749304,
          38.72958013,
          39.08166722,
          39.43375431,
          39.78584141,
          40.1379285,
          40.49001559,
          40.84210268,
          41.19418978,
          41.54627687,
          41.89836396,
          42.25045105,
          42.60253814,
          42.95462524,
          43.30671233,
          43.65879942,
          44.01088651,
          44.3629736,
          44.7150607,
          45.06714779,
          45.41923488,
          45.77132197,
          46.12340906,
          46.47549616,
          46.82758325,
          47.17967034,
          47.53175743,
          47.88384452,
          48.23593162,
          48.58801871,
          48.9401058,
          49.29219289,
          49.64427999,
          49.99636708,
          50.34845417,
          50.70054126,
          51.05262835,
          51.40471545,
          51.75680254,
          52.10888963,
          52.46097672,
          52.81306381,
          53.16515091,
          53.517238,
          53.86932509,
          54.22141218,
          54.57349927,
          54.92558637,
          55.27767346,
          55.62976055,
          55.98184764,
          56.33393474,
          56.68602183,
          57.03810892,
          57.39019601,
          57.7422831,
          58.0943702,
          58.44645729,
          58.79854438,
          59.15063147,
          59.50271856,
          59.85480566,
          60.20689275,
          60.55897984,
          60.91106693,
          61.26315402,
          61.61524112,
          61.96732821,
          62.3194153,
          62.67150239,
          63.02358949,
          63.37567658,
          63.72776367,
          64.07985076,
          64.43193785,
          64.78402495,
          65.13611204,
          65.48819913,
          65.84028622,
          66.19237331,
          66.54446041,
          66.8965475,
          67.24863459,
          67.60072168,
          67.95280877,
          68.30489587,
          68.65698296,
          69.00907005,
          69.36115714,
          69.71324423,
          70.06533133,
          70.41741842,
          70.76950551,
          71.1215926,
          71.4736797,
          71.82576679,
          72.17785388,
          72.52994097,
          72.88202806,
          73.23411516,
          73.58620225,
          73.93828934,
          74.29037643,
          74.64246352,
          74.99455062,
          75.34663771,
          75.6987248,
          76.05081189,
          76.40289898,
          76.75498608,
          77.10707317,
          77.45916026,
          77.81124735,
          78.16333445,
          78.51542154,
          78.86750863,
          79.21959572,
          79.57168281,
          79.92376991,
          80.275857,
          80.62794409,
          80.98003118,
          81.33211827,
          81.68420537,
          82.03629246,
          82.38837955,
          82.74046664,
          83.09255373,
          83.44464083,
          83.79672792,
          84.14881501,
          84.5009021,
          84.85298919,
          85.20507629,
          85.55716338,
          85.90925047,
          86.26133756,
          86.61342466,
          86.96551175,
          87.31759884,
          87.66968593,
          88.02177302,
          88.37386012,
          88.72594721,
          89.0780343,
          89.43012139,
          89.78220848,
          90.13429558,
          90.48638267,
          90.83846976,
          91.19055685,
          91.54264394,
          91.89473104,
          92.24681813,
          92.59890522,
          92.95099231,
          93.30307941,
          93.6551665,
          94.00725359,
          94.35934068,
          94.71142777,
          95.06351487,
          95.41560196,
          95.76768905,
          96.11977614,
          96.47186323,
          96.82395033,
          97.17603742,
          97.52812451,
          97.8802116,
          98.23229869,
          98.58438579,
          98.93647288,
          99.28855997,
          99.64064706,
          99.99273416,
          100.3448212,
          100.6969083,
          101.0489954,
          101.4010825,
          101.7531696,
          102.1052567,
          102.4573438,
          102.8094309,
          103.161518,
          103.5136051,
          103.8656922,
          104.2177793,
          104.5698664,
          104.9219534,
          105.2740405,
          105.6261276,
          105.9782147,
          106.3303018,
          106.6823889,
          107.034476,
          107.3865631,
          107.7386502,
          108.0907373,
          108.4428244,
          108.7949115,
          109.1469985,
          109.4990856,
          109.8511727,
          110.2032598,
          110.5553469,
          110.907434,
          111.2595211,
          111.6116082,
          111.9636953,
          112.3157824,
          112.6678695,
          113.0199566,
          113.3720437,
          113.7241307,
          114.0762178,
          114.4283049,
          114.780392,
          115.1324791,
          115.4845662,
          115.8366533,
          116.1887404,
          116.5408275,
          116.8929146,
          117.2450017,
          117.5970888,
          117.9491759,
          118.3012629,
          118.65335,
          119.0054371,
          119.3575242,
          119.7096113,
          120.0616984,
          120.4137855,
          120.7658726,
          121.1179597,
          121.4700468,
          121.8221339,
          122.174221,
          122.526308,
          122.8783951,
          123.2304822,
          123.5825693,
          123.9346564,
          124.2867435,
          124.6388306,
          124.9909177,
          125.3430048,
          125.6950919,
          126.047179,
          126.3992661,
          126.7513532,
          127.1034402,
          127.4555273,
          127.8076144,
          128.1597015,
          128.5117886,
          128.8638757,
          129.2159628,
          129.5680499,
          129.920137,
          130.2722241,
          130.6243112,
          130.9763983,
          131.3284854,
          131.6805724,
          132.0326595,
          132.3847466,
          132.7368337,
          133.0889208,
          133.4410079,
          133.793095,
          134.1451821,
          134.4972692,
          134.8493563,
          135.2014434,
          135.5535305,
          135.9056175,
          136.2577046,
          136.6097917,
          136.9618788,
          137.3139659,
          137.666053,
          138.0181401,
          138.3702272,
          138.7223143,
          139.0744014,
          139.4264885,
          139.7785756,
          140.1306627,
          140.4827497,
          140.8348368,
          141.1869239,
          141.539011,
          141.8910981,
          142.2431852,
          142.5952723,
          142.9473594,
          143.2994465,
          143.6515336,
          144.0036207,
          144.3557078,
          144.7077949,
          145.0598819,
          145.411969,
          145.7640561,
          146.1161432,
          146.4682303,
          146.8203174,
          147.1724045,
          147.5244916,
          147.8765787,
          148.2286658,
          148.5807529,
          148.93284,
          149.284927,
          149.6370141,
          149.9891012,
          150.3411883,
          150.6932754,
          151.0453625,
          151.3974496,
          151.7495367,
          152.1016238,
          152.4537109,
          152.805798,
          153.1578851,
          153.5099722,
          153.8620592,
          154.2141463,
          154.5662334,
          154.9183205,
          155.2704076,
          155.6224947,
          155.9745818,
          156.3266689,
          156.678756,
          157.0308431,
          157.3829302,
          157.7350173,
          158.0871044,
          158.4391914,
          158.7912785,
          159.1433656,
          159.4954527,
          159.8475398,
          160.1996269,
          160.551714,
          160.9038011,
          161.2558882,
          161.6079753,
          161.9600624,
          162.3121495,
          162.6642365,
          163.0163236,
          163.3684107,
          163.7204978,
          164.0725849,
          164.424672,
          164.7767591,
          165.1288462,
          165.4809333,
          165.8330204,
          166.1851075,
          166.5371946,
          166.8892817,
          167.2413687,
          167.5934558,
          167.9455429,
          168.29763,
          168.6497171,
          169.0018042,
          169.3538913,
          169.7059784,
          170.0580655,
          170.4101526,
          170.7622397,
          171.1143268,
          171.4664139,
          171.8185009,
          172.170588,
          172.5226751,
          172.8747622,
          173.2268493,
          173.5789364,
          173.9310235,
          174.2831106,
          174.6351977,
          174.9872848,
          175.3393719,
          175.691459,
          176.043546,
          176.3956331,
          176.7477202,
          177.0998073,
          177.4518944,
          177.8039815,
          178.1560686,
          178.5081557,
          178.8602428,
          179.2123299,
          179.564417,
          179.9165041,
          180.2685912,
          180.6206782,
          180.9727653,
          181.3248524,
          181.6769395,
          182.0290266,
          182.3811137,
          182.7332008,
          183.0852879,
          183.437375,
          183.7894621,
          184.1415492,
          184.4936363,
          184.8457233,
          185.1978104,
          185.5498975,
          185.9019846,
          186.2540717,
          186.6061588,
          186.9582459,
          187.310333,
          187.6624201,
          188.0145072,
          188.3665943,
          188.7186814,
          189.0707685,
          189.4228555,
          189.7749426,
          190.1270297,
          190.4791168,
          190.8312039,
          191.183291,
          191.5353781,
          191.8874652,
          192.2395523,
          192.5916394,
          192.9437265,
          193.2958136,
          193.6479007,
          193.9999877,
          194.3520748,
          194.7041619,
          195.056249,
          195.4083361,
          195.7604232,
          196.1125103,
          196.4645974,
          196.8166845,
          197.1687716,
          197.5208587,
          197.8729458,
          198.2250328,
          198.5771199,
          198.929207,
          199.2812941,
          199.6333812,
          199.9854683,
          200.3375554,
          200.6896425,
          201.0417296,
          201.3938167,
          201.7459038,
          202.0979909,
          202.450078,
          202.802165,
          203.1542521,
          203.5063392,
          203.8584263,
          204.2105134,
          204.5626005,
          204.9146876,
          205.2667747,
          205.6188618,
          205.9709489,
          206.323036,
          206.6751231,
          207.0272102,
          207.3792972,
          207.7313843,
          208.0834714,
          208.4355585,
          208.7876456,
          209.1397327,
          209.4918198,
          209.8439069,
          210.195994,
          210.5480811,
          210.9001682,
          211.2522553,
          211.6043423,
          211.9564294,
          212.3085165,
          212.6606036,
          213.0126907,
          213.3647778,
          213.7168649,
          214.068952,
          214.4210391,
          214.7731262,
          215.1252133,
          215.4773004,
          215.8293875,
          216.1814745,
          216.5335616,
          216.8856487,
          217.2377358,
          217.5898229,
          217.94191,
          218.2939971,
          218.6460842,
          218.9981713,
          219.3502584,
          219.7023455,
          220.0544326,
          220.4065197,
          220.7586067,
          221.1106938,
          221.4627809,
          221.814868,
          222.1669551,
          222.5190422,
          222.8711293,
          223.2232164,
          223.5753035,
          223.9273906,
          224.2794777,
          224.6315648,
          224.9836518,
          225.3357389,
          225.687826,
          226.0399131,
          226.3920002,
          226.7440873,
          227.0961744,
          227.4482615,
          227.8003486,
          228.1524357,
          228.5045228,
          228.8566099,
          229.208697,
          229.560784,
          229.9128711,
          230.2649582,
          230.6170453,
          230.9691324,
          231.3212195,
          231.6733066,
          232.0253937,
          232.3774808,
          232.7295679,
          233.081655,
          233.4337421,
          233.7858292,
          234.1379162,
          234.4900033,
          234.8420904,
          235.1941775,
          235.5462646,
          235.8983517,
          236.2504388,
          236.6025259,
          236.954613,
          237.3067001,
          237.6587872,
          238.0108743,
          238.3629613,
          238.7150484,
          239.0671355,
          239.4192226,
          239.7713097,
          240.1233968,
          240.4754839,
          240.827571,
          241.1796581,
          241.5317452,
          241.8838323,
          242.2359194,
          242.5880065,
          242.9400935,
          243.2921806,
          243.6442677,
          243.9963548,
          244.3484419,
          244.700529,
          245.0526161,
          245.4047032,
          245.7567903,
          246.1088774,
          246.4609645,
          246.8130516,
          247.1651387,
          247.5172257,
          247.8693128,
          248.2213999,
          248.573487,
          248.9255741,
          249.2776612,
          249.6297483,
          249.9818354,
          250.3339225,
          250.6860096,
          251.0380967,
          251.3901838,
          251.7422708,
          252.0943579,
          252.446445,
          252.7985321,
          253.1506192,
          253.5027063,
          253.8547934,
          254.2068805,
          254.5589676,
          254.9110547,
          255.2631418,
          255.6152289,
          255.967316,
          256.319403,
          256.6714901,
          257.0235772,
          257.3756643,
          257.7277514,
          258.0798385,
          258.4319256,
          258.7840127,
          259.1360998,
          259.4881869,
          259.840274,
          260.1923611,
          260.5444482,
          260.8965352,
          261.2486223,
          261.6007094,
          261.9527965,
          262.3048836,
          262.6569707,
          263.0090578,
          263.3611449,
          263.713232,
          264.0653191,
          264.4174062,
          264.7694933,
          265.1215803,
          265.4736674,
          265.8257545,
          266.1778416,
          266.5299287,
          266.8820158,
          267.2341029,
          267.58619,
          267.9382771,
          268.2903642,
          268.6424513,
          268.9945384,
          269.3466255,
          269.6987125,
          270.0507996,
          270.4028867,
          270.7549738,
          271.1070609,
          271.459148,
          271.8112351,
          272.1633222,
          272.5154093,
          272.8674964,
          273.2195835,
          273.5716706,
          273.9237576,
          274.2758447,
          274.6279318,
          274.9800189,
          275.332106,
          275.6841931,
          276.0362802,
          276.3883673,
          276.7404544,
          277.0925415,
          277.4446286,
          277.7967157,
          278.1488028,
          278.5008898,
          278.8529769,
          279.205064,
          279.5571511,
          279.9092382,
          280.2613253,
          280.6134124,
          280.9654995,
          281.3175866,
          281.6696737,
          282.0217608,
          282.3738479,
          282.725935,
          283.078022,
          283.4301091,
          283.7821962,
          284.1342833,
          284.4863704,
          284.8384575,
          285.1905446,
          285.5426317,
          285.8947188,
          286.2468059,
          286.598893,
          286.9509801,
          287.3030671,
          287.6551542,
          288.0072413,
          288.3593284,
          288.7114155,
          289.0635026,
          289.4155897,
          289.7676768,
          290.1197639,
          290.471851,
          290.8239381,
          291.1760252,
          291.5281123,
          291.8801993,
          292.2322864,
          292.5843735,
          292.9364606,
          293.2885477,
          293.6406348,
          293.9927219,
          294.344809,
          294.6968961,
          295.0489832,
          295.4010703,
          295.7531574,
          296.1052445,
          296.4573315,
          296.8094186,
          297.1615057,
          297.5135928,
          297.8656799,
          298.217767,
          298.5698541,
          298.9219412,
          299.2740283,
          299.6261154,
          299.9782025,
          300.3302896,
          300.6823766,
          301.0344637,
          301.3865508,
          301.7386379,
          302.090725,
          302.4428121,
          302.7948992,
          303.1469863,
          303.4990734,
          303.8511605,
          304.2032476,
          304.5553347,
          304.9074218,
          305.2595088,
          305.6115959,
          305.963683,
          306.3157701,
          306.6678572,
          307.0199443,
          307.3720314,
          307.7241185,
          308.0762056,
          308.4282927,
          308.7803798,
          309.1324669,
          309.484554,
          309.836641,
          310.1887281,
          310.5408152,
          310.8929023,
          311.2449894,
          311.5970765,
          311.9491636,
          312.3012507,
          312.6533378,
          313.0054249,
          313.357512,
          313.7095991,
          314.0616861,
          314.4137732,
          314.7658603,
          315.1179474,
          315.4700345,
          315.8221216,
          316.1742087,
          316.5262958,
          316.8783829,
          317.23047,
          317.5825571,
          317.9346442,
          318.2867313,
          318.6388183,
          318.9909054,
          319.3429925,
          319.6950796,
          320.0471667,
          320.3992538,
          320.7513409,
          321.103428,
          321.4555151,
          321.8076022,
          322.1596893,
          322.5117764,
          322.8638635,
          323.2159505,
          323.5680376,
          323.9201247,
          324.2722118,
          324.6242989,
          324.976386,
          325.3284731,
          325.6805602,
          326.0326473,
          326.3847344,
          326.7368215,
          327.0889086,
          327.4409956,
          327.7930827,
          328.1451698,
          328.4972569,
          328.849344,
          329.2014311,
          329.5535182,
          329.9056053,
          330.2576924,
          330.6097795,
          330.9618666,
          331.3139537,
          331.6660408,
          332.0181278,
          332.3702149,
          332.722302,
          333.0743891,
          333.4264762,
          333.7785633,
          334.1306504,
          334.4827375,
          334.8348246,
          335.1869117,
          335.5389988,
          335.8910859,
          336.243173,
          336.59526,
          336.9473471,
          337.2994342,
          337.6515213,
          338.0036084,
          338.3556955,
          338.7077826,
          339.0598697,
          339.4119568,
          339.7640439,
          340.116131,
          340.4682181,
          340.8203051,
          341.1723922,
          341.5244793,
          341.8765664,
          342.2286535,
          342.5807406,
          342.9328277,
          343.2849148,
          343.6370019,
          343.989089,
          344.3411761,
          344.6932632,
          345.0453503,
          345.3974373,
          345.7495244,
          346.1016115,
          346.4536986,
          346.8057857,
          347.1578728,
          347.5099599,
          347.862047,
          348.2141341,
          348.5662212,
          348.9183083,
          349.2703954,
          349.6224825,
          349.9745695,
          350.3266566,
          350.6787437,
          351.0308308,
          351.3829179,
          351.735005
         ],
         "y": [
          1.059672004e-115,
          7.684918451e-22,
          9.753392498e-20,
          1.65161797e-18,
          1.225747557e-17,
          5.787525893e-17,
          2.052490336e-16,
          5.973399448e-16,
          1.504066696e-15,
          3.390165487e-15,
          7.001460304e-15,
          1.347027447e-14,
          2.444011823e-14,
          4.22091576e-14,
          6.989130904e-14,
          1.115931168e-13,
          1.726038566e-13,
          2.595955741e-13,
          3.808290164e-13,
          5.463606426e-13,
          7.682451249e-13,
          1.060726962e-12,
          1.440414035e-12,
          1.926425143e-12,
          2.540502778e-12,
          3.307081584e-12,
          4.253302231e-12,
          5.408959612e-12,
          6.806373584e-12,
          8.480169734e-12,
          1.046695697e-11,
          1.280488808e-11,
          1.553308877e-11,
          1.869094008e-11,
          2.231719866e-11,
          2.644893864e-11,
          3.11202987e-11,
          3.636101722e-11,
          4.219473834e-11,
          4.863707127e-11,
          5.569338509e-11,
          6.335632115e-11,
          7.160300487e-11,
          8.039193922e-11,
          8.965956156e-11,
          9.931644641e-11,
          1.092431363e-10,
          1.192855834e-10,
          1.292501859e-10,
          1.388984009e-10,
          1.479409206e-10,
          1.560313944e-10,
          1.62759684e-10,
          1.676446374e-10,
          1.701263697e-10,
          1.695580385e-10,
          1.65197105e-10,
          1.561960704e-10,
          1.415926805e-10,
          1.202995929e-10,
          9.109350051e-11,
          5.260371094e-11,
          3.300177698e-12,
          -5.851901395e-11,
          -1.347407049e-10,
          -2.274502594e-10,
          -3.389456935e-10,
          -4.717523281e-10,
          -6.286379523e-10,
          -8.126284862e-10,
          -1.027024124e-9,
          -1.275415944e-9,
          -1.561702952e-9,
          -1.890109552e-9,
          -2.265203404e-9,
          -2.691913636e-9,
          -3.175549394e-9,
          -3.721818678e-9,
          -4.336847432e-9,
          -5.027198847e-9,
          -5.799892831e-9,
          -6.662425596e-9,
          -7.62278931e-9,
          -8.689491766e-9,
          -9.871576006e-9,
          -1.117863983e-8,
          -1.262085515e-8,
          -1.420898709e-8,
          -1.595441278e-8,
          -1.786913978e-8,
          -1.996582403e-8,
          -2.225778727e-8,
          -2.475903382e-8,
          -2.748426665e-8,
          -3.04489027e-8,
          -3.366908721e-8,
          -3.716170716e-8,
          -4.094440358e-8,
          -4.503558262e-8,
          -4.945442544e-8,
          -5.422089662e-8,
          -5.935575106e-8,
          -6.488053935e-8,
          -7.081761127e-8,
          -7.719011755e-8,
          -8.402200968e-8,
          -9.133803751e-8,
          -9.91637448e-8,
          -1.075254623e-7,
          -1.164502986e-7,
          -1.259661281e-7,
          -1.361015765e-7,
          -1.468860036e-7,
          -1.583494824e-7,
          -1.705227767e-7,
          -1.834373133e-7,
          -1.971251531e-7,
          -2.11618957e-7,
          -2.269519495e-7,
          -2.431578773e-7,
          -2.602709658e-7,
          -2.783258698e-7,
          -2.973576216e-7,
          -3.174015739e-7,
          -3.384933392e-7,
          -3.606687244e-7,
          -3.839636606e-7,
          -4.084141291e-7,
          -4.340560818e-7,
          -4.609253576e-7,
          -4.89057593e-7,
          -5.184881286e-7,
          -5.492519099e-7,
          -5.813833833e-7,
          -6.149163863e-7,
          -6.498840335e-7,
          -6.86318596e-7,
          -7.242513764e-7,
          -7.637125772e-7,
          -8.047311654e-7,
          -8.473347297e-7,
          -8.915493332e-7,
          -9.373993609e-7,
          -9.849073602e-7,
          -0.000001034093877,
          -0.000001084977287,
          -0.000001137573618,
          -0.000001191896371,
          -0.000001247956334,
          -0.000001305761388,
          -0.000001365316313,
          -0.000001426622582,
          -0.000001489678156,
          -0.000001554477272,
          -0.000001621010222,
          -0.000001689263131,
          -0.000001759217734,
          -0.000001830851137,
          -0.000001904135585,
          -0.00000197903822,
          -0.000002055520836,
          -0.00000213353963,
          -0.000002213044949,
          -0.000002293981034,
          -0.000002376285762,
          -0.000002459890382,
          -0.000002544719248,
          -0.000002630689556,
          -0.000002717711071,
          -0.000002805685853,
          -0.00000289450799,
          -0.000002984063319,
          -0.000003074229149,
          -0.000003164873989,
          -0.000003255857271,
          -0.000003347029071,
          -0.000003438229837,
          -0.000003529290113,
          -0.000003620030267,
          -0.000003710260219,
          -0.000003799779176,
          -0.000003888375359,
          -0.00000397582575,
          -0.000004061895825,
          -0.000004146339306,
          -0.000004228897907,
          -0.000004309301096,
          -0.000004387265848,
          -0.000004462496423,
          -0.000004534684136,
          -0.000004603507139,
          -0.000004668630217,
          -0.000004729704585,
          -0.000004786367699,
          -0.000004838243073,
          -0.000004884940112,
          -0.000004926053953,
          -0.000004961165316,
          -0.000004989840373,
          -0.000005011630625,
          -0.000005026072798,
          -0.000005032688744,
          -0.000005030985372,
          -0.000005020454581,
          -0.000005000573214,
          -0.000004970803037,
          -0.00000493059072,
          -0.000004879367854,
          -0.000004816550971,
          -0.000004741541599,
          -0.000004653726323,
          -0.00000455247688,
          -0.000004437150266,
          -0.000004307088873,
          -0.000004161620643,
          -0.000004000059251,
          -0.000003821704305,
          -0.000003625841584,
          -0.000003411743286,
          -0.000003178668314,
          -0.000002925862584,
          -0.00000265255936,
          -0.000002357979621,
          -0.000002041332451,
          -0.00000170181546,
          -0.000001338615241,
          -9.509078433e-7,
          -5.37859293e-7,
          -9.862613047e-8,
          3.676440127e-7,
          8.618118072e-7,
          0.000001384745587,
          0.000001937320679,
          0.000002520418696,
          0.000003134926799,
          0.000003781736928,
          0.000004461744994,
          0.000005175850039,
          0.000005924953364,
          0.000006709957618,
          0.000007531765855,
          0.000008391280556,
          0.000009289402617,
          0.0000102270303,
          0.00001120505815,
          0.00001222437588,
          0.0000132858672,
          0.00001439040868,
          0.00001553886845,
          0.00001673210502,
          0.00001797096595,
          0.00001925628653,
          0.00002058888841,
          0.00002196957826,
          0.00002339914628,
          0.00002487836478,
          0.0000264079867,
          0.00002798874408,
          0.00002962134648,
          0.00003130647947,
          0.00003304480296,
          0.00003483694958,
          0.00003668352302,
          0.00003858509634,
          0.00004054221026,
          0.00004255537138,
          0.00004462505046,
          0.0000467516806,
          0.00004893565542,
          0.00005117732726,
          0.0000534770053,
          0.0000558349537,
          0.00005825138972,
          0.00006072648178,
          0.00006326034759,
          0.00006585305218,
          0.00006850460598,
          0.00007121496287,
          0.00007398401818,
          0.00007681160678,
          0.00007969750108,
          0.00008264140903,
          0.0000856429722,
          0.00008870176375,
          0.0000918172865,
          0.00009498897091,
          0.00009821617317,
          0.0001014981732,
          0.0001048341728,
          0.0001082232936,
          0.0001116645751,
          0.0001151569731,
          0.0001186993573,
          0.0001222905099,
          0.0001259291236,
          0.0001296137996,
          0.0001333430463,
          0.000137115277,
          0.0001409288086,
          0.0001447818595,
          0.0001486725485,
          0.0001525988929,
          0.0001565588067,
          0.0001605500996,
          0.0001645704752,
          0.0001686175297,
          0.0001726887504,
          0.0001767815146,
          0.0001808930884,
          0.0001850206252,
          0.000189161165,
          0.0001933116328,
          0.0001974688382,
          0.0002016294744,
          0.0002057901168,
          0.0002099472231,
          0.0002140971319,
          0.0002182360626,
          0.0002223601146,
          0.0002264652671,
          0.0002305473786,
          0.0002346021868,
          0.0002386253084,
          0.0002426122392,
          0.0002465583538,
          0.0002504589064,
          0.0002543090304,
          0.0002581037393,
          0.000261837927,
          0.0002655063682,
          0.0002691037196,
          0.0002726245205,
          0.0002760631935,
          0.0002794140463,
          0.0002826712721,
          0.0002858289515,
          0.0002888810538,
          0.0002918214385,
          0.0002946438572,
          0.0002973419555,
          0.0002999092747,
          0.0003023392543,
          0.0003046252341,
          0.0003067604566,
          0.0003087380697,
          0.0003105511294,
          0.0003121926024,
          0.0003136553692,
          0.0003149322277,
          0.0003160158958,
          0.0003168990151,
          0.0003175741547,
          0.0003180338148,
          0.0003182704303,
          0.0003182763753,
          0.0003180439671,
          0.0003175654702,
          0.0003168331015,
          0.0003158390343,
          0.0003145754032,
          0.0003130343094,
          0.0003112078253,
          0.0003090880002,
          0.0003066668652,
          0.000303936439,
          0.0003008887337,
          0.0002975157602,
          0.0002938095347,
          0.0002897620841,
          0.0002853654531,
          0.0002806117097,
          0.0002754929524,
          0.0002700013164,
          0.0002641289806,
          0.0002578681745,
          0.0002512111852,
          0.0002441503643,
          0.0002366781357,
          0.0002287870026,
          0.0002204695551,
          0.0002117184778,
          0.0002025265577,
          0.0001928866918,
          0.0001827918951,
          0.0001722353089,
          0.0001612102083,
          0.0001497100111,
          0.0001377282858,
          0.0001252587599,
          0.0001122953284,
          0.00009883206235,
          0.00008486321759,
          0.00007038324309,
          0.00005538678988,
          0.00003986871971,
          0.00002382411386,
          0.000007248282008,
          -0.000009863228956,
          -0.000027514626,
          -0.00004570986107,
          -0.0000644526221,
          -0.00008374632418,
          -0.0001035941005,
          -0.0001239987935,
          -0.000144962946,
          -0.0001664887921,
          -0.0001885782486,
          -0.0002112329058,
          -0.000234454019,
          -0.0002582424996,
          -0.0002825989065,
          -0.0003075234374,
          -0.0003330159201,
          -0.0003590758043,
          -0.0003857021529,
          -0.0004128936339,
          -0.000440648512,
          -0.0004689646408,
          -0.0004978394543,
          -0.0005272699596,
          -0.0005572527289,
          -0.0005877838917,
          -0.0006188591277,
          -0.0006504736594,
          -0.0006826222449,
          -0.0007152991712,
          -0.000748498247,
          -0.0007822127964,
          -0.0008164356527,
          -0.0008511591518,
          -0.0008863751265,
          -0.0009220749008,
          -0.0009582492842,
          -0.0009948885667,
          -0.001031982514,
          -0.001069520361,
          -0.00110749081,
          -0.001145882025,
          -0.001184681627,
          -0.001223876693,
          -0.001263453749,
          -0.001303398771,
          -0.001343697177,
          -0.00138433383,
          -0.001425293033,
          -0.001466558528,
          -0.001508113494,
          -0.001549940547,
          -0.001592021736,
          -0.001634338549,
          -0.001676871907,
          -0.001719602166,
          -0.001762509121,
          -0.001805572001,
          -0.001848769476,
          -0.001892079657,
          -0.001935480099,
          -0.001978947801,
          -0.002022459213,
          -0.002065990237,
          -0.002109516232,
          -0.002153012019,
          -0.002196451885,
          -0.002239809588,
          -0.002283058364,
          -0.002326170931,
          -0.0023691195,
          -0.002411875777,
          -0.002454410975,
          -0.002496695817,
          -0.00253870055,
          -0.002580394951,
          -0.002621748337,
          -0.002662729574,
          -0.002703307088,
          -0.002743448878,
          -0.002783122523,
          -0.002822295197,
          -0.002860933681,
          -0.002899004374,
          -0.002936473309,
          -0.002973306163,
          -0.003009468274,
          -0.003044924654,
          -0.003079640005,
          -0.003113578736,
          -0.003146704975,
          -0.003178982588,
          -0.003210375196,
          -0.003240846192,
          -0.003270358758,
          -0.003298875885,
          -0.003326360389,
          -0.003352774932,
          -0.003378082044,
          -0.003402244134,
          -0.003425223523,
          -0.003446982453,
          -0.003467483115,
          -0.00348668767,
          -0.003504558268,
          -0.003521057073,
          -0.003536146283,
          -0.003549788157,
          -0.003561945033,
          -0.003572579358,
          -0.003581653705,
          -0.003589130804,
          -0.003594973561,
          -0.003599145089,
          -0.003601608726,
          -0.003602328067,
          -0.003601266984,
          -0.00359838966,
          -0.003593660604,
          -0.003587044689,
          -0.003578507169,
          -0.003568013714,
          -0.003555530431,
          -0.003541023894,
          -0.00352446117,
          -0.003505809849,
          -0.003485038067,
          -0.00346211454,
          -0.003437008586,
          -0.003409690156,
          -0.003380129861,
          -0.003348299,
          -0.003314169588,
          -0.003277714384,
          -0.00323890692,
          -0.003197721527,
          -0.003154133365,
          -0.003108118448,
          -0.003059653674,
          -0.003008716855,
          -0.002955286737,
          -0.002899343035,
          -0.002840866456,
          -0.002779838729,
          -0.002716242628,
          -0.002650062002,
          -0.0025812818,
          -0.002509888098,
          -0.002435868122,
          -0.002359210277,
          -0.002279904172,
          -0.002197940643,
          -0.002113311777,
          -0.00202601094,
          -0.001936032797,
          -0.001843373336,
          -0.001748029894,
          -0.001650001176,
          -0.001549287276,
          -0.001445889704,
          -0.001339811403,
          -0.001231056767,
          -0.001119631668,
          -0.001005543469,
          -0.0008888010455,
          -0.0007694148035,
          -0.0006473966965,
          -0.0005227602423,
          -0.0003955205394,
          -0.0002656942825,
          -0.0001332997773,
          0.000001643045657,
          0.0001391126176,
          0.0002790857188,
          0.0004215374671,
          0.0005664413066,
          0.0007137689977,
          0.0008634906079,
          0.001015574503,
          0.001169987339,
          0.001326694057,
          0.001485657876,
          0.001646840287,
          0.001810201052,
          0.001975698197,
          0.002143288014,
          0.002312925055,
          0.002484562137,
          0.002658150339,
          0.002833639003,
          0.003010975742,
          0.003190106438,
          0.003370975249,
          0.003553524618,
          0.003737695272,
          0.003923426239,
          0.00411065485,
          0.004299316753,
          0.004489345924,
          0.004680674675,
          0.004873233673,
          0.005066951952,
          0.005261756926,
          0.005457574411,
          0.005654328638,
          0.005851942272,
          0.006050336437,
          0.00624943073,
          0.00644914325,
          0.006649390614,
          0.006850087989,
          0.007051149111,
          0.007252486315,
          0.007454010564,
          0.007655631473,
          0.007857257344,
          0.008058795192,
          0.008260150783,
          0.008461228663,
          0.008661932191,
          0.00886216358,
          0.009061823928,
          0.009260813256,
          0.009459030551,
          0.009656373799,
          0.009852740031,
          0.01004802536,
          0.01024212503,
          0.01043493345,
          0.01062634424,
          0.0108162503,
          0.01100454381,
          0.01119111632,
          0.01137585877,
          0.01155866156,
          0.01173941459,
          0.01191800732,
          0.01209432878,
          0.01226826769,
          0.01243971245,
          0.01260855126,
          0.01277467209,
          0.01293796282,
          0.01309831123,
          0.01325560511,
          0.01340973227,
          0.01356058062,
          0.01370803825,
          0.01385199345,
          0.01399233479,
          0.01412895118,
          0.01426173191,
          0.01439056676,
          0.014515346,
          0.0146359605,
          0.01475230177,
          0.01486426202,
          0.01497173422,
          0.01507461221,
          0.01517279068,
          0.0152661653,
          0.01535463277,
          0.01543809086,
          0.01551643849,
          0.0155895758,
          0.01565740421,
          0.01571982648,
          0.01577674676,
          0.01582807068,
          0.01587370541,
          0.0159135597,
          0.01594754397,
          0.01597557035,
          0.01599755277,
          0.01601340698,
          0.01602305066,
          0.01602640347,
          0.01602338706,
          0.01601392522,
          0.01599794385,
          0.01597537109,
          0.01594613734,
          0.01591017532,
          0.01586742017,
          0.01581780942,
          0.01576128315,
          0.01569778397,
          0.0156272571,
          0.01554965044,
          0.01546491459,
          0.01537300294,
          0.01527387167,
          0.01516747986,
          0.0150537895,
          0.01493276553,
          0.01480437595,
          0.01466859176,
          0.01452538712,
          0.01437473931,
          0.01421662881,
          0.01405103932,
          0.01387795782,
          0.01369737461,
          0.01350928332,
          0.01331368097,
          0.01311056799,
          0.01289994826,
          0.01268182916,
          0.01245622154,
          0.01222313981,
          0.01198260196,
          0.01173462953,
          0.01147924771,
          0.01121648528,
          0.01094637471,
          0.01066895213,
          0.01038425735,
          0.01009233387,
          0.009793228942,
          0.009486993504,
          0.009173682247,
          0.008853353599,
          0.008526069736,
          0.008191896583,
          0.007850903816,
          0.007503164865,
          0.007148756907,
          0.006787760865,
          0.006420261399,
          0.006046346903,
          0.005666109487,
          0.005279644975,
          0.00488705288,
          0.004488436397,
          0.00408390238,
          0.003673561323,
          0.003257527338,
          0.00283591813,
          0.002408854972,
          0.001976462678,
          0.001538869567,
          0.001096207438,
          0.0006486115322,
          0.0001962204952,
          -0.0002608236587,
          -0.000722375588,
          -0.001188286666,
          -0.001658405027,
          -0.002132575608,
          -0.002610640202,
          -0.003092437508,
          -0.003577803178,
          -0.004066569878,
          -0.004558567339,
          -0.005053622417,
          -0.005551559154,
          -0.006052198836,
          -0.006555360062,
          -0.007060858806,
          -0.007568508482,
          -0.008078120018,
          -0.008589501925,
          -0.009102460367,
          -0.009616799239,
          -0.01013232024,
          -0.01064882295,
          -0.01116610492,
          -0.01168396172,
          -0.01220218707,
          -0.01272057289,
          -0.01323890939,
          -0.01375698516,
          -0.01427458725,
          -0.0147915013,
          -0.01530751156,
          -0.01582240105,
          -0.0163359516,
          -0.01684794398,
          -0.01735815798,
          -0.01786637253,
          -0.01837236575,
          -0.0188759151,
          -0.01937679745,
          -0.01987478918,
          -0.0203696663,
          -0.02086120455,
          -0.02134917948,
          -0.02183336659,
          -0.0223135414,
          -0.02278947957,
          -0.02326095703,
          -0.02372775003,
          -0.0241896353,
          -0.02464639015,
          -0.02509779255,
          -0.02554362125,
          -0.02598365592,
          -0.0264176772,
          -0.02684546685,
          -0.02726680788,
          -0.02768148459,
          -0.02808928273,
          -0.02848998961,
          -0.02888339419,
          -0.02926928719,
          -0.0296474612,
          -0.0300177108,
          -0.03037983267,
          -0.03073362566,
          -0.03107889094,
          -0.03141543209,
          -0.03174305521,
          -0.03206156901,
          -0.03237078493,
          -0.03267051724,
          -0.03296058315,
          -0.03324080288,
          -0.03351099982,
          -0.03377100057,
          -0.03402063507,
          -0.03425973669,
          -0.03448814233,
          -0.03470569253,
          -0.03491223152,
          -0.03510760736,
          -0.035291672,
          -0.03546428141,
          -0.0356252956,
          -0.03577457879,
          -0.03591199942,
          -0.03603743029,
          -0.03615074861,
          -0.0362518361,
          -0.03634057903,
          -0.03641686835,
          -0.03648059974,
          -0.03653167367,
          -0.03656999548,
          -0.03659547548,
          -0.03660802896,
          -0.03660757628,
          -0.03659404296,
          -0.03656735969,
          -0.03652746243,
          -0.03647429244,
          -0.03640779634,
          -0.03632792616,
          -0.03623463941,
          -0.03612789909,
          -0.03600767374,
          -0.03587393752,
          -0.03572667019,
          -0.03556585719,
          -0.03539148966,
          -0.03520356447,
          -0.03500208423,
          -0.03478705735,
          -0.03455849804,
          -0.03431642633,
          -0.03406086809,
          -0.03379185506,
          -0.03350942482,
          -0.03321362086,
          -0.03290449252,
          -0.03258209505,
          -0.03224648956,
          -0.03189774306,
          -0.03153592844,
          -0.03116112442,
          -0.03077341563,
          -0.03037289251,
          -0.02995965133,
          -0.02953379417,
          -0.02909542888,
          -0.02864466908,
          -0.02818163411,
          -0.027706449,
          -0.02721924447,
          -0.02672015682,
          -0.02620932798,
          -0.02568690537,
          -0.02515304195,
          -0.02460789611,
          -0.02405163162,
          -0.02348441761,
          -0.02290642848,
          -0.02231784387,
          -0.02171884856,
          -0.02110963243,
          -0.02049039041,
          -0.01986132235,
          -0.01922263301,
          -0.01857453195,
          -0.01791723345,
          -0.01725095646,
          -0.01657592447,
          -0.01589236547,
          -0.01520051182,
          -0.01450060018,
          -0.01379287145,
          -0.0130775706,
          -0.01235494663,
          -0.01162525245,
          -0.0108887448,
          -0.01014568409,
          -0.009396334368,
          -0.008640963146,
          -0.007879841332,
          -0.007113243101,
          -0.006341445782,
          -0.005564729744,
          -0.004783378277,
          -0.003997677472,
          -0.003207916102,
          -0.002414385497,
          -0.001617379421,
          -0.0008171939458,
          -0.00001412732165,
          0.0007915201479,
          0.001599446238,
          0.002409346934,
          0.003220916562,
          0.004033847924,
          0.004847832434,
          0.005662560248,
          0.006477720407,
          0.00729300097,
          0.008108089153,
          0.00892267147,
          0.009736433869,
          0.01054906187,
          0.01136024073,
          0.01216965552,
          0.01297699136,
          0.01378193348,
          0.01458416739,
          0.01538337904,
          0.01617925494,
          0.0169714823,
          0.01775974919,
          0.01854374466,
          0.01932315892,
          0.02009768343,
          0.02086701107,
          0.02163083628,
          0.0223888552,
          0.0231407658,
          0.02388626803,
          0.02462506395,
          0.02535685788,
          0.02608135651,
          0.02679826906,
          0.02750730742,
          0.02820818625,
          0.02890062315,
          0.02958433877,
          0.03025905694,
          0.0309245048,
          0.03158041295,
          0.03222651552,
          0.03286255038,
          0.03348825916,
          0.03410338746,
          0.03470768492,
          0.03530090535,
          0.03588280684,
          0.0364531519,
          0.03701170752,
          0.03755824533,
          0.03809254169,
          0.03861437778,
          0.03912353974,
          0.03961981871,
          0.04010301099,
          0.04057291812,
          0.04102934695,
          0.04147210975,
          0.04190102429,
          0.04231591396,
          0.04271660778,
          0.04310294058,
          0.04347475297,
          0.04383189153,
          0.04417420876,
          0.04450156327,
          0.04481381976,
          0.04511084912,
          0.0453925285,
          0.04565874133,
          0.04590937742,
          0.04614433299,
          0.04636351073,
          0.04656681981,
          0.04675417598,
          0.04692550157,
          0.04708072555,
          0.04721978353,
          0.04734261785,
          0.04744917753,
          0.04753941836,
          0.0476133029,
          0.04767080048,
          0.04771188724,
          0.04773654612,
          0.04774476688,
          0.04773654612,
          0.04771188724,
          0.04767080048,
          0.0476133029,
          0.04753941836,
          0.04744917753,
          0.04734261785,
          0.04721978353,
          0.04708072555,
          0.04692550157,
          0.04675417598,
          0.04656681981,
          0.04636351073,
          0.04614433299,
          0.04590937742,
          0.04565874133,
          0.0453925285,
          0.04511084912,
          0.04481381976,
          0.04450156327,
          0.04417420876,
          0.04383189153,
          0.04347475297,
          0.04310294058,
          0.04271660778,
          0.04231591396,
          0.04190102429,
          0.04147210975,
          0.04102934695,
          0.04057291812,
          0.04010301099,
          0.03961981871,
          0.03912353974,
          0.03861437778,
          0.03809254169,
          0.03755824533,
          0.03701170752,
          0.0364531519,
          0.03588280684,
          0.03530090535,
          0.03470768492,
          0.03410338746,
          0.03348825916,
          0.03286255038,
          0.03222651552,
          0.03158041295,
          0.0309245048,
          0.03025905694,
          0.02958433877,
          0.02890062315,
          0.02820818625,
          0.02750730742,
          0.02679826906,
          0.02608135651,
          0.02535685788,
          0.02462506395,
          0.02388626803,
          0.0231407658,
          0.0223888552,
          0.02163083628,
          0.02086701107,
          0.02009768343,
          0.01932315892,
          0.01854374466,
          0.01775974919,
          0.0169714823,
          0.01617925494,
          0.01538337904,
          0.01458416739,
          0.01378193348,
          0.01297699136,
          0.01216965552,
          0.01136024073,
          0.01054906187,
          0.009736433869,
          0.00892267147,
          0.008108089153,
          0.00729300097,
          0.006477720407,
          0.005662560248,
          0.004847832434,
          0.004033847924,
          0.003220916562,
          0.002409346934,
          0.001599446238,
          0.0007915201478,
          -0.00001412732166,
          -0.0008171939458,
          -0.001617379421,
          -0.002414385497,
          -0.003207916102,
          -0.003997677472,
          -0.004783378277,
          -0.005564729744,
          -0.006341445782,
          -0.007113243101,
          -0.007879841332,
          -0.008640963146,
          -0.009396334368,
          -0.01014568409,
          -0.0108887448,
          -0.01162525245,
          -0.01235494663,
          -0.0130775706,
          -0.01379287145,
          -0.01450060018,
          -0.01520051182,
          -0.01589236547,
          -0.01657592447,
          -0.01725095646,
          -0.01791723345,
          -0.01857453195,
          -0.01922263301,
          -0.01986132235,
          -0.02049039041,
          -0.02110963243,
          -0.02171884856,
          -0.02231784387,
          -0.02290642848,
          -0.02348441761,
          -0.02405163162,
          -0.02460789611,
          -0.02515304195,
          -0.02568690537,
          -0.02620932798,
          -0.02672015682,
          -0.02721924447,
          -0.027706449,
          -0.02818163411,
          -0.02864466908,
          -0.02909542888,
          -0.02953379417,
          -0.02995965133,
          -0.03037289251,
          -0.03077341563,
          -0.03116112442,
          -0.03153592844,
          -0.03189774306,
          -0.03224648956,
          -0.03258209505,
          -0.03290449252,
          -0.03321362086,
          -0.03350942482,
          -0.03379185506,
          -0.03406086809,
          -0.03431642633,
          -0.03455849804,
          -0.03478705735,
          -0.03500208423,
          -0.03520356447,
          -0.03539148966,
          -0.03556585719,
          -0.03572667019,
          -0.03587393752,
          -0.03600767374,
          -0.03612789909,
          -0.03623463941,
          -0.03632792616,
          -0.03640779634,
          -0.03647429244,
          -0.03652746243,
          -0.03656735969,
          -0.03659404296,
          -0.03660757628,
          -0.03660802896,
          -0.03659547548,
          -0.03656999548,
          -0.03653167367,
          -0.03648059974,
          -0.03641686835,
          -0.03634057903,
          -0.0362518361,
          -0.03615074861,
          -0.03603743029,
          -0.03591199942,
          -0.03577457879,
          -0.0356252956,
          -0.03546428141,
          -0.035291672,
          -0.03510760736,
          -0.03491223152,
          -0.03470569253,
          -0.03448814233,
          -0.03425973669,
          -0.03402063507,
          -0.03377100057,
          -0.03351099982,
          -0.03324080288,
          -0.03296058315,
          -0.03267051724,
          -0.03237078493,
          -0.03206156901,
          -0.03174305521,
          -0.03141543209,
          -0.03107889094,
          -0.03073362566,
          -0.03037983267,
          -0.0300177108,
          -0.0296474612,
          -0.02926928719,
          -0.02888339419,
          -0.02848998961,
          -0.02808928273,
          -0.02768148459,
          -0.02726680788,
          -0.02684546685,
          -0.0264176772,
          -0.02598365592,
          -0.02554362125,
          -0.02509779255,
          -0.02464639015,
          -0.0241896353,
          -0.02372775003,
          -0.02326095703,
          -0.02278947957,
          -0.0223135414,
          -0.02183336659,
          -0.02134917948,
          -0.02086120455,
          -0.0203696663,
          -0.01987478918,
          -0.01937679745,
          -0.0188759151,
          -0.01837236575,
          -0.01786637253,
          -0.01735815798,
          -0.01684794398,
          -0.0163359516,
          -0.01582240105,
          -0.01530751156,
          -0.0147915013,
          -0.01427458725,
          -0.01375698516,
          -0.01323890939,
          -0.01272057289,
          -0.01220218707,
          -0.01168396172,
          -0.01116610492,
          -0.01064882295,
          -0.01013232024,
          -0.009616799239,
          -0.009102460367,
          -0.008589501925,
          -0.008078120018,
          -0.007568508482,
          -0.007060858806,
          -0.006555360062,
          -0.006052198836,
          -0.005551559154,
          -0.005053622417,
          -0.004558567339,
          -0.004066569878,
          -0.003577803178,
          -0.003092437508,
          -0.002610640202,
          -0.002132575608,
          -0.001658405027,
          -0.001188286666,
          -0.000722375588,
          -0.0002608236587,
          0.0001962204952,
          0.0006486115322,
          0.001096207438,
          0.001538869567,
          0.001976462678,
          0.002408854972,
          0.00283591813,
          0.003257527338,
          0.003673561323,
          0.00408390238,
          0.004488436397,
          0.00488705288,
          0.005279644975,
          0.005666109487,
          0.006046346903,
          0.006420261399,
          0.006787760865,
          0.007148756907,
          0.007503164865,
          0.007850903816,
          0.008191896583,
          0.008526069736,
          0.008853353599,
          0.009173682247,
          0.009486993504,
          0.009793228942,
          0.01009233387,
          0.01038425735,
          0.01066895213,
          0.01094637471,
          0.01121648528,
          0.01147924771,
          0.01173462953,
          0.01198260196,
          0.01222313981,
          0.01245622154,
          0.01268182916,
          0.01289994826,
          0.01311056799,
          0.01331368097,
          0.01350928332,
          0.01369737461,
          0.01387795782,
          0.01405103932,
          0.01421662881,
          0.01437473931,
          0.01452538712,
          0.01466859176,
          0.01480437595,
          0.01493276553,
          0.0150537895,
          0.01516747986,
          0.01527387167,
          0.01537300294,
          0.01546491459,
          0.01554965044,
          0.0156272571,
          0.01569778397,
          0.01576128315,
          0.01581780942,
          0.01586742017,
          0.01591017532,
          0.01594613734,
          0.01597537109,
          0.01599794385,
          0.01601392522,
          0.01602338706,
          0.01602640347,
          0.01602305066,
          0.01601340698,
          0.01599755277,
          0.01597557035,
          0.01594754397,
          0.0159135597,
          0.01587370541,
          0.01582807068,
          0.01577674676,
          0.01571982648,
          0.01565740421,
          0.0155895758,
          0.01551643849,
          0.01543809086,
          0.01535463277,
          0.0152661653,
          0.01517279068,
          0.01507461221,
          0.01497173422,
          0.01486426202,
          0.01475230177,
          0.0146359605,
          0.014515346,
          0.01439056676,
          0.01426173191,
          0.01412895118,
          0.01399233479,
          0.01385199345,
          0.01370803825,
          0.01356058062,
          0.01340973227,
          0.01325560511,
          0.01309831123,
          0.01293796282,
          0.01277467209,
          0.01260855126,
          0.01243971245,
          0.01226826769,
          0.01209432878,
          0.01191800732,
          0.01173941459,
          0.01155866156,
          0.01137585877,
          0.01119111632,
          0.01100454381,
          0.0108162503,
          0.01062634424,
          0.01043493345,
          0.01024212503,
          0.01004802536,
          0.009852740031,
          0.009656373799,
          0.009459030551,
          0.009260813256,
          0.009061823928,
          0.00886216358,
          0.008661932191,
          0.008461228663,
          0.008260150783,
          0.008058795192,
          0.007857257344,
          0.007655631473,
          0.007454010564,
          0.007252486315,
          0.007051149111,
          0.006850087989,
          0.006649390614,
          0.00644914325,
          0.00624943073,
          0.006050336437,
          0.005851942272,
          0.005654328638,
          0.005457574411,
          0.005261756926,
          0.005066951952,
          0.004873233673,
          0.004680674675,
          0.004489345924,
          0.004299316753,
          0.00411065485,
          0.003923426239,
          0.003737695272,
          0.003553524618,
          0.003370975249,
          0.003190106438,
          0.003010975742,
          0.002833639003,
          0.002658150339,
          0.002484562137,
          0.002312925055,
          0.002143288014,
          0.001975698197,
          0.001810201052,
          0.001646840287,
          0.001485657876,
          0.001326694057,
          0.001169987339,
          0.001015574503,
          0.0008634906079,
          0.0007137689977,
          0.0005664413066,
          0.0004215374671,
          0.0002790857188,
          0.0001391126176,
          0.000001643045656,
          -0.0001332997773,
          -0.0002656942825,
          -0.0003955205394,
          -0.0005227602423,
          -0.0006473966965,
          -0.0007694148035,
          -0.0008888010455,
          -0.001005543469,
          -0.001119631668,
          -0.001231056767,
          -0.001339811403,
          -0.001445889704,
          -0.001549287276,
          -0.001650001176,
          -0.001748029894,
          -0.001843373336,
          -0.001936032797,
          -0.00202601094,
          -0.002113311777,
          -0.002197940643,
          -0.002279904172,
          -0.002359210277,
          -0.002435868122,
          -0.002509888098,
          -0.0025812818,
          -0.002650062002,
          -0.002716242628,
          -0.002779838729,
          -0.002840866456,
          -0.002899343035,
          -0.002955286737,
          -0.003008716855,
          -0.003059653674,
          -0.003108118448,
          -0.003154133365,
          -0.003197721527,
          -0.00323890692,
          -0.003277714384,
          -0.003314169588,
          -0.003348299,
          -0.003380129861,
          -0.003409690156,
          -0.003437008586,
          -0.00346211454,
          -0.003485038067,
          -0.003505809849,
          -0.00352446117,
          -0.003541023894,
          -0.003555530431,
          -0.003568013714,
          -0.003578507169,
          -0.003587044689,
          -0.003593660604,
          -0.00359838966,
          -0.003601266984,
          -0.003602328067,
          -0.003601608726,
          -0.003599145089,
          -0.003594973561,
          -0.003589130804,
          -0.003581653705,
          -0.003572579358,
          -0.003561945033,
          -0.003549788157,
          -0.003536146283,
          -0.003521057073,
          -0.003504558268,
          -0.00348668767,
          -0.003467483115,
          -0.003446982453,
          -0.003425223523,
          -0.003402244134,
          -0.003378082044,
          -0.003352774932,
          -0.003326360389,
          -0.003298875885,
          -0.003270358758,
          -0.003240846192,
          -0.003210375196,
          -0.003178982588,
          -0.003146704975,
          -0.003113578736,
          -0.003079640005,
          -0.003044924654,
          -0.003009468274,
          -0.002973306163,
          -0.002936473309,
          -0.002899004374,
          -0.002860933681,
          -0.002822295197,
          -0.002783122523,
          -0.002743448878,
          -0.002703307088,
          -0.002662729574,
          -0.002621748337,
          -0.002580394951,
          -0.00253870055,
          -0.002496695817,
          -0.002454410975,
          -0.002411875777,
          -0.0023691195,
          -0.002326170931,
          -0.002283058364,
          -0.002239809588,
          -0.002196451885,
          -0.002153012019,
          -0.002109516232,
          -0.002065990237,
          -0.002022459213,
          -0.001978947801,
          -0.001935480099,
          -0.001892079657,
          -0.001848769476,
          -0.001805572001,
          -0.001762509121,
          -0.001719602166,
          -0.001676871907,
          -0.001634338549,
          -0.001592021736,
          -0.001549940547,
          -0.001508113494,
          -0.001466558528,
          -0.001425293033,
          -0.00138433383,
          -0.001343697177,
          -0.001303398771,
          -0.001263453749,
          -0.001223876693,
          -0.001184681627,
          -0.001145882025,
          -0.00110749081,
          -0.001069520361,
          -0.001031982514,
          -0.0009948885667,
          -0.0009582492842,
          -0.0009220749008,
          -0.0008863751265,
          -0.0008511591518,
          -0.0008164356527,
          -0.0007822127964,
          -0.000748498247,
          -0.0007152991712,
          -0.0006826222449,
          -0.0006504736594,
          -0.0006188591277,
          -0.0005877838917,
          -0.0005572527289,
          -0.0005272699596,
          -0.0004978394543,
          -0.0004689646408,
          -0.000440648512,
          -0.0004128936339,
          -0.0003857021529,
          -0.0003590758043,
          -0.0003330159201,
          -0.0003075234374,
          -0.0002825989065,
          -0.0002582424996,
          -0.000234454019,
          -0.0002112329058,
          -0.0001885782486,
          -0.0001664887921,
          -0.000144962946,
          -0.0001239987935,
          -0.0001035941005,
          -0.00008374632418,
          -0.0000644526221,
          -0.00004570986107,
          -0.000027514626,
          -0.000009863228956,
          0.000007248282008,
          0.00002382411386,
          0.00003986871971,
          0.00005538678988,
          0.00007038324309,
          0.00008486321759,
          0.00009883206235,
          0.0001122953284,
          0.0001252587599,
          0.0001377282858,
          0.0001497100111,
          0.0001612102083,
          0.0001722353089,
          0.0001827918951,
          0.0001928866918,
          0.0002025265577,
          0.0002117184778,
          0.0002204695551,
          0.0002287870026,
          0.0002366781357,
          0.0002441503643,
          0.0002512111852,
          0.0002578681745,
          0.0002641289806,
          0.0002700013164,
          0.0002754929524,
          0.0002806117097,
          0.0002853654531,
          0.0002897620841,
          0.0002938095347,
          0.0002975157602,
          0.0003008887337,
          0.000303936439,
          0.0003066668652,
          0.0003090880002,
          0.0003112078253,
          0.0003130343094,
          0.0003145754032,
          0.0003158390343,
          0.0003168331015,
          0.0003175654702,
          0.0003180439671,
          0.0003182763753,
          0.0003182704303,
          0.0003180338148,
          0.0003175741547,
          0.0003168990151,
          0.0003160158958,
          0.0003149322277,
          0.0003136553692,
          0.0003121926024,
          0.0003105511294,
          0.0003087380697,
          0.0003067604566,
          0.0003046252341,
          0.0003023392543,
          0.0002999092747,
          0.0002973419555,
          0.0002946438572,
          0.0002918214385,
          0.0002888810538,
          0.0002858289515,
          0.0002826712721,
          0.0002794140463,
          0.0002760631935,
          0.0002726245205,
          0.0002691037196,
          0.0002655063682,
          0.000261837927,
          0.0002581037393,
          0.0002543090304,
          0.0002504589064,
          0.0002465583538,
          0.0002426122392,
          0.0002386253084,
          0.0002346021868,
          0.0002305473786,
          0.0002264652671,
          0.0002223601146,
          0.0002182360626,
          0.0002140971319,
          0.0002099472231,
          0.0002057901168,
          0.0002016294744,
          0.0001974688382,
          0.0001933116328,
          0.000189161165,
          0.0001850206252,
          0.0001808930884,
          0.0001767815146,
          0.0001726887504,
          0.0001686175297,
          0.0001645704752,
          0.0001605500996,
          0.0001565588067,
          0.0001525988929,
          0.0001486725485,
          0.0001447818595,
          0.0001409288086,
          0.000137115277,
          0.0001333430463,
          0.0001296137996,
          0.0001259291236,
          0.0001222905099,
          0.0001186993573,
          0.0001151569731,
          0.0001116645751,
          0.0001082232936,
          0.0001048341728,
          0.0001014981732,
          0.00009821617317,
          0.00009498897091,
          0.0000918172865,
          0.00008870176375,
          0.0000856429722,
          0.00008264140903,
          0.00007969750108,
          0.00007681160678,
          0.00007398401818,
          0.00007121496287,
          0.00006850460598,
          0.00006585305218,
          0.00006326034759,
          0.00006072648178,
          0.00005825138972,
          0.0000558349537,
          0.0000534770053,
          0.00005117732726,
          0.00004893565542,
          0.0000467516806,
          0.00004462505046,
          0.00004255537138,
          0.00004054221026,
          0.00003858509634,
          0.00003668352302,
          0.00003483694958,
          0.00003304480296,
          0.00003130647947,
          0.00002962134648,
          0.00002798874408,
          0.0000264079867,
          0.00002487836478,
          0.00002339914628,
          0.00002196957826,
          0.00002058888841,
          0.00001925628653,
          0.00001797096595,
          0.00001673210502,
          0.00001553886845,
          0.00001439040868,
          0.0000132858672,
          0.00001222437588,
          0.00001120505815,
          0.0000102270303,
          0.000009289402617,
          0.000008391280556,
          0.000007531765855,
          0.000006709957618,
          0.000005924953364,
          0.000005175850039,
          0.000004461744994,
          0.000003781736928,
          0.000003134926799,
          0.000002520418696,
          0.000001937320679,
          0.000001384745587,
          8.618118072e-7,
          3.676440127e-7,
          -9.862613048e-8,
          -5.37859293e-7,
          -9.509078433e-7,
          -0.000001338615241,
          -0.00000170181546,
          -0.000002041332451,
          -0.000002357979621,
          -0.00000265255936,
          -0.000002925862584,
          -0.000003178668314,
          -0.000003411743286,
          -0.000003625841584,
          -0.000003821704305,
          -0.000004000059251,
          -0.000004161620643,
          -0.000004307088873,
          -0.000004437150266,
          -0.00000455247688,
          -0.000004653726323,
          -0.000004741541599,
          -0.000004816550971,
          -0.000004879367854,
          -0.00000493059072,
          -0.000004970803037,
          -0.000005000573214,
          -0.000005020454581,
          -0.000005030985372,
          -0.000005032688744,
          -0.000005026072798,
          -0.000005011630625,
          -0.000004989840373,
          -0.000004961165316,
          -0.000004926053953,
          -0.000004884940112,
          -0.000004838243073,
          -0.000004786367699,
          -0.000004729704585,
          -0.000004668630217,
          -0.000004603507139,
          -0.000004534684136,
          -0.000004462496423,
          -0.000004387265848,
          -0.000004309301096,
          -0.000004228897907,
          -0.000004146339306,
          -0.000004061895825,
          -0.00000397582575,
          -0.000003888375359,
          -0.000003799779176,
          -0.000003710260219,
          -0.000003620030267,
          -0.000003529290113,
          -0.000003438229837,
          -0.000003347029071,
          -0.000003255857271,
          -0.000003164873989,
          -0.000003074229149,
          -0.000002984063319,
          -0.00000289450799,
          -0.000002805685853,
          -0.000002717711071,
          -0.000002630689556,
          -0.000002544719248,
          -0.000002459890382,
          -0.000002376285762,
          -0.000002293981034,
          -0.000002213044949,
          -0.00000213353963,
          -0.000002055520836,
          -0.00000197903822,
          -0.000001904135585,
          -0.000001830851137,
          -0.000001759217734,
          -0.000001689263131,
          -0.000001621010222,
          -0.000001554477272,
          -0.000001489678156,
          -0.000001426622582,
          -0.000001365316313,
          -0.000001305761388,
          -0.000001247956334,
          -0.000001191896371,
          -0.000001137573618,
          -0.000001084977287,
          -0.000001034093877,
          -9.849073602e-7,
          -9.373993609e-7,
          -8.915493332e-7,
          -8.473347297e-7,
          -8.047311654e-7,
          -7.637125772e-7,
          -7.242513764e-7,
          -6.86318596e-7,
          -6.498840335e-7,
          -6.149163863e-7,
          -5.813833833e-7,
          -5.492519099e-7,
          -5.184881286e-7,
          -4.89057593e-7,
          -4.609253576e-7,
          -4.340560818e-7,
          -4.084141291e-7,
          -3.839636606e-7,
          -3.606687244e-7,
          -3.384933392e-7,
          -3.174015739e-7,
          -2.973576216e-7,
          -2.783258698e-7,
          -2.602709658e-7,
          -2.431578773e-7,
          -2.269519495e-7,
          -2.11618957e-7,
          -1.971251531e-7,
          -1.834373133e-7,
          -1.705227767e-7,
          -1.583494824e-7,
          -1.468860036e-7,
          -1.361015765e-7,
          -1.259661281e-7,
          -1.164502986e-7,
          -1.075254623e-7,
          -9.91637448e-8,
          -9.133803751e-8,
          -8.402200968e-8,
          -7.719011755e-8,
          -7.081761127e-8,
          -6.488053935e-8,
          -5.935575106e-8,
          -5.422089662e-8,
          -4.945442544e-8,
          -4.503558262e-8,
          -4.094440358e-8,
          -3.716170716e-8,
          -3.366908721e-8,
          -3.04489027e-8,
          -2.748426665e-8,
          -2.475903382e-8,
          -2.225778727e-8,
          -1.996582403e-8,
          -1.786913978e-8,
          -1.595441278e-8,
          -1.420898709e-8,
          -1.262085515e-8,
          -1.117863983e-8,
          -9.871576006e-9,
          -8.689491766e-9,
          -7.62278931e-9,
          -6.662425596e-9,
          -5.799892831e-9,
          -5.027198847e-9,
          -4.336847432e-9,
          -3.721818678e-9,
          -3.175549394e-9,
          -2.691913636e-9,
          -2.265203404e-9,
          -1.890109552e-9,
          -1.561702952e-9,
          -1.275415944e-9,
          -1.027024124e-9,
          -8.126284862e-10,
          -6.286379523e-10,
          -4.717523281e-10,
          -3.389456935e-10,
          -2.274502594e-10,
          -1.347407049e-10,
          -5.851901395e-11,
          3.300177699e-12,
          5.260371094e-11,
          9.109350051e-11,
          1.202995929e-10,
          1.415926805e-10,
          1.561960704e-10,
          1.65197105e-10,
          1.695580385e-10,
          1.701263697e-10,
          1.676446374e-10,
          1.62759684e-10,
          1.560313944e-10,
          1.479409206e-10,
          1.388984009e-10,
          1.292501859e-10,
          1.192855834e-10,
          1.092431363e-10,
          9.931644641e-11,
          8.965956156e-11,
          8.039193922e-11,
          7.160300487e-11,
          6.335632115e-11,
          5.569338509e-11,
          4.863707127e-11,
          4.219473834e-11,
          3.636101722e-11,
          3.11202987e-11,
          2.644893864e-11,
          2.231719866e-11,
          1.869094008e-11,
          1.553308877e-11,
          1.280488808e-11,
          1.046695697e-11,
          8.480169734e-12,
          6.806373584e-12,
          5.408959612e-12,
          4.253302231e-12,
          3.307081584e-12,
          2.540502778e-12,
          1.926425143e-12,
          1.440414035e-12,
          1.060726962e-12,
          7.682451249e-13,
          5.463606426e-13,
          3.808290164e-13,
          2.595955741e-13,
          1.726038566e-13,
          1.115931168e-13,
          6.989130904e-14,
          4.22091576e-14,
          2.444011823e-14,
          1.347027447e-14,
          7.001460304e-15,
          3.390165487e-15,
          1.504066696e-15,
          5.973399448e-16,
          2.052490336e-16,
          5.787525893e-17,
          1.225747557e-17,
          1.65161797e-18,
          9.753392498e-20,
          7.68491845e-22
         ]
        }
       ],
       "layout": {
        "template": {
         "data": {
          "bar": [
           {
            "error_x": {
             "color": "#2a3f5f"
            },
            "error_y": {
             "color": "#2a3f5f"
            },
            "marker": {
             "line": {
              "color": "#E5ECF6",
              "width": 0.5
             },
             "pattern": {
              "fillmode": "overlay",
              "size": 10,
              "solidity": 0.2
             }
            },
            "type": "bar"
           }
          ],
          "barpolar": [
           {
            "marker": {
             "line": {
              "color": "#E5ECF6",
              "width": 0.5
             },
             "pattern": {
              "fillmode": "overlay",
              "size": 10,
              "solidity": 0.2
             }
            },
            "type": "barpolar"
           }
          ],
          "carpet": [
           {
            "aaxis": {
             "endlinecolor": "#2a3f5f",
             "gridcolor": "white",
             "linecolor": "white",
             "minorgridcolor": "white",
             "startlinecolor": "#2a3f5f"
            },
            "baxis": {
             "endlinecolor": "#2a3f5f",
             "gridcolor": "white",
             "linecolor": "white",
             "minorgridcolor": "white",
             "startlinecolor": "#2a3f5f"
            },
            "type": "carpet"
           }
          ],
          "choropleth": [
           {
            "colorbar": {
             "outlinewidth": 0,
             "ticks": ""
            },
            "type": "choropleth"
           }
          ],
          "contour": [
           {
            "colorbar": {
             "outlinewidth": 0,
             "ticks": ""
            },
            "colorscale": [
             [
              0,
              "#0d0887"
             ],
             [
              0.1111111111111111,
              "#46039f"
             ],
             [
              0.2222222222222222,
              "#7201a8"
             ],
             [
              0.3333333333333333,
              "#9c179e"
             ],
             [
              0.4444444444444444,
              "#bd3786"
             ],
             [
              0.5555555555555556,
              "#d8576b"
             ],
             [
              0.6666666666666666,
              "#ed7953"
             ],
             [
              0.7777777777777778,
              "#fb9f3a"
             ],
             [
              0.8888888888888888,
              "#fdca26"
             ],
             [
              1,
              "#f0f921"
             ]
            ],
            "type": "contour"
           }
          ],
          "contourcarpet": [
           {
            "colorbar": {
             "outlinewidth": 0,
             "ticks": ""
            },
            "type": "contourcarpet"
           }
          ],
          "heatmap": [
           {
            "colorbar": {
             "outlinewidth": 0,
             "ticks": ""
            },
            "colorscale": [
             [
              0,
              "#0d0887"
             ],
             [
              0.1111111111111111,
              "#46039f"
             ],
             [
              0.2222222222222222,
              "#7201a8"
             ],
             [
              0.3333333333333333,
              "#9c179e"
             ],
             [
              0.4444444444444444,
              "#bd3786"
             ],
             [
              0.5555555555555556,
              "#d8576b"
             ],
             [
              0.6666666666666666,
              "#ed7953"
             ],
             [
              0.7777777777777778,
              "#fb9f3a"
             ],
             [
              0.8888888888888888,
              "#fdca26"
             ],
             [
              1,
              "#f0f921"
             ]
            ],
            "type": "heatmap"
           }
          ],
          "heatmapgl": [
           {
            "colorbar": {
             "outlinewidth": 0,
             "ticks": ""
            },
            "colorscale": [
             [
              0,
              "#0d0887"
             ],
             [
              0.1111111111111111,
              "#46039f"
             ],
             [
              0.2222222222222222,
              "#7201a8"
             ],
             [
              0.3333333333333333,
              "#9c179e"
             ],
             [
              0.4444444444444444,
              "#bd3786"
             ],
             [
              0.5555555555555556,
              "#d8576b"
             ],
             [
              0.6666666666666666,
              "#ed7953"
             ],
             [
              0.7777777777777778,
              "#fb9f3a"
             ],
             [
              0.8888888888888888,
              "#fdca26"
             ],
             [
              1,
              "#f0f921"
             ]
            ],
            "type": "heatmapgl"
           }
          ],
          "histogram": [
           {
            "marker": {
             "pattern": {
              "fillmode": "overlay",
              "size": 10,
              "solidity": 0.2
             }
            },
            "type": "histogram"
           }
          ],
          "histogram2d": [
           {
            "colorbar": {
             "outlinewidth": 0,
             "ticks": ""
            },
            "colorscale": [
             [
              0,
              "#0d0887"
             ],
             [
              0.1111111111111111,
              "#46039f"
             ],
             [
              0.2222222222222222,
              "#7201a8"
             ],
             [
              0.3333333333333333,
              "#9c179e"
             ],
             [
              0.4444444444444444,
              "#bd3786"
             ],
             [
              0.5555555555555556,
              "#d8576b"
             ],
             [
              0.6666666666666666,
              "#ed7953"
             ],
             [
              0.7777777777777778,
              "#fb9f3a"
             ],
             [
              0.8888888888888888,
              "#fdca26"
             ],
             [
              1,
              "#f0f921"
             ]
            ],
            "type": "histogram2d"
           }
          ],
          "histogram2dcontour": [
           {
            "colorbar": {
             "outlinewidth": 0,
             "ticks": ""
            },
            "colorscale": [
             [
              0,
              "#0d0887"
             ],
             [
              0.1111111111111111,
              "#46039f"
             ],
             [
              0.2222222222222222,
              "#7201a8"
             ],
             [
              0.3333333333333333,
              "#9c179e"
             ],
             [
              0.4444444444444444,
              "#bd3786"
             ],
             [
              0.5555555555555556,
              "#d8576b"
             ],
             [
              0.6666666666666666,
              "#ed7953"
             ],
             [
              0.7777777777777778,
              "#fb9f3a"
             ],
             [
              0.8888888888888888,
              "#fdca26"
             ],
             [
              1,
              "#f0f921"
             ]
            ],
            "type": "histogram2dcontour"
           }
          ],
          "mesh3d": [
           {
            "colorbar": {
             "outlinewidth": 0,
             "ticks": ""
            },
            "type": "mesh3d"
           }
          ],
          "parcoords": [
           {
            "line": {
             "colorbar": {
              "outlinewidth": 0,
              "ticks": ""
             }
            },
            "type": "parcoords"
           }
          ],
          "pie": [
           {
            "automargin": true,
            "type": "pie"
           }
          ],
          "scatter": [
           {
            "fillpattern": {
             "fillmode": "overlay",
             "size": 10,
             "solidity": 0.2
            },
            "type": "scatter"
           }
          ],
          "scatter3d": [
           {
            "line": {
             "colorbar": {
              "outlinewidth": 0,
              "ticks": ""
             }
            },
            "marker": {
             "colorbar": {
              "outlinewidth": 0,
              "ticks": ""
             }
            },
            "type": "scatter3d"
           }
          ],
          "scattercarpet": [
           {
            "marker": {
             "colorbar": {
              "outlinewidth": 0,
              "ticks": ""
             }
            },
            "type": "scattercarpet"
           }
          ],
          "scattergeo": [
           {
            "marker": {
             "colorbar": {
              "outlinewidth": 0,
              "ticks": ""
             }
            },
            "type": "scattergeo"
           }
          ],
          "scattergl": [
           {
            "marker": {
             "colorbar": {
              "outlinewidth": 0,
              "ticks": ""
             }
            },
            "type": "scattergl"
           }
          ],
          "scattermapbox": [
           {
            "marker": {
             "colorbar": {
              "outlinewidth": 0,
              "ticks": ""
             }
            },
            "type": "scattermapbox"
           }
          ],
          "scatterpolar": [
           {
            "marker": {
             "colorbar": {
              "outlinewidth": 0,
              "ticks": ""
             }
            },
            "type": "scatterpolar"
           }
          ],
          "scatterpolargl": [
           {
            "marker": {
             "colorbar": {
              "outlinewidth": 0,
              "ticks": ""
             }
            },
            "type": "scatterpolargl"
           }
          ],
          "scatterternary": [
           {
            "marker": {
             "colorbar": {
              "outlinewidth": 0,
              "ticks": ""
             }
            },
            "type": "scatterternary"
           }
          ],
          "surface": [
           {
            "colorbar": {
             "outlinewidth": 0,
             "ticks": ""
            },
            "colorscale": [
             [
              0,
              "#0d0887"
             ],
             [
              0.1111111111111111,
              "#46039f"
             ],
             [
              0.2222222222222222,
              "#7201a8"
             ],
             [
              0.3333333333333333,
              "#9c179e"
             ],
             [
              0.4444444444444444,
              "#bd3786"
             ],
             [
              0.5555555555555556,
              "#d8576b"
             ],
             [
              0.6666666666666666,
              "#ed7953"
             ],
             [
              0.7777777777777778,
              "#fb9f3a"
             ],
             [
              0.8888888888888888,
              "#fdca26"
             ],
             [
              1,
              "#f0f921"
             ]
            ],
            "type": "surface"
           }
          ],
          "table": [
           {
            "cells": {
             "fill": {
              "color": "#EBF0F8"
             },
             "line": {
              "color": "white"
             }
            },
            "header": {
             "fill": {
              "color": "#C8D4E3"
             },
             "line": {
              "color": "white"
             }
            },
            "type": "table"
           }
          ]
         },
         "layout": {
          "annotationdefaults": {
           "arrowcolor": "#2a3f5f",
           "arrowhead": 0,
           "arrowwidth": 1
          },
          "autotypenumbers": "strict",
          "coloraxis": {
           "colorbar": {
            "outlinewidth": 0,
            "ticks": ""
           }
          },
          "colorscale": {
           "diverging": [
            [
             0,
             "#8e0152"
            ],
            [
             0.1,
             "#c51b7d"
            ],
            [
             0.2,
             "#de77ae"
            ],
            [
             0.3,
             "#f1b6da"
            ],
            [
             0.4,
             "#fde0ef"
            ],
            [
             0.5,
             "#f7f7f7"
            ],
            [
             0.6,
             "#e6f5d0"
            ],
            [
             0.7,
             "#b8e186"
            ],
            [
             0.8,
             "#7fbc41"
            ],
            [
             0.9,
             "#4d9221"
            ],
            [
             1,
             "#276419"
            ]
           ],
           "sequential": [
            [
             0,
             "#0d0887"
            ],
            [
             0.1111111111111111,
             "#46039f"
            ],
            [
             0.2222222222222222,
             "#7201a8"
            ],
            [
             0.3333333333333333,
             "#9c179e"
            ],
            [
             0.4444444444444444,
             "#bd3786"
            ],
            [
             0.5555555555555556,
             "#d8576b"
            ],
            [
             0.6666666666666666,
             "#ed7953"
            ],
            [
             0.7777777777777778,
             "#fb9f3a"
            ],
            [
             0.8888888888888888,
             "#fdca26"
            ],
            [
             1,
             "#f0f921"
            ]
           ],
           "sequentialminus": [
            [
             0,
             "#0d0887"
            ],
            [
             0.1111111111111111,
             "#46039f"
            ],
            [
             0.2222222222222222,
             "#7201a8"
            ],
            [
             0.3333333333333333,
             "#9c179e"
            ],
            [
             0.4444444444444444,
             "#bd3786"
            ],
            [
             0.5555555555555556,
             "#d8576b"
            ],
            [
             0.6666666666666666,
             "#ed7953"
            ],
            [
             0.7777777777777778,
             "#fb9f3a"
            ],
            [
             0.8888888888888888,
             "#fdca26"
            ],
            [
             1,
             "#f0f921"
            ]
           ]
          },
          "colorway": [
           "#636efa",
           "#EF553B",
           "#00cc96",
           "#ab63fa",
           "#FFA15A",
           "#19d3f3",
           "#FF6692",
           "#B6E880",
           "#FF97FF",
           "#FECB52"
          ],
          "font": {
           "color": "#2a3f5f"
          },
          "geo": {
           "bgcolor": "white",
           "lakecolor": "white",
           "landcolor": "#E5ECF6",
           "showlakes": true,
           "showland": true,
           "subunitcolor": "white"
          },
          "hoverlabel": {
           "align": "left"
          },
          "hovermode": "closest",
          "mapbox": {
           "style": "light"
          },
          "paper_bgcolor": "white",
          "plot_bgcolor": "#E5ECF6",
          "polar": {
           "angularaxis": {
            "gridcolor": "white",
            "linecolor": "white",
            "ticks": ""
           },
           "bgcolor": "#E5ECF6",
           "radialaxis": {
            "gridcolor": "white",
            "linecolor": "white",
            "ticks": ""
           }
          },
          "scene": {
           "xaxis": {
            "backgroundcolor": "#E5ECF6",
            "gridcolor": "white",
            "gridwidth": 2,
            "linecolor": "white",
            "showbackground": true,
            "ticks": "",
            "zerolinecolor": "white"
           },
           "yaxis": {
            "backgroundcolor": "#E5ECF6",
            "gridcolor": "white",
            "gridwidth": 2,
            "linecolor": "white",
            "showbackground": true,
            "ticks": "",
            "zerolinecolor": "white"
           },
           "zaxis": {
            "backgroundcolor": "#E5ECF6",
            "gridcolor": "white",
            "gridwidth": 2,
            "linecolor": "white",
            "showbackground": true,
            "ticks": "",
            "zerolinecolor": "white"
           }
          },
          "shapedefaults": {
           "line": {
            "color": "#2a3f5f"
           }
          },
          "ternary": {
           "aaxis": {
            "gridcolor": "white",
            "linecolor": "white",
            "ticks": ""
           },
           "baxis": {
            "gridcolor": "white",
            "linecolor": "white",
            "ticks": ""
           },
           "bgcolor": "#E5ECF6",
           "caxis": {
            "gridcolor": "white",
            "linecolor": "white",
            "ticks": ""
           }
          },
          "title": {
           "x": 0.05
          },
          "xaxis": {
           "automargin": true,
           "gridcolor": "white",
           "linecolor": "white",
           "ticks": "",
           "title": {
            "standoff": 15
           },
           "zerolinecolor": "white",
           "zerolinewidth": 2
          },
          "yaxis": {
           "automargin": true,
           "gridcolor": "white",
           "linecolor": "white",
           "ticks": "",
           "title": {
            "standoff": 15
           },
           "zerolinecolor": "white",
           "zerolinewidth": 2
          }
         }
        }
       }
      }
     },
     "metadata": {},
     "output_type": "display_data"
    }
   ],
   "source": [
    "time0 = extract_time(\"/home/user/BachelorThesis/trecxcoefftests/tiptoe_short/0367/Laser\")\n",
    "field0 = extractField_0(\"/home/user/BachelorThesis/trecxcoefftests/tiptoe_short/0367/Laser\")\n",
    "\n",
    "def cos8Envelope(t, fwhm):\n",
    "    return (np.cos(-t**2/ fwhm))**8\n",
    "\n",
    "fig = go.Figure()\n",
    "fig.add_trace(go.Scatter(x=np.array(time0), y=np.array(field0), mode='lines', name='field0'))\n",
    "#fig.add_trace(go.Scatter(x=np.array(time0), y=cos8Envelope(np.array(time0), 1e-15), mode='lines', name='cos8Envelope'))"
   ]
  }
 ],
 "metadata": {
  "kernelspec": {
   "display_name": "Python 3",
   "language": "python",
   "name": "python3"
  },
  "language_info": {
   "codemirror_mode": {
    "name": "ipython",
    "version": 3
   },
   "file_extension": ".py",
   "mimetype": "text/x-python",
   "name": "python",
   "nbconvert_exporter": "python",
   "pygments_lexer": "ipython3",
   "version": "3.10.12"
  }
 },
 "nbformat": 4,
 "nbformat_minor": 2
}
